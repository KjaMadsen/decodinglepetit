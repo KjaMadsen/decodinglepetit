{
 "cells": [
  {
   "cell_type": "code",
   "execution_count": 1,
   "metadata": {},
   "outputs": [
    {
     "name": "stderr",
     "output_type": "stream",
     "text": [
      "c:\\Users\\kjart\\anaconda3\\envs\\cogSciEnv\\lib\\site-packages\\tqdm\\auto.py:22: TqdmWarning: IProgress not found. Please update jupyter and ipywidgets. See https://ipywidgets.readthedocs.io/en/stable/user_install.html\n",
      "  from .autonotebook import tqdm as notebook_tqdm\n"
     ]
    }
   ],
   "source": [
    "#Train, val, Test splitter\n",
    "import train_pytorch\n",
    "import prepare_dataset\n",
    "import random\n",
    "import os \n",
    "os.chdir(\"../../\")"
   ]
  },
  {
   "cell_type": "code",
   "execution_count": 2,
   "metadata": {},
   "outputs": [],
   "source": [
    "language = \"EN\"\n",
    "unsorted_data_dir = \"raw_data/derivatives/\"\n",
    "annotation_file = f\"raw_data/annotation/{language}/lppEN_word_information.csv\"\n",
    "random.seed(1234)\n",
    "\n",
    "#prepare_dataset.clear_data_dir()\n",
    "##the split is (0.8,0.1,0.1)\n",
    "#prepare_dataset.fill_data_dir(unsorted_data_dir, prepare_dataset.config1, language)\n"
   ]
  },
  {
   "cell_type": "code",
   "execution_count": 3,
   "metadata": {},
   "outputs": [],
   "source": [
    "pos = \"NOUN\"\n",
    "vocab = [\"picture\", \"forest\", \"bridge\", \"golf\"]\n",
    "oov = \"-1\"\n",
    "binary = False\n",
    "\n",
    "#prepare_dataset.prepare_labels(annotation_file, \"data/\", language, pos=pos, oov=oov)\n",
    "#prepare_dataset.prepare_handpicked_labels(annotation_file, \"data/\", vocab)\n",
    "#binary = prepare_dataset.convert_to_binary_labels(\"data/\", oov, language)"
   ]
  },
  {
   "cell_type": "code",
   "execution_count": 4,
   "metadata": {},
   "outputs": [
    {
     "name": "stderr",
     "output_type": "stream",
     "text": [
      "c:\\Users\\kjart\\OneDrive\\Dokumenter\\KU\\3. semester\\Cog sci 3\\CompCogSci3\\mt_deep-master\\scripts\\model_m2dcnn.py:78: UserWarning: nn.init.xavier_uniform is now deprecated in favor of nn.init.xavier_uniform_.\n",
      "  nn.init.xavier_uniform(m.weight, gain=nn.init.calculate_gain('relu'))\n"
     ]
    },
    {
     "name": "stdout",
     "output_type": "stream",
     "text": [
      "cuda\n",
      "Epoch 1/5\n",
      "-------------\n",
      "{'train': <torch.utils.data.dataloader.DataLoader object at 0x000002466480E6E0>, 'valid': <torch.utils.data.dataloader.DataLoader object at 0x000002466480E620>, 'test': <torch.utils.data.dataloader.DataLoader object at 0x0000024663DC7F40>}\n",
      " 0.02 %\n",
      " 0.04 %\n",
      " 0.06 %\n",
      " 0.07 %\n"
     ]
    },
    {
     "ename": "KeyboardInterrupt",
     "evalue": "",
     "output_type": "error",
     "traceback": [
      "\u001b[1;31m---------------------------------------------------------------------------\u001b[0m",
      "\u001b[1;31mKeyboardInterrupt\u001b[0m                         Traceback (most recent call last)",
      "Cell \u001b[1;32mIn [4], line 1\u001b[0m\n\u001b[1;32m----> 1\u001b[0m train_pytorch\u001b[39m.\u001b[39;49mtrain(binary\u001b[39m=\u001b[39;49mbinary, batch_size \u001b[39m=\u001b[39;49m \u001b[39m100\u001b[39;49m, num_epochs \u001b[39m=\u001b[39;49m \u001b[39m5\u001b[39;49m)\n",
      "File \u001b[1;32mc:\\Users\\kjart\\OneDrive\\Dokumenter\\KU\\3. semester\\Cog sci 3\\CompCogSci3\\mt_deep-master\\scripts\\train_pytorch.py:225\u001b[0m, in \u001b[0;36mtrain\u001b[1;34m(binary, batch_size, num_epochs)\u001b[0m\n\u001b[0;32m    223\u001b[0m         nb_classes \u001b[39m=\u001b[39m \u001b[39mlen\u001b[39m(f\u001b[39m.\u001b[39mreadlines())\n\u001b[0;32m    224\u001b[0m path \u001b[39m=\u001b[39m [\u001b[39m\"\u001b[39m\u001b[39mdata/Train\u001b[39m\u001b[39m\"\u001b[39m, \u001b[39m\"\u001b[39m\u001b[39mdata/Val\u001b[39m\u001b[39m\"\u001b[39m, \u001b[39m\"\u001b[39m\u001b[39mdata/Test\u001b[39m\u001b[39m\"\u001b[39m]\n\u001b[1;32m--> 225\u001b[0m train_m2dcnn(path, \u001b[39m\"\u001b[39;49m\u001b[39mcond\u001b[39;49m\u001b[39m\"\u001b[39;49m, nb_classes\u001b[39m=\u001b[39;49mnb_classes, batch_size\u001b[39m=\u001b[39;49mbatch_size, num_epochs\u001b[39m=\u001b[39;49mnum_epochs)\n",
      "File \u001b[1;32mc:\\Users\\kjart\\OneDrive\\Dokumenter\\KU\\3. semester\\Cog sci 3\\CompCogSci3\\mt_deep-master\\scripts\\train_pytorch.py:167\u001b[0m, in \u001b[0;36mtrain_m2dcnn\u001b[1;34m(dataset_path, condition, nb_classes, batch_size, num_epochs)\u001b[0m\n\u001b[0;32m    164\u001b[0m optimizer \u001b[39m=\u001b[39m Adam(params\u001b[39m=\u001b[39mmodel\u001b[39m.\u001b[39mparameters(),lr\u001b[39m=\u001b[39m\u001b[39m0.001\u001b[39m,betas\u001b[39m=\u001b[39m(\u001b[39m0.9\u001b[39m, \u001b[39m0.999\u001b[39m))\n\u001b[0;32m    165\u001b[0m scheduler \u001b[39m=\u001b[39m ExponentialLR(optimizer, gamma\u001b[39m=\u001b[39m\u001b[39m0.99\u001b[39m)\n\u001b[1;32m--> 167\u001b[0m model, train_accuracy, valid_accuracy \u001b[39m=\u001b[39m train_model_m2dcnn(model, dataloaders_dict, criterion,\n\u001b[0;32m    168\u001b[0m                                                     optimizer, scheduler, num_epochs \u001b[39m=\u001b[39;49m num_epochs)\n\u001b[0;32m    169\u001b[0m model, test_accuracy \u001b[39m=\u001b[39m test_model(model, dataloaders_dict, nb_classes)\n\u001b[0;32m    171\u001b[0m plot_loss_accuracy(train_accuracy, valid_accuracy, test_accuracy, condition)\n",
      "File \u001b[1;32mc:\\Users\\kjart\\OneDrive\\Dokumenter\\KU\\3. semester\\Cog sci 3\\CompCogSci3\\mt_deep-master\\scripts\\train_pytorch.py:52\u001b[0m, in \u001b[0;36mtrain_model_m2dcnn\u001b[1;34m(model, dataloaders_dict, criterion, optimizer, scheduler, num_epochs, schedule)\u001b[0m\n\u001b[0;32m     50\u001b[0m length \u001b[39m=\u001b[39m \u001b[39mlen\u001b[39m(dataloaders_dict[phase]\u001b[39m.\u001b[39mdataset)\n\u001b[0;32m     51\u001b[0m \u001b[39mprint\u001b[39m(dataloaders_dict)\n\u001b[1;32m---> 52\u001b[0m \u001b[39mfor\u001b[39;00m inputs, labels \u001b[39min\u001b[39;00m dataloaders_dict[phase]:\n\u001b[0;32m     53\u001b[0m     iteration \u001b[39m+\u001b[39m\u001b[39m=\u001b[39m \u001b[39m1\u001b[39m\n\u001b[0;32m     54\u001b[0m     \u001b[39mif\u001b[39;00m iteration\u001b[39m%\u001b[39m\u001b[39m10\u001b[39m\u001b[39m==\u001b[39m\u001b[39m0\u001b[39m:\n",
      "File \u001b[1;32mc:\\Users\\kjart\\anaconda3\\envs\\cogSciEnv\\lib\\site-packages\\torch\\utils\\data\\dataloader.py:628\u001b[0m, in \u001b[0;36m_BaseDataLoaderIter.__next__\u001b[1;34m(self)\u001b[0m\n\u001b[0;32m    625\u001b[0m \u001b[39mif\u001b[39;00m \u001b[39mself\u001b[39m\u001b[39m.\u001b[39m_sampler_iter \u001b[39mis\u001b[39;00m \u001b[39mNone\u001b[39;00m:\n\u001b[0;32m    626\u001b[0m     \u001b[39m# TODO(https://github.com/pytorch/pytorch/issues/76750)\u001b[39;00m\n\u001b[0;32m    627\u001b[0m     \u001b[39mself\u001b[39m\u001b[39m.\u001b[39m_reset()  \u001b[39m# type: ignore[call-arg]\u001b[39;00m\n\u001b[1;32m--> 628\u001b[0m data \u001b[39m=\u001b[39m \u001b[39mself\u001b[39;49m\u001b[39m.\u001b[39;49m_next_data()\n\u001b[0;32m    629\u001b[0m \u001b[39mself\u001b[39m\u001b[39m.\u001b[39m_num_yielded \u001b[39m+\u001b[39m\u001b[39m=\u001b[39m \u001b[39m1\u001b[39m\n\u001b[0;32m    630\u001b[0m \u001b[39mif\u001b[39;00m \u001b[39mself\u001b[39m\u001b[39m.\u001b[39m_dataset_kind \u001b[39m==\u001b[39m _DatasetKind\u001b[39m.\u001b[39mIterable \u001b[39mand\u001b[39;00m \\\n\u001b[0;32m    631\u001b[0m         \u001b[39mself\u001b[39m\u001b[39m.\u001b[39m_IterableDataset_len_called \u001b[39mis\u001b[39;00m \u001b[39mnot\u001b[39;00m \u001b[39mNone\u001b[39;00m \u001b[39mand\u001b[39;00m \\\n\u001b[0;32m    632\u001b[0m         \u001b[39mself\u001b[39m\u001b[39m.\u001b[39m_num_yielded \u001b[39m>\u001b[39m \u001b[39mself\u001b[39m\u001b[39m.\u001b[39m_IterableDataset_len_called:\n",
      "File \u001b[1;32mc:\\Users\\kjart\\anaconda3\\envs\\cogSciEnv\\lib\\site-packages\\torch\\utils\\data\\dataloader.py:671\u001b[0m, in \u001b[0;36m_SingleProcessDataLoaderIter._next_data\u001b[1;34m(self)\u001b[0m\n\u001b[0;32m    669\u001b[0m \u001b[39mdef\u001b[39;00m \u001b[39m_next_data\u001b[39m(\u001b[39mself\u001b[39m):\n\u001b[0;32m    670\u001b[0m     index \u001b[39m=\u001b[39m \u001b[39mself\u001b[39m\u001b[39m.\u001b[39m_next_index()  \u001b[39m# may raise StopIteration\u001b[39;00m\n\u001b[1;32m--> 671\u001b[0m     data \u001b[39m=\u001b[39m \u001b[39mself\u001b[39;49m\u001b[39m.\u001b[39;49m_dataset_fetcher\u001b[39m.\u001b[39;49mfetch(index)  \u001b[39m# may raise StopIteration\u001b[39;00m\n\u001b[0;32m    672\u001b[0m     \u001b[39mif\u001b[39;00m \u001b[39mself\u001b[39m\u001b[39m.\u001b[39m_pin_memory:\n\u001b[0;32m    673\u001b[0m         data \u001b[39m=\u001b[39m _utils\u001b[39m.\u001b[39mpin_memory\u001b[39m.\u001b[39mpin_memory(data, \u001b[39mself\u001b[39m\u001b[39m.\u001b[39m_pin_memory_device)\n",
      "File \u001b[1;32mc:\\Users\\kjart\\anaconda3\\envs\\cogSciEnv\\lib\\site-packages\\torch\\utils\\data\\_utils\\fetch.py:58\u001b[0m, in \u001b[0;36m_MapDatasetFetcher.fetch\u001b[1;34m(self, possibly_batched_index)\u001b[0m\n\u001b[0;32m     56\u001b[0m         data \u001b[39m=\u001b[39m \u001b[39mself\u001b[39m\u001b[39m.\u001b[39mdataset\u001b[39m.\u001b[39m__getitems__(possibly_batched_index)\n\u001b[0;32m     57\u001b[0m     \u001b[39melse\u001b[39;00m:\n\u001b[1;32m---> 58\u001b[0m         data \u001b[39m=\u001b[39m [\u001b[39mself\u001b[39m\u001b[39m.\u001b[39mdataset[idx] \u001b[39mfor\u001b[39;00m idx \u001b[39min\u001b[39;00m possibly_batched_index]\n\u001b[0;32m     59\u001b[0m \u001b[39melse\u001b[39;00m:\n\u001b[0;32m     60\u001b[0m     data \u001b[39m=\u001b[39m \u001b[39mself\u001b[39m\u001b[39m.\u001b[39mdataset[possibly_batched_index]\n",
      "File \u001b[1;32mc:\\Users\\kjart\\anaconda3\\envs\\cogSciEnv\\lib\\site-packages\\torch\\utils\\data\\_utils\\fetch.py:58\u001b[0m, in \u001b[0;36m<listcomp>\u001b[1;34m(.0)\u001b[0m\n\u001b[0;32m     56\u001b[0m         data \u001b[39m=\u001b[39m \u001b[39mself\u001b[39m\u001b[39m.\u001b[39mdataset\u001b[39m.\u001b[39m__getitems__(possibly_batched_index)\n\u001b[0;32m     57\u001b[0m     \u001b[39melse\u001b[39;00m:\n\u001b[1;32m---> 58\u001b[0m         data \u001b[39m=\u001b[39m [\u001b[39mself\u001b[39;49m\u001b[39m.\u001b[39;49mdataset[idx] \u001b[39mfor\u001b[39;00m idx \u001b[39min\u001b[39;00m possibly_batched_index]\n\u001b[0;32m     59\u001b[0m \u001b[39melse\u001b[39;00m:\n\u001b[0;32m     60\u001b[0m     data \u001b[39m=\u001b[39m \u001b[39mself\u001b[39m\u001b[39m.\u001b[39mdataset[possibly_batched_index]\n",
      "File \u001b[1;32mc:\\Users\\kjart\\OneDrive\\Dokumenter\\KU\\3. semester\\Cog sci 3\\CompCogSci3\\mt_deep-master\\scripts\\dataset.py:24\u001b[0m, in \u001b[0;36mlpp_Dataset.__getitem__\u001b[1;34m(self, index)\u001b[0m\n\u001b[0;32m     23\u001b[0m \u001b[39mdef\u001b[39;00m \u001b[39m__getitem__\u001b[39m(\u001b[39mself\u001b[39m, index):\n\u001b[1;32m---> 24\u001b[0m     img \u001b[39m=\u001b[39m \u001b[39mself\u001b[39;49m\u001b[39m.\u001b[39;49mnormalize_data(np\u001b[39m.\u001b[39;49mload(\u001b[39mself\u001b[39;49m\u001b[39m.\u001b[39;49mfile_list[index]))\n\u001b[0;32m     25\u001b[0m     run \u001b[39m=\u001b[39m \u001b[39mint\u001b[39m(\u001b[39mself\u001b[39m\u001b[39m.\u001b[39mfile_list[index][\u001b[39mself\u001b[39m\u001b[39m.\u001b[39mrun_index])\n\u001b[0;32m     26\u001b[0m     target \u001b[39m=\u001b[39m \u001b[39mself\u001b[39m\u001b[39m.\u001b[39mlabel_dict[run][index\u001b[39m%\u001b[39m\u001b[39mlen\u001b[39m(\u001b[39mself\u001b[39m\u001b[39m.\u001b[39mlabel_dict[run])]\n",
      "File \u001b[1;32mc:\\Users\\kjart\\OneDrive\\Dokumenter\\KU\\3. semester\\Cog sci 3\\CompCogSci3\\mt_deep-master\\scripts\\dataset.py:38\u001b[0m, in \u001b[0;36mlpp_Dataset.normalize_data\u001b[1;34m(self, data)\u001b[0m\n\u001b[0;32m     36\u001b[0m \u001b[39mdef\u001b[39;00m \u001b[39mnormalize_data\u001b[39m(\u001b[39mself\u001b[39m, data):\n\u001b[0;32m     37\u001b[0m     \u001b[39m# Data auguentaion\u001b[39;00m\n\u001b[1;32m---> 38\u001b[0m     data \u001b[39m=\u001b[39m scipy\u001b[39m.\u001b[39;49mstats\u001b[39m.\u001b[39;49mzscore(data, axis\u001b[39m=\u001b[39;49m\u001b[39mNone\u001b[39;49;00m)\n\u001b[0;32m     39\u001b[0m     data[\u001b[39m~\u001b[39m np\u001b[39m.\u001b[39misfinite(data)] \u001b[39m=\u001b[39m \u001b[39m0\u001b[39m\n\u001b[0;32m     40\u001b[0m     \u001b[39mreturn\u001b[39;00m data\n",
      "File \u001b[1;32mc:\\Users\\kjart\\anaconda3\\envs\\cogSciEnv\\lib\\site-packages\\scipy\\stats\\_stats_py.py:2733\u001b[0m, in \u001b[0;36mzscore\u001b[1;34m(a, axis, ddof, nan_policy)\u001b[0m\n\u001b[0;32m   2665\u001b[0m \u001b[39mdef\u001b[39;00m \u001b[39mzscore\u001b[39m(a, axis\u001b[39m=\u001b[39m\u001b[39m0\u001b[39m, ddof\u001b[39m=\u001b[39m\u001b[39m0\u001b[39m, nan_policy\u001b[39m=\u001b[39m\u001b[39m'\u001b[39m\u001b[39mpropagate\u001b[39m\u001b[39m'\u001b[39m):\n\u001b[0;32m   2666\u001b[0m     \u001b[39m\"\"\"\u001b[39;00m\n\u001b[0;32m   2667\u001b[0m \u001b[39m    Compute the z score.\u001b[39;00m\n\u001b[0;32m   2668\u001b[0m \n\u001b[1;32m   (...)\u001b[0m\n\u001b[0;32m   2731\u001b[0m \u001b[39m           [-0.91611681, -0.89090508,  1.4983032 ,  0.88731639, -0.5785977 ]])\u001b[39;00m\n\u001b[0;32m   2732\u001b[0m \u001b[39m    \"\"\"\u001b[39;00m\n\u001b[1;32m-> 2733\u001b[0m     \u001b[39mreturn\u001b[39;00m zmap(a, a, axis\u001b[39m=\u001b[39;49maxis, ddof\u001b[39m=\u001b[39;49mddof, nan_policy\u001b[39m=\u001b[39;49mnan_policy)\n",
      "File \u001b[1;32mc:\\Users\\kjart\\anaconda3\\envs\\cogSciEnv\\lib\\site-packages\\scipy\\stats\\_stats_py.py:2894\u001b[0m, in \u001b[0;36mzmap\u001b[1;34m(scores, compare, axis, ddof, nan_policy)\u001b[0m\n\u001b[0;32m   2892\u001b[0m std \u001b[39m=\u001b[39m a\u001b[39m.\u001b[39mstd(axis\u001b[39m=\u001b[39maxis, ddof\u001b[39m=\u001b[39mddof, keepdims\u001b[39m=\u001b[39m\u001b[39mTrue\u001b[39;00m)\n\u001b[0;32m   2893\u001b[0m \u001b[39mif\u001b[39;00m axis \u001b[39mis\u001b[39;00m \u001b[39mNone\u001b[39;00m:\n\u001b[1;32m-> 2894\u001b[0m     isconst \u001b[39m=\u001b[39m (a\u001b[39m.\u001b[39;49mitem(\u001b[39m0\u001b[39;49m) \u001b[39m==\u001b[39;49m a)\u001b[39m.\u001b[39;49mall()\n\u001b[0;32m   2895\u001b[0m \u001b[39melse\u001b[39;00m:\n\u001b[0;32m   2896\u001b[0m     isconst \u001b[39m=\u001b[39m (_first(a, axis) \u001b[39m==\u001b[39m a)\u001b[39m.\u001b[39mall(axis\u001b[39m=\u001b[39maxis, keepdims\u001b[39m=\u001b[39m\u001b[39mTrue\u001b[39;00m)\n",
      "File \u001b[1;32mc:\\Users\\kjart\\anaconda3\\envs\\cogSciEnv\\lib\\site-packages\\numpy\\core\\_methods.py:60\u001b[0m, in \u001b[0;36m_all\u001b[1;34m(a, axis, dtype, out, keepdims, where)\u001b[0m\n\u001b[0;32m     57\u001b[0m         \u001b[39mreturn\u001b[39;00m umr_any(a, axis, dtype, out, keepdims)\n\u001b[0;32m     58\u001b[0m     \u001b[39mreturn\u001b[39;00m umr_any(a, axis, dtype, out, keepdims, where\u001b[39m=\u001b[39mwhere)\n\u001b[1;32m---> 60\u001b[0m \u001b[39mdef\u001b[39;00m \u001b[39m_all\u001b[39m(a, axis\u001b[39m=\u001b[39m\u001b[39mNone\u001b[39;00m, dtype\u001b[39m=\u001b[39m\u001b[39mNone\u001b[39;00m, out\u001b[39m=\u001b[39m\u001b[39mNone\u001b[39;00m, keepdims\u001b[39m=\u001b[39m\u001b[39mFalse\u001b[39;00m, \u001b[39m*\u001b[39m, where\u001b[39m=\u001b[39m\u001b[39mTrue\u001b[39;00m):\n\u001b[0;32m     61\u001b[0m     \u001b[39m# Parsing keyword arguments is currently fairly slow, so avoid it for now\u001b[39;00m\n\u001b[0;32m     62\u001b[0m     \u001b[39mif\u001b[39;00m where \u001b[39mis\u001b[39;00m \u001b[39mTrue\u001b[39;00m:\n\u001b[0;32m     63\u001b[0m         \u001b[39mreturn\u001b[39;00m umr_all(a, axis, dtype, out, keepdims)\n",
      "\u001b[1;31mKeyboardInterrupt\u001b[0m: "
     ]
    }
   ],
   "source": [
    "train_pytorch.train(binary=binary, batch_size = 100, num_epochs = 5)"
   ]
  },
  {
   "cell_type": "code",
   "execution_count": null,
   "metadata": {},
   "outputs": [],
   "source": []
  }
 ],
 "metadata": {
  "kernelspec": {
   "display_name": "Python 3.10.8 ('cogSciEnv')",
   "language": "python",
   "name": "python3"
  },
  "language_info": {
   "codemirror_mode": {
    "name": "ipython",
    "version": 3
   },
   "file_extension": ".py",
   "mimetype": "text/x-python",
   "name": "python",
   "nbconvert_exporter": "python",
   "pygments_lexer": "ipython3",
   "version": "3.10.8"
  },
  "orig_nbformat": 4,
  "vscode": {
   "interpreter": {
    "hash": "ee8826d4702f16d0fb1dbf01a1d644cd38b1dd67f0d2287bca04130bed3d8f05"
   }
  }
 },
 "nbformat": 4,
 "nbformat_minor": 2
}
