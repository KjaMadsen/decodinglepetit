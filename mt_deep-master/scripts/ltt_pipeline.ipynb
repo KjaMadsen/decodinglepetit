{
 "cells": [
  {
   "cell_type": "code",
   "execution_count": 1,
   "metadata": {},
   "outputs": [],
   "source": [
    "#Train, val, Test splitter\n",
    "import train_pytorch\n",
    "import prepare_dataset\n",
    "import random\n",
    "import time \n",
    "from collections import Counter\n",
    "import os\n",
    "import numpy as np\n",
    "import shutil\n",
    "#os.chdir(\"/Users/kjartan/Documents/CompCogSci3/\") \n",
    "os.chdir(r\"C:\\Users\\kjart\\OneDrive\\Dokumenter\\KU\\3. semester\\Cog sci 3\\CompCogSci3\")"
   ]
  },
  {
   "cell_type": "code",
   "execution_count": 2,
   "metadata": {},
   "outputs": [],
   "source": [
    "language = \"EN\"\n",
    "unsorted_data_dir = \"raw_data/derivatives/\"\n",
    "annotation_file = f\"raw_data/annotation/{language}/lpp{language}_word_information.csv\"\n",
    "random.seed(1234)\n",
    "\n",
    "pos = \"ADJ\"\n",
    "oov = \"-1\"\n",
    "binary = False\n"
   ]
  },
  {
   "cell_type": "code",
   "execution_count": 27,
   "metadata": {},
   "outputs": [],
   "source": [
    "#prepare_dataset.clear_data_dir()\n",
    "#shutil.rmtree(\"aux_data/\")\n",
    "##the split is (0.8,0.1,0.1)\n",
    "#prepare_dataset.fill_data_dir(unsorted_data_dir, prepare_dataset.config1, language)"
   ]
  },
  {
   "cell_type": "code",
   "execution_count": 3,
   "metadata": {},
   "outputs": [],
   "source": [
    "#Move data back from aux_data/\n",
    "for phase in os.listdir(\"aux_data/\"):\n",
    "    for run in os.listdir(f\"aux_data/{phase}\"):\n",
    "        path = f\"aux_data/{phase}/{run}/{language}/\"\n",
    "        for file in os.listdir(path):\n",
    "            file_path = f\"data/{phase}/{run}/{language}/{file}\"\n",
    "            shutil.move(f\"aux_data/{phase}/{run}/{language}/{file}\",file_path)\n",
    "            #time.sleep(0.00001)"
   ]
  },
  {
   "cell_type": "code",
   "execution_count": 4,
   "metadata": {},
   "outputs": [
    {
     "name": "stdout",
     "output_type": "stream",
     "text": [
      "277  = number of classes\n"
     ]
    }
   ],
   "source": [
    "\n",
    "\n",
    "prepare_dataset.prepare_labels(annotation_file, \"data/\", language, pos=pos, oov=oov)\n",
    "\n",
    "#binary = prepare_dataset.convert_to_binary_labels(\"data/\", oov, language)"
   ]
  },
  {
   "cell_type": "code",
   "execution_count": 5,
   "metadata": {},
   "outputs": [],
   "source": [
    "all_labels = []\n",
    "for i in os.listdir(\"data\"):\n",
    "    if os.path.isdir(\"data/\"+i):\n",
    "        for phase in os.listdir(\"data/\"+i):\n",
    "            for run in range(9):\n",
    "                path = f\"data/{i}/{run}/{language}/labels.txt\"\n",
    "                with open(path, \"r\") as f:\n",
    "                    lines = f.readlines()\n",
    "                    for l in lines:\n",
    "                        all_labels.append(l.strip(\"\\n\"))\n",
    "\n",
    "from collections import Counter\n",
    "import codecs\n",
    "\n",
    "most_common = Counter(all_labels).most_common()\n",
    "label_dict = {}\n",
    "with codecs.open(\"label_dict.txt\", \"r\", encoding=\"utf-8\") as f:\n",
    "    for i in f.readlines():\n",
    "        k = i.split(\"=\")\n",
    "        label_dict[k[1].strip(\"\\n \")] = k[0]\n",
    "most_common_lemmas = []\n",
    "for i in range(len(most_common)):\n",
    "    lbl = most_common[i][0]\n",
    "    most_common_lemmas.append((label_dict[lbl], most_common[i][1]))\n",
    "\n"
   ]
  },
  {
   "cell_type": "code",
   "execution_count": 6,
   "metadata": {},
   "outputs": [
    {
     "name": "stdout",
     "output_type": "stream",
     "text": [
      "['good', 'other', 'important', 'old', 'small', 'same', 'first', 'beautiful', 'able', 'more', 'long', 'conceited', 'much', 'single', 'right']\n",
      "[('good ', 1134), ('other ', 513), ('important ', 513), ('old ', 459), ('small ', 459), ('same ', 405), ('first ', 378), ('beautiful ', 378), ('able ', 351), ('more ', 351), ('long ', 324), ('conceited ', 324), ('much ', 297), ('single ', 297), ('right ', 243)]\n"
     ]
    }
   ],
   "source": [
    "vocab15 = []\n",
    "off_set = 1\n",
    "label_stats = most_common_lemmas[off_set+1:15+off_set+1]\n",
    "for w, _ in label_stats: #top 15 words\n",
    "    vocab15.append(w.strip())\n",
    "    \n",
    "print(vocab15)\n",
    "print(label_stats)"
   ]
  },
  {
   "cell_type": "code",
   "execution_count": 7,
   "metadata": {},
   "outputs": [
    {
     "name": "stdout",
     "output_type": "stream",
     "text": [
      "16  = number of classes\n"
     ]
    }
   ],
   "source": [
    "vocab = vocab15\n",
    "prepare_dataset.prepare_handpicked_labels(annotation_file, \"data/\", vocab, oov=oov)"
   ]
  },
  {
   "cell_type": "code",
   "execution_count": 8,
   "metadata": {},
   "outputs": [
    {
     "name": "stdout",
     "output_type": "stream",
     "text": [
      "12\n",
      "moved  108554  files\n"
     ]
    }
   ],
   "source": [
    "#Exclude data that corresponds to oov\n",
    "with codecs.open(\"label_dict.txt\", \"r\", encoding=\"utf-8\") as f:\n",
    "    for i in f.readlines():\n",
    "        k = i.split(\"=\")\n",
    "        if k[0].strip() == oov:\n",
    "            label_2_remove = int(k[1].strip(\"\\n \"))\n",
    "            break\n",
    "print(label_2_remove)\n",
    "labels_dict = {}\n",
    "for i in os.listdir(\"data\"):\n",
    "    if os.path.isdir(\"data/\"+i):\n",
    "        for phase in os.listdir(\"data/\"+i):\n",
    "            for run in range(9):\n",
    "                labels = np.loadtxt(f\"data/{i}/{run}/{language}/labels.txt\")\n",
    "                labels_dict[run] = labels\n",
    "\n",
    "exclusion_idxs = {k:[] for k in range(9)}\n",
    "\n",
    "for run in labels_dict.keys():\n",
    "    for idx, label in enumerate(labels_dict[run]):\n",
    "        if label==label_2_remove:\n",
    "            exclusion_idxs[run].append(idx)\n",
    "\n",
    "\n",
    "for i in os.listdir(\"data\"):\n",
    "    if os.path.isdir(\"data/\"+i):\n",
    "        for phase in os.listdir(\"data/\"+i):\n",
    "            for run in range(9):\n",
    "                path = f\"data/{i}/{run}/{language}/labels.txt\"\n",
    "                with open(path, \"r\") as f:\n",
    "                    lines = f.readlines()\n",
    "                with open(path, \"w\") as f:\n",
    "                    for line in lines:\n",
    "                        if line.strip(\"\\n \") != str(label_2_remove):\n",
    "                            f.write(line)\n",
    "\n",
    "count = 0\n",
    "for phase in os.listdir(\"data/\"):\n",
    "    for run in range(9):\n",
    "        path = f\"data/{phase}/{run}/{language}/\"\n",
    "        for file in os.listdir(path):\n",
    "            if file.endswith(\".txt\"):\n",
    "                continue\n",
    "            file_path = f\"data/{phase}/{run}/{language}/{file}\"\n",
    "            idx = file.split(\"_\")[-1][:-4]\n",
    "            if int(idx) in exclusion_idxs[run]:\n",
    "                count +=1 \n",
    "                dest = f\"aux_data/{phase}/{run}/{language}/\"\n",
    "                if not os.path.exists(dest):\n",
    "                    os.makedirs(dest)\n",
    "                shutil.move(file_path, f\"aux_data/{phase}/{run}/{language}/\")\n",
    "                #time.sleep(0.00001)\n",
    "print(\"moved \", count, \" files\")\n"
   ]
  },
  {
   "cell_type": "code",
   "execution_count": 9,
   "metadata": {},
   "outputs": [
    {
     "data": {
      "text/plain": [
       "{'Test': 247, 'Train': 11850, 'Val': 1493}"
      ]
     },
     "execution_count": 9,
     "metadata": {},
     "output_type": "execute_result"
    }
   ],
   "source": [
    "\n",
    "def count_files():\n",
    "    counts = {}\n",
    "    # Iterate directory\n",
    "    for phase in os.listdir(\"data\"):\n",
    "        if os.path.isdir(\"data/\"+phase):\n",
    "            count=0\n",
    "            for run in os.listdir(f\"data/{phase}/\"):\n",
    "                for file in os.listdir(f\"data/{phase}/{run}/{language}\"):\n",
    "                    if file.endswith(\".npy\"):\n",
    "                        count += 1\n",
    "        counts[phase] = count\n",
    "    return counts\n",
    "\n",
    "count_files()"
   ]
  },
  {
   "cell_type": "code",
   "execution_count": 10,
   "metadata": {},
   "outputs": [
    {
     "data": {
      "text/plain": [
       "0.07669309325450148"
      ]
     },
     "execution_count": 10,
     "metadata": {},
     "output_type": "execute_result"
    }
   ],
   "source": [
    "def calc_baseline(lbl = \"data/Test/\", language = \"EN\"):\n",
    "    prob = 0\n",
    "    labels = []\n",
    "    for run in os.listdir(lbl):\n",
    "        path = lbl +\"/\"+ run + \"/\" + language\n",
    "        multiplier = len(os.listdir(path))-1\n",
    "        if multiplier>0:\n",
    "            for _ in range(int(multiplier/len(np.loadtxt(path+\"/labels.txt\")))):\n",
    "                labels.append(np.loadtxt(path+\"/labels.txt\"))\n",
    "    labels = np.concatenate(labels).ravel()\n",
    "    total = labels.size\n",
    "    label_c = Counter(labels)\n",
    "    for _, v in label_c.items():\n",
    "        prob += (v/total)**2\n",
    "    return prob\n",
    "\n",
    "calc_baseline()"
   ]
  },
  {
   "cell_type": "code",
   "execution_count": 11,
   "metadata": {},
   "outputs": [],
   "source": [
    "import json\n",
    "import datetime\n",
    "with codecs.open(\"config_stats.txt\", \"a\", encoding=\"utf-8\") as f:\n",
    "    f.write(\"\\n\")\n",
    "    f.write(f\"{datetime.datetime.now()}\\n\")\n",
    "    f.write(f\"{off_set+1}th to {off_set+15}th\\n\")\n",
    "    for i in label_stats:\n",
    "        f.write(str(i) + \", \")\n",
    "    f.write(\"\\n\")\n",
    "    f.write(json.dumps(count_files()))\n",
    "    f.write(\"\\n\")\n",
    "f.close()"
   ]
  },
  {
   "cell_type": "code",
   "execution_count": 12,
   "metadata": {},
   "outputs": [],
   "source": [
    "batch_size=50\n",
    "config = f\"config2_{language}_top15{pos}\""
   ]
  },
  {
   "cell_type": "code",
   "execution_count": 13,
   "metadata": {},
   "outputs": [
    {
     "name": "stdout",
     "output_type": "stream",
     "text": [
      "2022-12-11 12:52:20.704676\n"
     ]
    },
    {
     "name": "stderr",
     "output_type": "stream",
     "text": [
      "c:\\Users\\kjart\\OneDrive\\Dokumenter\\KU\\3. semester\\Cog sci 3\\CompCogSci3\\mt_deep-master\\scripts\\model_m2dcnn.py:78: UserWarning: nn.init.xavier_uniform is now deprecated in favor of nn.init.xavier_uniform_.\n",
      "  nn.init.xavier_uniform(m.weight, gain=nn.init.calculate_gain('relu'))\n"
     ]
    },
    {
     "name": "stdout",
     "output_type": "stream",
     "text": [
      "cuda\n",
      "Epoch 1/10\n",
      "-------------\n",
      "{'train': <torch.utils.data.dataloader.DataLoader object at 0x0000012EA6D0EA40>, 'valid': <torch.utils.data.dataloader.DataLoader object at 0x0000012EA6D0FA30>, 'test': <torch.utils.data.dataloader.DataLoader object at 0x0000012EA6D0DF60>}\n",
      " 84.39 %\n",
      " 168.78 %\n",
      "##### train Loss: 2.7489 Acc: 0.1030 #####\n",
      "{'train': <torch.utils.data.dataloader.DataLoader object at 0x0000012EA6D0EA40>, 'valid': <torch.utils.data.dataloader.DataLoader object at 0x0000012EA6D0FA30>, 'test': <torch.utils.data.dataloader.DataLoader object at 0x0000012EA6D0DF60>}\n",
      "##### valid Loss: 2.7197 Acc: 0.1360 #####\n",
      "Epoch 2/10\n",
      "-------------\n",
      "{'train': <torch.utils.data.dataloader.DataLoader object at 0x0000012EA6D0EA40>, 'valid': <torch.utils.data.dataloader.DataLoader object at 0x0000012EA6D0FA30>, 'test': <torch.utils.data.dataloader.DataLoader object at 0x0000012EA6D0DF60>}\n",
      " 84.39 %\n",
      " 168.78 %\n",
      "##### train Loss: 2.6574 Acc: 0.1521 #####\n",
      "{'train': <torch.utils.data.dataloader.DataLoader object at 0x0000012EA6D0EA40>, 'valid': <torch.utils.data.dataloader.DataLoader object at 0x0000012EA6D0FA30>, 'test': <torch.utils.data.dataloader.DataLoader object at 0x0000012EA6D0DF60>}\n",
      "##### valid Loss: 2.7752 Acc: 0.1299 #####\n",
      "Epoch 3/10\n",
      "-------------\n",
      "{'train': <torch.utils.data.dataloader.DataLoader object at 0x0000012EA6D0EA40>, 'valid': <torch.utils.data.dataloader.DataLoader object at 0x0000012EA6D0FA30>, 'test': <torch.utils.data.dataloader.DataLoader object at 0x0000012EA6D0DF60>}\n",
      " 84.39 %\n",
      " 168.78 %\n",
      "##### train Loss: 2.6187 Acc: 0.1612 #####\n",
      "{'train': <torch.utils.data.dataloader.DataLoader object at 0x0000012EA6D0EA40>, 'valid': <torch.utils.data.dataloader.DataLoader object at 0x0000012EA6D0FA30>, 'test': <torch.utils.data.dataloader.DataLoader object at 0x0000012EA6D0DF60>}\n",
      "##### valid Loss: 2.7553 Acc: 0.1407 #####\n",
      "Epoch 4/10\n",
      "-------------\n",
      "{'train': <torch.utils.data.dataloader.DataLoader object at 0x0000012EA6D0EA40>, 'valid': <torch.utils.data.dataloader.DataLoader object at 0x0000012EA6D0FA30>, 'test': <torch.utils.data.dataloader.DataLoader object at 0x0000012EA6D0DF60>}\n",
      " 84.39 %\n",
      " 168.78 %\n",
      "##### train Loss: 2.5785 Acc: 0.1721 #####\n",
      "{'train': <torch.utils.data.dataloader.DataLoader object at 0x0000012EA6D0EA40>, 'valid': <torch.utils.data.dataloader.DataLoader object at 0x0000012EA6D0FA30>, 'test': <torch.utils.data.dataloader.DataLoader object at 0x0000012EA6D0DF60>}\n",
      "##### valid Loss: 2.8465 Acc: 0.1407 #####\n",
      "Epoch 5/10\n",
      "-------------\n",
      "{'train': <torch.utils.data.dataloader.DataLoader object at 0x0000012EA6D0EA40>, 'valid': <torch.utils.data.dataloader.DataLoader object at 0x0000012EA6D0FA30>, 'test': <torch.utils.data.dataloader.DataLoader object at 0x0000012EA6D0DF60>}\n",
      " 84.39 %\n",
      " 168.78 %\n",
      "##### train Loss: 2.5453 Acc: 0.1846 #####\n",
      "{'train': <torch.utils.data.dataloader.DataLoader object at 0x0000012EA6D0EA40>, 'valid': <torch.utils.data.dataloader.DataLoader object at 0x0000012EA6D0FA30>, 'test': <torch.utils.data.dataloader.DataLoader object at 0x0000012EA6D0DF60>}\n",
      "##### valid Loss: 2.7973 Acc: 0.1246 #####\n",
      "Epoch 6/10\n",
      "-------------\n",
      "{'train': <torch.utils.data.dataloader.DataLoader object at 0x0000012EA6D0EA40>, 'valid': <torch.utils.data.dataloader.DataLoader object at 0x0000012EA6D0FA30>, 'test': <torch.utils.data.dataloader.DataLoader object at 0x0000012EA6D0DF60>}\n",
      " 84.39 %\n",
      " 168.78 %\n",
      "##### train Loss: 2.5142 Acc: 0.1884 #####\n",
      "{'train': <torch.utils.data.dataloader.DataLoader object at 0x0000012EA6D0EA40>, 'valid': <torch.utils.data.dataloader.DataLoader object at 0x0000012EA6D0FA30>, 'test': <torch.utils.data.dataloader.DataLoader object at 0x0000012EA6D0DF60>}\n",
      "##### valid Loss: 2.7649 Acc: 0.1092 #####\n",
      "Epoch 7/10\n",
      "-------------\n",
      "{'train': <torch.utils.data.dataloader.DataLoader object at 0x0000012EA6D0EA40>, 'valid': <torch.utils.data.dataloader.DataLoader object at 0x0000012EA6D0FA30>, 'test': <torch.utils.data.dataloader.DataLoader object at 0x0000012EA6D0DF60>}\n",
      " 84.39 %\n",
      " 168.78 %\n",
      "##### train Loss: 2.4871 Acc: 0.1938 #####\n",
      "{'train': <torch.utils.data.dataloader.DataLoader object at 0x0000012EA6D0EA40>, 'valid': <torch.utils.data.dataloader.DataLoader object at 0x0000012EA6D0FA30>, 'test': <torch.utils.data.dataloader.DataLoader object at 0x0000012EA6D0DF60>}\n",
      "##### valid Loss: 2.7709 Acc: 0.0965 #####\n",
      "Epoch 8/10\n",
      "-------------\n",
      "{'train': <torch.utils.data.dataloader.DataLoader object at 0x0000012EA6D0EA40>, 'valid': <torch.utils.data.dataloader.DataLoader object at 0x0000012EA6D0FA30>, 'test': <torch.utils.data.dataloader.DataLoader object at 0x0000012EA6D0DF60>}\n",
      " 84.39 %\n",
      " 168.78 %\n",
      "##### train Loss: 2.4564 Acc: 0.2024 #####\n",
      "{'train': <torch.utils.data.dataloader.DataLoader object at 0x0000012EA6D0EA40>, 'valid': <torch.utils.data.dataloader.DataLoader object at 0x0000012EA6D0FA30>, 'test': <torch.utils.data.dataloader.DataLoader object at 0x0000012EA6D0DF60>}\n",
      "##### valid Loss: 2.8935 Acc: 0.1206 #####\n",
      "Epoch 9/10\n",
      "-------------\n",
      "{'train': <torch.utils.data.dataloader.DataLoader object at 0x0000012EA6D0EA40>, 'valid': <torch.utils.data.dataloader.DataLoader object at 0x0000012EA6D0FA30>, 'test': <torch.utils.data.dataloader.DataLoader object at 0x0000012EA6D0DF60>}\n",
      " 84.39 %\n",
      " 168.78 %\n",
      "##### train Loss: 2.4447 Acc: 0.2035 #####\n",
      "{'train': <torch.utils.data.dataloader.DataLoader object at 0x0000012EA6D0EA40>, 'valid': <torch.utils.data.dataloader.DataLoader object at 0x0000012EA6D0FA30>, 'test': <torch.utils.data.dataloader.DataLoader object at 0x0000012EA6D0DF60>}\n",
      "##### valid Loss: 2.8106 Acc: 0.1380 #####\n",
      "Epoch 10/10\n",
      "-------------\n",
      "{'train': <torch.utils.data.dataloader.DataLoader object at 0x0000012EA6D0EA40>, 'valid': <torch.utils.data.dataloader.DataLoader object at 0x0000012EA6D0FA30>, 'test': <torch.utils.data.dataloader.DataLoader object at 0x0000012EA6D0DF60>}\n",
      " 84.39 %\n",
      " 168.78 %\n",
      "##### train Loss: 2.4284 Acc: 0.2039 #####\n",
      "{'train': <torch.utils.data.dataloader.DataLoader object at 0x0000012EA6D0EA40>, 'valid': <torch.utils.data.dataloader.DataLoader object at 0x0000012EA6D0FA30>, 'test': <torch.utils.data.dataloader.DataLoader object at 0x0000012EA6D0DF60>}\n",
      "##### valid Loss: 2.9284 Acc: 0.1112 #####\n"
     ]
    },
    {
     "data": {
      "application/vnd.jupyter.widget-view+json": {
       "model_id": "9cb8a92b6153464ebe6404a9dc37d81e",
       "version_major": 2,
       "version_minor": 0
      },
      "text/plain": [
       "  0%|          | 0/5 [00:00<?, ?it/s]"
      ]
     },
     "metadata": {},
     "output_type": "display_data"
    },
    {
     "name": "stdout",
     "output_type": "stream",
     "text": [
      "Test Accuracy: 0.0567\n"
     ]
    },
    {
     "data": {
      "image/png": "[encoded data removed]",
      "text/plain": [
       "<Figure size 640x480 with 2 Axes>"
      ]
     },
     "metadata": {},
     "output_type": "display_data"
    },
    {
     "data": {
      "image/png": "[encoded data removed]",
      "text/plain": [
       "<Figure size 640x480 with 1 Axes>"
      ]
     },
     "metadata": {},
     "output_type": "display_data"
    },
    {
     "data": {
      "image/png": "[encoded data removed]",
      "text/plain": [
       "<Figure size 640x480 with 1 Axes>"
      ]
     },
     "metadata": {},
     "output_type": "display_data"
    },
    {
     "name": "stdout",
     "output_type": "stream",
     "text": [
      "0:24:52.777244\n"
     ]
    }
   ],
   "source": [
    "\n",
    "train_pytorch.train(binary=False, batch_size = batch_size, num_epochs = 10, config=config, model = \"2d\", weights=None)"
   ]
  },
  {
   "cell_type": "code",
   "execution_count": 14,
   "metadata": {},
   "outputs": [
    {
     "name": "stdout",
     "output_type": "stream",
     "text": [
      "16\n"
     ]
    },
    {
     "data": {
      "application/vnd.jupyter.widget-view+json": {
       "model_id": "5a3ac8806eb04a4d8d41fa59d75f27da",
       "version_major": 2,
       "version_minor": 0
      },
      "text/plain": [
       "  0%|          | 0/5 [00:00<?, ?it/s]"
      ]
     },
     "metadata": {},
     "output_type": "display_data"
    },
    {
     "name": "stdout",
     "output_type": "stream",
     "text": [
      "..\n",
      "..\n",
      "..\n",
      "..\n",
      "..\n",
      "Test Accuracy: 0.0567\n"
     ]
    },
    {
     "data": {
      "text/plain": [
       "(M2DCNN(\n",
       "   (up_conv): Conv2d(\n",
       "     (conv_block): Sequential(\n",
       "       (0): Conv2d(73, 16, kernel_size=(3, 3), stride=(1, 1))\n",
       "       (1): mish()\n",
       "       (2): MaxPool2d(kernel_size=(2, 2), stride=(2, 2), padding=0, dilation=1, ceil_mode=False)\n",
       "       (3): BatchNorm2d(16, eps=1e-05, momentum=0.1, affine=True, track_running_stats=True)\n",
       "       (4): Conv2d(16, 32, kernel_size=(3, 3), stride=(1, 1))\n",
       "       (5): mish()\n",
       "       (6): MaxPool2d(kernel_size=(2, 2), stride=(2, 2), padding=0, dilation=1, ceil_mode=False)\n",
       "       (7): BatchNorm2d(32, eps=1e-05, momentum=0.1, affine=True, track_running_stats=True)\n",
       "     )\n",
       "   )\n",
       "   (front_conv): Conv2d(\n",
       "     (conv_block): Sequential(\n",
       "       (0): Conv2d(90, 16, kernel_size=(3, 3), stride=(1, 1))\n",
       "       (1): mish()\n",
       "       (2): MaxPool2d(kernel_size=(2, 2), stride=(2, 2), padding=0, dilation=1, ceil_mode=False)\n",
       "       (3): BatchNorm2d(16, eps=1e-05, momentum=0.1, affine=True, track_running_stats=True)\n",
       "       (4): Conv2d(16, 32, kernel_size=(3, 3), stride=(1, 1))\n",
       "       (5): mish()\n",
       "       (6): MaxPool2d(kernel_size=(2, 2), stride=(2, 2), padding=0, dilation=1, ceil_mode=False)\n",
       "       (7): BatchNorm2d(32, eps=1e-05, momentum=0.1, affine=True, track_running_stats=True)\n",
       "     )\n",
       "   )\n",
       "   (left_conv): Conv2d(\n",
       "     (conv_block): Sequential(\n",
       "       (0): Conv2d(74, 16, kernel_size=(3, 3), stride=(1, 1))\n",
       "       (1): mish()\n",
       "       (2): MaxPool2d(kernel_size=(2, 2), stride=(2, 2), padding=0, dilation=1, ceil_mode=False)\n",
       "       (3): BatchNorm2d(16, eps=1e-05, momentum=0.1, affine=True, track_running_stats=True)\n",
       "       (4): Conv2d(16, 32, kernel_size=(3, 3), stride=(1, 1))\n",
       "       (5): mish()\n",
       "       (6): MaxPool2d(kernel_size=(2, 2), stride=(2, 2), padding=0, dilation=1, ceil_mode=False)\n",
       "       (7): BatchNorm2d(32, eps=1e-05, momentum=0.1, affine=True, track_running_stats=True)\n",
       "     )\n",
       "   )\n",
       "   (fc): Sequential(\n",
       "     (0): BatchNorm1d(30880, eps=1e-05, momentum=0.1, affine=True, track_running_stats=True)\n",
       "     (1): Linear(in_features=30880, out_features=128, bias=True)\n",
       "     (2): mish()\n",
       "     (3): BatchNorm1d(128, eps=1e-05, momentum=0.1, affine=True, track_running_stats=True)\n",
       "   )\n",
       "   (clfc): Sequential(\n",
       "     (0): Dropout(p=0.5, inplace=False)\n",
       "     (1): Linear(in_features=128, out_features=16, bias=True)\n",
       "   )\n",
       " ),\n",
       " tensor(0.0567, device='cuda:0', dtype=torch.float64))"
      ]
     },
     "execution_count": 14,
     "metadata": {},
     "output_type": "execute_result"
    },
    {
     "data": {
      "image/png": "[encoded data removed]",
      "text/plain": [
       "<Figure size 640x480 with 2 Axes>"
      ]
     },
     "metadata": {},
     "output_type": "display_data"
    }
   ],
   "source": [
    "import model_m2dcnn as model\n",
    "from torch.utils.data import DataLoader\n",
    "from dataset import lpp_Dataset\n",
    "\n",
    "batch_size = 50\n",
    "binary = False\n",
    "test_dataloader = DataLoader(lpp_Dataset(\"data/Test/\"), batch_size=batch_size, shuffle=False)\n",
    "if binary:\n",
    "        nb_classes = 2\n",
    "else:\n",
    "    with open(\"label_dict.txt\", \"r\") as f:\n",
    "        nb_classes = len(f.readlines())\n",
    "      \n",
    "print(nb_classes)\n",
    "train_pytorch.test(model.M2DCNN(numClass=nb_classes, numFeatues=30880, DIMX=74, DIMY=90, DIMZ=73), config,f\"results/{config}_weights.pth\", nb_classes, test_dataloader)"
   ]
  },
  {
   "cell_type": "code",
   "execution_count": null,
   "metadata": {},
   "outputs": [],
   "source": []
  },
  {
   "cell_type": "code",
   "execution_count": null,
   "metadata": {},
   "outputs": [],
   "source": []
  },
  {
   "cell_type": "code",
   "execution_count": null,
   "metadata": {},
   "outputs": [],
   "source": []
  }
 ],
 "metadata": {
  "kernelspec": {
   "display_name": "Python 3.10.8 ('cogSciEnv')",
   "language": "python",
   "name": "python3"
  },
  "language_info": {
   "codemirror_mode": {
    "name": "ipython",
    "version": 3
   },
   "file_extension": ".py",
   "mimetype": "text/x-python",
   "name": "python",
   "nbconvert_exporter": "python",
   "pygments_lexer": "ipython3",
   "version": "3.10.8"
  },
  "orig_nbformat": 4,
  "vscode": {
   "interpreter": {
    "hash": "ee8826d4702f16d0fb1dbf01a1d644cd38b1dd67f0d2287bca04130bed3d8f05"
   }
  }
 },
 "nbformat": 4,
 "nbformat_minor": 2
}
