{
 "cells": [
  {
   "cell_type": "code",
   "execution_count": 82,
   "metadata": {},
   "outputs": [],
   "source": [
    "#Train, val, Test splitter\n",
    "import train_pytorch\n",
    "import prepare_dataset\n",
    "import random\n",
    "import time \n",
    "from collections import Counter\n",
    "import os\n",
    "import numpy as np\n",
    "import shutil\n",
    "import codecs\n",
    "#os.chdir(\"/Users/kjartan/Documents/CompCogSci3/\") \n",
    "os.chdir(r\"C:\\Users\\kjart\\OneDrive\\Dokumenter\\KU\\3. semester\\Cog sci 3\\CompCogSci3\")"
   ]
  },
  {
   "cell_type": "code",
   "execution_count": 83,
   "metadata": {},
   "outputs": [],
   "source": [
    "language = \"CN\"\n",
    "unsorted_data_dir = \"raw_data/derivatives/\"\n",
    "annotation_file = f\"raw_data/annotation/{language}/lpp{language}_word_information.csv\"\n",
    "random.seed(1234)\n",
    "\n",
    "pos = \"NUM\" #Change this to select labels\n",
    "oov = \"-1\" #no need to change this\n",
    "binary = False #ignore this\n"
   ]
  },
  {
   "cell_type": "code",
   "execution_count": 86,
   "metadata": {},
   "outputs": [
    {
     "name": "stdout",
     "output_type": "stream",
     "text": [
      "loading data.....\n",
      "raw_data/derivatives/sub-CN001\\func\\sub-CN001_task-lppCN_run-04_space-MNIColin27_desc-preproc_bold.nii.gz\n",
      "raw_data/derivatives/sub-CN001\\func\\sub-CN001_task-lppCN_run-05_space-MNIColin27_desc-preproc_bold.nii.gz\n",
      "raw_data/derivatives/sub-CN001\\func\\sub-CN001_task-lppCN_run-06_space-MNIColin27_desc-preproc_bold.nii.gz\n",
      "raw_data/derivatives/sub-CN001\\func\\sub-CN001_task-lppCN_run-07_space-MNIColin27_desc-preproc_bold.nii.gz\n",
      "raw_data/derivatives/sub-CN001\\func\\sub-CN001_task-lppCN_run-08_space-MNIColin27_desc-preproc_bold.nii.gz\n",
      "raw_data/derivatives/sub-CN001\\func\\sub-CN001_task-lppCN_run-09_space-MNIColin27_desc-preproc_bold.nii.gz\n",
      "raw_data/derivatives/sub-CN001\\func\\sub-CN001_task-lppCN_run-10_space-MNIColin27_desc-preproc_bold.nii.gz\n",
      "raw_data/derivatives/sub-CN001\\func\\sub-CN001_task-lppCN_run-11_space-MNIColin27_desc-preproc_bold.nii.gz\n",
      "raw_data/derivatives/sub-CN001\\func\\sub-CN001_task-lppCN_run-12_space-MNIColin27_desc-preproc_bold.nii.gz\n",
      "raw_data/derivatives/sub-CN002\\func\\sub-CN002_task-lppCN_run-04_space-MNIColin27_desc-preproc_bold.nii.gz\n",
      "raw_data/derivatives/sub-CN002\\func\\sub-CN002_task-lppCN_run-05_space-MNIColin27_desc-preproc_bold.nii.gz\n",
      "raw_data/derivatives/sub-CN002\\func\\sub-CN002_task-lppCN_run-06_space-MNIColin27_desc-preproc_bold.nii.gz\n",
      "raw_data/derivatives/sub-CN002\\func\\sub-CN002_task-lppCN_run-07_space-MNIColin27_desc-preproc_bold.nii.gz\n",
      "raw_data/derivatives/sub-CN002\\func\\sub-CN002_task-lppCN_run-08_space-MNIColin27_desc-preproc_bold.nii.gz\n",
      "raw_data/derivatives/sub-CN002\\func\\sub-CN002_task-lppCN_run-09_space-MNIColin27_desc-preproc_bold.nii.gz\n",
      "raw_data/derivatives/sub-CN002\\func\\sub-CN002_task-lppCN_run-10_space-MNIColin27_desc-preproc_bold.nii.gz\n",
      "raw_data/derivatives/sub-CN002\\func\\sub-CN002_task-lppCN_run-11_space-MNIColin27_desc-preproc_bold.nii.gz\n",
      "raw_data/derivatives/sub-CN002\\func\\sub-CN002_task-lppCN_run-12_space-MNIColin27_desc-preproc_bold.nii.gz\n",
      "raw_data/derivatives/sub-CN003\\func\\sub-CN003_task-lppCN_run-05_space-MNIColin27_desc-preproc_bold.nii.gz\n",
      "raw_data/derivatives/sub-CN003\\func\\sub-CN003_task-lppCN_run-06_space-MNIColin27_desc-preproc_bold.nii.gz\n",
      "raw_data/derivatives/sub-CN003\\func\\sub-CN003_task-lppCN_run-07_space-MNIColin27_desc-preproc_bold.nii.gz\n",
      "raw_data/derivatives/sub-CN003\\func\\sub-CN003_task-lppCN_run-08_space-MNIColin27_desc-preproc_bold.nii.gz\n",
      "raw_data/derivatives/sub-CN003\\func\\sub-CN003_task-lppCN_run-09_space-MNIColin27_desc-preproc_bold.nii.gz\n",
      "raw_data/derivatives/sub-CN003\\func\\sub-CN003_task-lppCN_run-10_space-MNIColin27_desc-preproc_bold.nii.gz\n",
      "raw_data/derivatives/sub-CN003\\func\\sub-CN003_task-lppCN_run-11_space-MNIColin27_desc-preproc_bold.nii.gz\n",
      "raw_data/derivatives/sub-CN003\\func\\sub-CN003_task-lppCN_run-12_space-MNIColin27_desc-preproc_bold.nii.gz\n",
      "raw_data/derivatives/sub-CN003\\func\\sub-CN003_task-lppCN_run-13_space-MNIColin27_desc-preproc_bold.nii.gz\n",
      "raw_data/derivatives/sub-CN004\\func\\sub-CN004_task-lppCN_run-06_space-MNIColin27_desc-preproc_bold.nii.gz\n",
      "raw_data/derivatives/sub-CN004\\func\\sub-CN004_task-lppCN_run-07_space-MNIColin27_desc-preproc_bold.nii.gz\n",
      "raw_data/derivatives/sub-CN004\\func\\sub-CN004_task-lppCN_run-08_space-MNIColin27_desc-preproc_bold.nii.gz\n",
      "raw_data/derivatives/sub-CN004\\func\\sub-CN004_task-lppCN_run-09_space-MNIColin27_desc-preproc_bold.nii.gz\n",
      "raw_data/derivatives/sub-CN004\\func\\sub-CN004_task-lppCN_run-10_space-MNIColin27_desc-preproc_bold.nii.gz\n",
      "raw_data/derivatives/sub-CN004\\func\\sub-CN004_task-lppCN_run-11_space-MNIColin27_desc-preproc_bold.nii.gz\n",
      "raw_data/derivatives/sub-CN004\\func\\sub-CN004_task-lppCN_run-12_space-MNIColin27_desc-preproc_bold.nii.gz\n",
      "raw_data/derivatives/sub-CN004\\func\\sub-CN004_task-lppCN_run-13_space-MNIColin27_desc-preproc_bold.nii.gz\n",
      "raw_data/derivatives/sub-CN004\\func\\sub-CN004_task-lppCN_run-14_space-MNIColin27_desc-preproc_bold.nii.gz\n",
      "raw_data/derivatives/sub-CN005\\func\\sub-CN005_task-lppCN_run-05_space-MNIColin27_desc-preproc_bold.nii.gz\n",
      "raw_data/derivatives/sub-CN005\\func\\sub-CN005_task-lppCN_run-06_space-MNIColin27_desc-preproc_bold.nii.gz\n",
      "raw_data/derivatives/sub-CN005\\func\\sub-CN005_task-lppCN_run-07_space-MNIColin27_desc-preproc_bold.nii.gz\n",
      "raw_data/derivatives/sub-CN005\\func\\sub-CN005_task-lppCN_run-08_space-MNIColin27_desc-preproc_bold.nii.gz\n",
      "raw_data/derivatives/sub-CN005\\func\\sub-CN005_task-lppCN_run-09_space-MNIColin27_desc-preproc_bold.nii.gz\n",
      "raw_data/derivatives/sub-CN005\\func\\sub-CN005_task-lppCN_run-10_space-MNIColin27_desc-preproc_bold.nii.gz\n",
      "raw_data/derivatives/sub-CN005\\func\\sub-CN005_task-lppCN_run-11_space-MNIColin27_desc-preproc_bold.nii.gz\n",
      "raw_data/derivatives/sub-CN005\\func\\sub-CN005_task-lppCN_run-12_space-MNIColin27_desc-preproc_bold.nii.gz\n",
      "raw_data/derivatives/sub-CN005\\func\\sub-CN005_task-lppCN_run-13_space-MNIColin27_desc-preproc_bold.nii.gz\n",
      "raw_data/derivatives/sub-CN006\\func\\sub-CN006_task-lppCN_run-05_space-MNIColin27_desc-preproc_bold.nii.gz\n",
      "raw_data/derivatives/sub-CN006\\func\\sub-CN006_task-lppCN_run-06_space-MNIColin27_desc-preproc_bold.nii.gz\n",
      "raw_data/derivatives/sub-CN006\\func\\sub-CN006_task-lppCN_run-07_space-MNIColin27_desc-preproc_bold.nii.gz\n",
      "raw_data/derivatives/sub-CN006\\func\\sub-CN006_task-lppCN_run-08_space-MNIColin27_desc-preproc_bold.nii.gz\n",
      "raw_data/derivatives/sub-CN006\\func\\sub-CN006_task-lppCN_run-09_space-MNIColin27_desc-preproc_bold.nii.gz\n",
      "raw_data/derivatives/sub-CN006\\func\\sub-CN006_task-lppCN_run-10_space-MNIColin27_desc-preproc_bold.nii.gz\n",
      "raw_data/derivatives/sub-CN006\\func\\sub-CN006_task-lppCN_run-11_space-MNIColin27_desc-preproc_bold.nii.gz\n",
      "raw_data/derivatives/sub-CN006\\func\\sub-CN006_task-lppCN_run-12_space-MNIColin27_desc-preproc_bold.nii.gz\n",
      "raw_data/derivatives/sub-CN006\\func\\sub-CN006_task-lppCN_run-13_space-MNIColin27_desc-preproc_bold.nii.gz\n",
      "raw_data/derivatives/sub-CN007\\func\\sub-CN007_task-lppCN_run-09_space-MNIColin27_desc-preproc_bold.nii.gz\n",
      "raw_data/derivatives/sub-CN007\\func\\sub-CN007_task-lppCN_run-10_space-MNIColin27_desc-preproc_bold.nii.gz\n",
      "raw_data/derivatives/sub-CN007\\func\\sub-CN007_task-lppCN_run-11_space-MNIColin27_desc-preproc_bold.nii.gz\n",
      "raw_data/derivatives/sub-CN007\\func\\sub-CN007_task-lppCN_run-12_space-MNIColin27_desc-preproc_bold.nii.gz\n",
      "raw_data/derivatives/sub-CN007\\func\\sub-CN007_task-lppCN_run-13_space-MNIColin27_desc-preproc_bold.nii.gz\n",
      "raw_data/derivatives/sub-CN007\\func\\sub-CN007_task-lppCN_run-14_space-MNIColin27_desc-preproc_bold.nii.gz\n",
      "raw_data/derivatives/sub-CN007\\func\\sub-CN007_task-lppCN_run-15_space-MNIColin27_desc-preproc_bold.nii.gz\n",
      "raw_data/derivatives/sub-CN007\\func\\sub-CN007_task-lppCN_run-16_space-MNIColin27_desc-preproc_bold.nii.gz\n",
      "raw_data/derivatives/sub-CN007\\func\\sub-CN007_task-lppCN_run-17_space-MNIColin27_desc-preproc_bold.nii.gz\n",
      "raw_data/derivatives/sub-CN008\\func\\sub-CN008_task-lppCN_run-07_space-MNIColin27_desc-preproc_bold.nii.gz\n",
      "raw_data/derivatives/sub-CN008\\func\\sub-CN008_task-lppCN_run-08_space-MNIColin27_desc-preproc_bold.nii.gz\n",
      "raw_data/derivatives/sub-CN008\\func\\sub-CN008_task-lppCN_run-09_space-MNIColin27_desc-preproc_bold.nii.gz\n",
      "raw_data/derivatives/sub-CN008\\func\\sub-CN008_task-lppCN_run-10_space-MNIColin27_desc-preproc_bold.nii.gz\n",
      "raw_data/derivatives/sub-CN008\\func\\sub-CN008_task-lppCN_run-11_space-MNIColin27_desc-preproc_bold.nii.gz\n",
      "raw_data/derivatives/sub-CN008\\func\\sub-CN008_task-lppCN_run-12_space-MNIColin27_desc-preproc_bold.nii.gz\n",
      "raw_data/derivatives/sub-CN008\\func\\sub-CN008_task-lppCN_run-13_space-MNIColin27_desc-preproc_bold.nii.gz\n",
      "raw_data/derivatives/sub-CN008\\func\\sub-CN008_task-lppCN_run-14_space-MNIColin27_desc-preproc_bold.nii.gz\n",
      "raw_data/derivatives/sub-CN008\\func\\sub-CN008_task-lppCN_run-15_space-MNIColin27_desc-preproc_bold.nii.gz\n",
      "raw_data/derivatives/sub-CN009\\func\\sub-CN009_task-lppCN_run-05_space-MNIColin27_desc-preproc_bold.nii.gz\n",
      "raw_data/derivatives/sub-CN009\\func\\sub-CN009_task-lppCN_run-06_space-MNIColin27_desc-preproc_bold.nii.gz\n",
      "raw_data/derivatives/sub-CN009\\func\\sub-CN009_task-lppCN_run-07_space-MNIColin27_desc-preproc_bold.nii.gz\n",
      "raw_data/derivatives/sub-CN009\\func\\sub-CN009_task-lppCN_run-08_space-MNIColin27_desc-preproc_bold.nii.gz\n",
      "raw_data/derivatives/sub-CN009\\func\\sub-CN009_task-lppCN_run-09_space-MNIColin27_desc-preproc_bold.nii.gz\n",
      "raw_data/derivatives/sub-CN009\\func\\sub-CN009_task-lppCN_run-10_space-MNIColin27_desc-preproc_bold.nii.gz\n",
      "raw_data/derivatives/sub-CN009\\func\\sub-CN009_task-lppCN_run-11_space-MNIColin27_desc-preproc_bold.nii.gz\n",
      "raw_data/derivatives/sub-CN009\\func\\sub-CN009_task-lppCN_run-12_space-MNIColin27_desc-preproc_bold.nii.gz\n",
      "raw_data/derivatives/sub-CN009\\func\\sub-CN009_task-lppCN_run-13_space-MNIColin27_desc-preproc_bold.nii.gz\n",
      "raw_data/derivatives/sub-CN010\\func\\sub-CN010_task-lppCN_run-05_space-MNIColin27_desc-preproc_bold.nii.gz\n",
      "raw_data/derivatives/sub-CN010\\func\\sub-CN010_task-lppCN_run-06_space-MNIColin27_desc-preproc_bold.nii.gz\n",
      "raw_data/derivatives/sub-CN010\\func\\sub-CN010_task-lppCN_run-07_space-MNIColin27_desc-preproc_bold.nii.gz\n",
      "raw_data/derivatives/sub-CN010\\func\\sub-CN010_task-lppCN_run-08_space-MNIColin27_desc-preproc_bold.nii.gz\n",
      "raw_data/derivatives/sub-CN010\\func\\sub-CN010_task-lppCN_run-09_space-MNIColin27_desc-preproc_bold.nii.gz\n",
      "raw_data/derivatives/sub-CN010\\func\\sub-CN010_task-lppCN_run-10_space-MNIColin27_desc-preproc_bold.nii.gz\n",
      "raw_data/derivatives/sub-CN010\\func\\sub-CN010_task-lppCN_run-11_space-MNIColin27_desc-preproc_bold.nii.gz\n",
      "raw_data/derivatives/sub-CN010\\func\\sub-CN010_task-lppCN_run-12_space-MNIColin27_desc-preproc_bold.nii.gz\n",
      "raw_data/derivatives/sub-CN010\\func\\sub-CN010_task-lppCN_run-13_space-MNIColin27_desc-preproc_bold.nii.gz\n",
      "raw_data/derivatives/sub-CN011\\func\\sub-CN011_task-lppCN_run-05_space-MNIColin27_desc-preproc_bold.nii.gz\n",
      "raw_data/derivatives/sub-CN011\\func\\sub-CN011_task-lppCN_run-06_space-MNIColin27_desc-preproc_bold.nii.gz\n",
      "raw_data/derivatives/sub-CN011\\func\\sub-CN011_task-lppCN_run-07_space-MNIColin27_desc-preproc_bold.nii.gz\n",
      "raw_data/derivatives/sub-CN011\\func\\sub-CN011_task-lppCN_run-08_space-MNIColin27_desc-preproc_bold.nii.gz\n",
      "raw_data/derivatives/sub-CN011\\func\\sub-CN011_task-lppCN_run-09_space-MNIColin27_desc-preproc_bold.nii.gz\n",
      "raw_data/derivatives/sub-CN011\\func\\sub-CN011_task-lppCN_run-10_space-MNIColin27_desc-preproc_bold.nii.gz\n",
      "raw_data/derivatives/sub-CN011\\func\\sub-CN011_task-lppCN_run-11_space-MNIColin27_desc-preproc_bold.nii.gz\n",
      "raw_data/derivatives/sub-CN011\\func\\sub-CN011_task-lppCN_run-12_space-MNIColin27_desc-preproc_bold.nii.gz\n",
      "raw_data/derivatives/sub-CN011\\func\\sub-CN011_task-lppCN_run-13_space-MNIColin27_desc-preproc_bold.nii.gz\n",
      "raw_data/derivatives/sub-CN013\\func\\sub-CN013_task-lppCN_run-05_space-MNIColin27_desc-preproc_bold.nii.gz\n",
      "raw_data/derivatives/sub-CN013\\func\\sub-CN013_task-lppCN_run-06_space-MNIColin27_desc-preproc_bold.nii.gz\n",
      "raw_data/derivatives/sub-CN013\\func\\sub-CN013_task-lppCN_run-07_space-MNIColin27_desc-preproc_bold.nii.gz\n",
      "raw_data/derivatives/sub-CN013\\func\\sub-CN013_task-lppCN_run-08_space-MNIColin27_desc-preproc_bold.nii.gz\n",
      "raw_data/derivatives/sub-CN013\\func\\sub-CN013_task-lppCN_run-09_space-MNIColin27_desc-preproc_bold.nii.gz\n",
      "raw_data/derivatives/sub-CN013\\func\\sub-CN013_task-lppCN_run-10_space-MNIColin27_desc-preproc_bold.nii.gz\n",
      "raw_data/derivatives/sub-CN013\\func\\sub-CN013_task-lppCN_run-11_space-MNIColin27_desc-preproc_bold.nii.gz\n",
      "raw_data/derivatives/sub-CN013\\func\\sub-CN013_task-lppCN_run-12_space-MNIColin27_desc-preproc_bold.nii.gz\n",
      "raw_data/derivatives/sub-CN013\\func\\sub-CN013_task-lppCN_run-14_space-MNIColin27_desc-preproc_bold.nii.gz\n",
      "raw_data/derivatives/sub-CN014\\func\\sub-CN014_task-lppCN_run-05_space-MNIColin27_desc-preproc_bold.nii.gz\n",
      "raw_data/derivatives/sub-CN014\\func\\sub-CN014_task-lppCN_run-06_space-MNIColin27_desc-preproc_bold.nii.gz\n",
      "raw_data/derivatives/sub-CN014\\func\\sub-CN014_task-lppCN_run-07_space-MNIColin27_desc-preproc_bold.nii.gz\n",
      "raw_data/derivatives/sub-CN014\\func\\sub-CN014_task-lppCN_run-08_space-MNIColin27_desc-preproc_bold.nii.gz\n",
      "raw_data/derivatives/sub-CN014\\func\\sub-CN014_task-lppCN_run-09_space-MNIColin27_desc-preproc_bold.nii.gz\n",
      "raw_data/derivatives/sub-CN014\\func\\sub-CN014_task-lppCN_run-10_space-MNIColin27_desc-preproc_bold.nii.gz\n",
      "raw_data/derivatives/sub-CN014\\func\\sub-CN014_task-lppCN_run-11_space-MNIColin27_desc-preproc_bold.nii.gz\n",
      "raw_data/derivatives/sub-CN014\\func\\sub-CN014_task-lppCN_run-12_space-MNIColin27_desc-preproc_bold.nii.gz\n",
      "raw_data/derivatives/sub-CN014\\func\\sub-CN014_task-lppCN_run-13_space-MNIColin27_desc-preproc_bold.nii.gz\n",
      "raw_data/derivatives/sub-CN015\\func\\sub-CN015_task-lppCN_run-05_space-MNIColin27_desc-preproc_bold.nii.gz\n",
      "raw_data/derivatives/sub-CN015\\func\\sub-CN015_task-lppCN_run-06_space-MNIColin27_desc-preproc_bold.nii.gz\n",
      "raw_data/derivatives/sub-CN015\\func\\sub-CN015_task-lppCN_run-07_space-MNIColin27_desc-preproc_bold.nii.gz\n",
      "raw_data/derivatives/sub-CN015\\func\\sub-CN015_task-lppCN_run-08_space-MNIColin27_desc-preproc_bold.nii.gz\n",
      "raw_data/derivatives/sub-CN015\\func\\sub-CN015_task-lppCN_run-09_space-MNIColin27_desc-preproc_bold.nii.gz\n",
      "raw_data/derivatives/sub-CN015\\func\\sub-CN015_task-lppCN_run-10_space-MNIColin27_desc-preproc_bold.nii.gz\n",
      "raw_data/derivatives/sub-CN015\\func\\sub-CN015_task-lppCN_run-11_space-MNIColin27_desc-preproc_bold.nii.gz\n",
      "raw_data/derivatives/sub-CN015\\func\\sub-CN015_task-lppCN_run-12_space-MNIColin27_desc-preproc_bold.nii.gz\n",
      "raw_data/derivatives/sub-CN015\\func\\sub-CN015_task-lppCN_run-13_space-MNIColin27_desc-preproc_bold.nii.gz\n",
      "raw_data/derivatives/sub-CN016\\func\\sub-CN016_task-lppCN_run-05_space-MNIColin27_desc-preproc_bold.nii.gz\n",
      "raw_data/derivatives/sub-CN016\\func\\sub-CN016_task-lppCN_run-06_space-MNIColin27_desc-preproc_bold.nii.gz\n",
      "raw_data/derivatives/sub-CN016\\func\\sub-CN016_task-lppCN_run-07_space-MNIColin27_desc-preproc_bold.nii.gz\n",
      "raw_data/derivatives/sub-CN016\\func\\sub-CN016_task-lppCN_run-08_space-MNIColin27_desc-preproc_bold.nii.gz\n",
      "raw_data/derivatives/sub-CN016\\func\\sub-CN016_task-lppCN_run-09_space-MNIColin27_desc-preproc_bold.nii.gz\n",
      "raw_data/derivatives/sub-CN016\\func\\sub-CN016_task-lppCN_run-10_space-MNIColin27_desc-preproc_bold.nii.gz\n",
      "raw_data/derivatives/sub-CN016\\func\\sub-CN016_task-lppCN_run-11_space-MNIColin27_desc-preproc_bold.nii.gz\n",
      "raw_data/derivatives/sub-CN016\\func\\sub-CN016_task-lppCN_run-12_space-MNIColin27_desc-preproc_bold.nii.gz\n",
      "raw_data/derivatives/sub-CN016\\func\\sub-CN016_task-lppCN_run-13_space-MNIColin27_desc-preproc_bold.nii.gz\n",
      "raw_data/derivatives/sub-CN017\\func\\sub-CN017_task-lppCN_run-05_space-MNIColin27_desc-preproc_bold.nii.gz\n",
      "raw_data/derivatives/sub-CN017\\func\\sub-CN017_task-lppCN_run-06_space-MNIColin27_desc-preproc_bold.nii.gz\n",
      "raw_data/derivatives/sub-CN017\\func\\sub-CN017_task-lppCN_run-07_space-MNIColin27_desc-preproc_bold.nii.gz\n",
      "raw_data/derivatives/sub-CN017\\func\\sub-CN017_task-lppCN_run-08_space-MNIColin27_desc-preproc_bold.nii.gz\n",
      "raw_data/derivatives/sub-CN017\\func\\sub-CN017_task-lppCN_run-09_space-MNIColin27_desc-preproc_bold.nii.gz\n",
      "raw_data/derivatives/sub-CN017\\func\\sub-CN017_task-lppCN_run-10_space-MNIColin27_desc-preproc_bold.nii.gz\n",
      "raw_data/derivatives/sub-CN017\\func\\sub-CN017_task-lppCN_run-11_space-MNIColin27_desc-preproc_bold.nii.gz\n",
      "raw_data/derivatives/sub-CN017\\func\\sub-CN017_task-lppCN_run-12_space-MNIColin27_desc-preproc_bold.nii.gz\n",
      "raw_data/derivatives/sub-CN017\\func\\sub-CN017_task-lppCN_run-13_space-MNIColin27_desc-preproc_bold.nii.gz\n",
      "raw_data/derivatives/sub-CN020\\func\\sub-CN020_task-lppCN_run-05_space-MNIColin27_desc-preproc_bold.nii.gz\n",
      "raw_data/derivatives/sub-CN020\\func\\sub-CN020_task-lppCN_run-06_space-MNIColin27_desc-preproc_bold.nii.gz\n",
      "raw_data/derivatives/sub-CN020\\func\\sub-CN020_task-lppCN_run-07_space-MNIColin27_desc-preproc_bold.nii.gz\n",
      "raw_data/derivatives/sub-CN020\\func\\sub-CN020_task-lppCN_run-08_space-MNIColin27_desc-preproc_bold.nii.gz\n",
      "raw_data/derivatives/sub-CN020\\func\\sub-CN020_task-lppCN_run-09_space-MNIColin27_desc-preproc_bold.nii.gz\n",
      "raw_data/derivatives/sub-CN020\\func\\sub-CN020_task-lppCN_run-10_space-MNIColin27_desc-preproc_bold.nii.gz\n",
      "raw_data/derivatives/sub-CN020\\func\\sub-CN020_task-lppCN_run-11_space-MNIColin27_desc-preproc_bold.nii.gz\n",
      "raw_data/derivatives/sub-CN020\\func\\sub-CN020_task-lppCN_run-12_space-MNIColin27_desc-preproc_bold.nii.gz\n",
      "raw_data/derivatives/sub-CN020\\func\\sub-CN020_task-lppCN_run-13_space-MNIColin27_desc-preproc_bold.nii.gz\n",
      "raw_data/derivatives/sub-CN021\\func\\sub-CN021_task-lppCN_run-05_space-MNIColin27_desc-preproc_bold.nii.gz\n",
      "raw_data/derivatives/sub-CN021\\func\\sub-CN021_task-lppCN_run-06_space-MNIColin27_desc-preproc_bold.nii.gz\n",
      "raw_data/derivatives/sub-CN021\\func\\sub-CN021_task-lppCN_run-07_space-MNIColin27_desc-preproc_bold.nii.gz\n",
      "raw_data/derivatives/sub-CN021\\func\\sub-CN021_task-lppCN_run-08_space-MNIColin27_desc-preproc_bold.nii.gz\n",
      "raw_data/derivatives/sub-CN021\\func\\sub-CN021_task-lppCN_run-09_space-MNIColin27_desc-preproc_bold.nii.gz\n",
      "raw_data/derivatives/sub-CN021\\func\\sub-CN021_task-lppCN_run-10_space-MNIColin27_desc-preproc_bold.nii.gz\n",
      "raw_data/derivatives/sub-CN021\\func\\sub-CN021_task-lppCN_run-11_space-MNIColin27_desc-preproc_bold.nii.gz\n",
      "raw_data/derivatives/sub-CN021\\func\\sub-CN021_task-lppCN_run-12_space-MNIColin27_desc-preproc_bold.nii.gz\n",
      "raw_data/derivatives/sub-CN021\\func\\sub-CN021_task-lppCN_run-13_space-MNIColin27_desc-preproc_bold.nii.gz\n",
      "raw_data/derivatives/sub-CN022\\func\\sub-CN022_task-lppCN_run-05_space-MNIColin27_desc-preproc_bold.nii.gz\n",
      "raw_data/derivatives/sub-CN022\\func\\sub-CN022_task-lppCN_run-06_space-MNIColin27_desc-preproc_bold.nii.gz\n",
      "raw_data/derivatives/sub-CN022\\func\\sub-CN022_task-lppCN_run-07_space-MNIColin27_desc-preproc_bold.nii.gz\n",
      "raw_data/derivatives/sub-CN022\\func\\sub-CN022_task-lppCN_run-08_space-MNIColin27_desc-preproc_bold.nii.gz\n",
      "raw_data/derivatives/sub-CN022\\func\\sub-CN022_task-lppCN_run-09_space-MNIColin27_desc-preproc_bold.nii.gz\n",
      "raw_data/derivatives/sub-CN022\\func\\sub-CN022_task-lppCN_run-10_space-MNIColin27_desc-preproc_bold.nii.gz\n",
      "raw_data/derivatives/sub-CN022\\func\\sub-CN022_task-lppCN_run-11_space-MNIColin27_desc-preproc_bold.nii.gz\n",
      "raw_data/derivatives/sub-CN022\\func\\sub-CN022_task-lppCN_run-12_space-MNIColin27_desc-preproc_bold.nii.gz\n",
      "raw_data/derivatives/sub-CN022\\func\\sub-CN022_task-lppCN_run-13_space-MNIColin27_desc-preproc_bold.nii.gz\n",
      "raw_data/derivatives/sub-CN023\\func\\sub-CN023_task-lppCN_run-05_space-MNIColin27_desc-preproc_bold.nii.gz\n",
      "raw_data/derivatives/sub-CN023\\func\\sub-CN023_task-lppCN_run-06_space-MNIColin27_desc-preproc_bold.nii.gz\n",
      "raw_data/derivatives/sub-CN023\\func\\sub-CN023_task-lppCN_run-07_space-MNIColin27_desc-preproc_bold.nii.gz\n",
      "raw_data/derivatives/sub-CN023\\func\\sub-CN023_task-lppCN_run-08_space-MNIColin27_desc-preproc_bold.nii.gz\n",
      "raw_data/derivatives/sub-CN023\\func\\sub-CN023_task-lppCN_run-09_space-MNIColin27_desc-preproc_bold.nii.gz\n",
      "raw_data/derivatives/sub-CN023\\func\\sub-CN023_task-lppCN_run-10_space-MNIColin27_desc-preproc_bold.nii.gz\n",
      "raw_data/derivatives/sub-CN023\\func\\sub-CN023_task-lppCN_run-11_space-MNIColin27_desc-preproc_bold.nii.gz\n",
      "raw_data/derivatives/sub-CN023\\func\\sub-CN023_task-lppCN_run-12_space-MNIColin27_desc-preproc_bold.nii.gz\n",
      "raw_data/derivatives/sub-CN023\\func\\sub-CN023_task-lppCN_run-13_space-MNIColin27_desc-preproc_bold.nii.gz\n",
      "raw_data/derivatives/sub-CN024\\func\\sub-CN024_task-lppCN_run-05_space-MNIColin27_desc-preproc_bold.nii.gz\n",
      "raw_data/derivatives/sub-CN024\\func\\sub-CN024_task-lppCN_run-06_space-MNIColin27_desc-preproc_bold.nii.gz\n",
      "raw_data/derivatives/sub-CN024\\func\\sub-CN024_task-lppCN_run-07_space-MNIColin27_desc-preproc_bold.nii.gz\n",
      "raw_data/derivatives/sub-CN024\\func\\sub-CN024_task-lppCN_run-08_space-MNIColin27_desc-preproc_bold.nii.gz\n",
      "raw_data/derivatives/sub-CN024\\func\\sub-CN024_task-lppCN_run-09_space-MNIColin27_desc-preproc_bold.nii.gz\n",
      "raw_data/derivatives/sub-CN024\\func\\sub-CN024_task-lppCN_run-10_space-MNIColin27_desc-preproc_bold.nii.gz\n",
      "raw_data/derivatives/sub-CN024\\func\\sub-CN024_task-lppCN_run-11_space-MNIColin27_desc-preproc_bold.nii.gz\n",
      "raw_data/derivatives/sub-CN024\\func\\sub-CN024_task-lppCN_run-12_space-MNIColin27_desc-preproc_bold.nii.gz\n",
      "raw_data/derivatives/sub-CN024\\func\\sub-CN024_task-lppCN_run-13_space-MNIColin27_desc-preproc_bold.nii.gz\n",
      "raw_data/derivatives/sub-CN025\\func\\sub-CN025_task-lppCN_run-05_space-MNIColin27_desc-preproc_bold.nii.gz\n",
      "raw_data/derivatives/sub-CN025\\func\\sub-CN025_task-lppCN_run-06_space-MNIColin27_desc-preproc_bold.nii.gz\n",
      "raw_data/derivatives/sub-CN025\\func\\sub-CN025_task-lppCN_run-07_space-MNIColin27_desc-preproc_bold.nii.gz\n",
      "raw_data/derivatives/sub-CN025\\func\\sub-CN025_task-lppCN_run-08_space-MNIColin27_desc-preproc_bold.nii.gz\n",
      "raw_data/derivatives/sub-CN025\\func\\sub-CN025_task-lppCN_run-09_space-MNIColin27_desc-preproc_bold.nii.gz\n",
      "raw_data/derivatives/sub-CN025\\func\\sub-CN025_task-lppCN_run-10_space-MNIColin27_desc-preproc_bold.nii.gz\n",
      "raw_data/derivatives/sub-CN025\\func\\sub-CN025_task-lppCN_run-11_space-MNIColin27_desc-preproc_bold.nii.gz\n",
      "raw_data/derivatives/sub-CN025\\func\\sub-CN025_task-lppCN_run-12_space-MNIColin27_desc-preproc_bold.nii.gz\n",
      "raw_data/derivatives/sub-CN025\\func\\sub-CN025_task-lppCN_run-13_space-MNIColin27_desc-preproc_bold.nii.gz\n",
      "raw_data/derivatives/sub-CN026\\func\\sub-CN026_task-lppCN_run-05_space-MNIColin27_desc-preproc_bold.nii.gz\n",
      "raw_data/derivatives/sub-CN026\\func\\sub-CN026_task-lppCN_run-06_space-MNIColin27_desc-preproc_bold.nii.gz\n",
      "raw_data/derivatives/sub-CN026\\func\\sub-CN026_task-lppCN_run-07_space-MNIColin27_desc-preproc_bold.nii.gz\n",
      "raw_data/derivatives/sub-CN026\\func\\sub-CN026_task-lppCN_run-08_space-MNIColin27_desc-preproc_bold.nii.gz\n",
      "raw_data/derivatives/sub-CN026\\func\\sub-CN026_task-lppCN_run-09_space-MNIColin27_desc-preproc_bold.nii.gz\n",
      "raw_data/derivatives/sub-CN026\\func\\sub-CN026_task-lppCN_run-10_space-MNIColin27_desc-preproc_bold.nii.gz\n",
      "raw_data/derivatives/sub-CN026\\func\\sub-CN026_task-lppCN_run-11_space-MNIColin27_desc-preproc_bold.nii.gz\n",
      "raw_data/derivatives/sub-CN026\\func\\sub-CN026_task-lppCN_run-12_space-MNIColin27_desc-preproc_bold.nii.gz\n",
      "raw_data/derivatives/sub-CN026\\func\\sub-CN026_task-lppCN_run-13_space-MNIColin27_desc-preproc_bold.nii.gz\n",
      "raw_data/derivatives/sub-CN027\\func\\sub-CN027_task-lppCN_run-05_space-MNIColin27_desc-preproc_bold.nii.gz\n",
      "raw_data/derivatives/sub-CN027\\func\\sub-CN027_task-lppCN_run-06_space-MNIColin27_desc-preproc_bold.nii.gz\n",
      "raw_data/derivatives/sub-CN027\\func\\sub-CN027_task-lppCN_run-07_space-MNIColin27_desc-preproc_bold.nii.gz\n",
      "raw_data/derivatives/sub-CN027\\func\\sub-CN027_task-lppCN_run-08_space-MNIColin27_desc-preproc_bold.nii.gz\n",
      "raw_data/derivatives/sub-CN027\\func\\sub-CN027_task-lppCN_run-09_space-MNIColin27_desc-preproc_bold.nii.gz\n",
      "raw_data/derivatives/sub-CN027\\func\\sub-CN027_task-lppCN_run-10_space-MNIColin27_desc-preproc_bold.nii.gz\n",
      "raw_data/derivatives/sub-CN027\\func\\sub-CN027_task-lppCN_run-11_space-MNIColin27_desc-preproc_bold.nii.gz\n",
      "raw_data/derivatives/sub-CN027\\func\\sub-CN027_task-lppCN_run-12_space-MNIColin27_desc-preproc_bold.nii.gz\n",
      "raw_data/derivatives/sub-CN027\\func\\sub-CN027_task-lppCN_run-13_space-MNIColin27_desc-preproc_bold.nii.gz\n",
      "raw_data/derivatives/sub-CN028\\func\\sub-CN028_task-lppCN_run-06_space-MNIColin27_desc-preproc_bold.nii.gz\n",
      "raw_data/derivatives/sub-CN028\\func\\sub-CN028_task-lppCN_run-07_space-MNIColin27_desc-preproc_bold.nii.gz\n",
      "raw_data/derivatives/sub-CN028\\func\\sub-CN028_task-lppCN_run-08_space-MNIColin27_desc-preproc_bold.nii.gz\n",
      "raw_data/derivatives/sub-CN028\\func\\sub-CN028_task-lppCN_run-09_space-MNIColin27_desc-preproc_bold.nii.gz\n",
      "raw_data/derivatives/sub-CN028\\func\\sub-CN028_task-lppCN_run-10_space-MNIColin27_desc-preproc_bold.nii.gz\n",
      "raw_data/derivatives/sub-CN028\\func\\sub-CN028_task-lppCN_run-11_space-MNIColin27_desc-preproc_bold.nii.gz\n",
      "raw_data/derivatives/sub-CN028\\func\\sub-CN028_task-lppCN_run-12_space-MNIColin27_desc-preproc_bold.nii.gz\n",
      "raw_data/derivatives/sub-CN028\\func\\sub-CN028_task-lppCN_run-13_space-MNIColin27_desc-preproc_bold.nii.gz\n",
      "raw_data/derivatives/sub-CN028\\func\\sub-CN028_task-lppCN_run-14_space-MNIColin27_desc-preproc_bold.nii.gz\n",
      "raw_data/derivatives/sub-CN029\\func\\sub-CN029_task-lppCN_run-05_space-MNIColin27_desc-preproc_bold.nii.gz\n",
      "raw_data/derivatives/sub-CN029\\func\\sub-CN029_task-lppCN_run-06_space-MNIColin27_desc-preproc_bold.nii.gz\n",
      "raw_data/derivatives/sub-CN029\\func\\sub-CN029_task-lppCN_run-07_space-MNIColin27_desc-preproc_bold.nii.gz\n",
      "raw_data/derivatives/sub-CN029\\func\\sub-CN029_task-lppCN_run-08_space-MNIColin27_desc-preproc_bold.nii.gz\n",
      "raw_data/derivatives/sub-CN029\\func\\sub-CN029_task-lppCN_run-09_space-MNIColin27_desc-preproc_bold.nii.gz\n",
      "raw_data/derivatives/sub-CN029\\func\\sub-CN029_task-lppCN_run-10_space-MNIColin27_desc-preproc_bold.nii.gz\n",
      "raw_data/derivatives/sub-CN029\\func\\sub-CN029_task-lppCN_run-11_space-MNIColin27_desc-preproc_bold.nii.gz\n",
      "raw_data/derivatives/sub-CN029\\func\\sub-CN029_task-lppCN_run-12_space-MNIColin27_desc-preproc_bold.nii.gz\n",
      "raw_data/derivatives/sub-CN029\\func\\sub-CN029_task-lppCN_run-13_space-MNIColin27_desc-preproc_bold.nii.gz\n",
      "raw_data/derivatives/sub-CN030\\func\\sub-CN030_task-lppCN_run-05_space-MNIColin27_desc-preproc_bold.nii.gz\n",
      "raw_data/derivatives/sub-CN030\\func\\sub-CN030_task-lppCN_run-06_space-MNIColin27_desc-preproc_bold.nii.gz\n",
      "raw_data/derivatives/sub-CN030\\func\\sub-CN030_task-lppCN_run-07_space-MNIColin27_desc-preproc_bold.nii.gz\n",
      "raw_data/derivatives/sub-CN030\\func\\sub-CN030_task-lppCN_run-08_space-MNIColin27_desc-preproc_bold.nii.gz\n",
      "raw_data/derivatives/sub-CN030\\func\\sub-CN030_task-lppCN_run-09_space-MNIColin27_desc-preproc_bold.nii.gz\n",
      "raw_data/derivatives/sub-CN030\\func\\sub-CN030_task-lppCN_run-10_space-MNIColin27_desc-preproc_bold.nii.gz\n",
      "raw_data/derivatives/sub-CN030\\func\\sub-CN030_task-lppCN_run-11_space-MNIColin27_desc-preproc_bold.nii.gz\n",
      "raw_data/derivatives/sub-CN030\\func\\sub-CN030_task-lppCN_run-12_space-MNIColin27_desc-preproc_bold.nii.gz\n",
      "raw_data/derivatives/sub-CN030\\func\\sub-CN030_task-lppCN_run-13_space-MNIColin27_desc-preproc_bold.nii.gz\n",
      "raw_data/derivatives/sub-CN031\\func\\sub-CN031_task-lppCN_run-05_space-MNIColin27_desc-preproc_bold.nii.gz\n",
      "raw_data/derivatives/sub-CN031\\func\\sub-CN031_task-lppCN_run-06_space-MNIColin27_desc-preproc_bold.nii.gz\n",
      "raw_data/derivatives/sub-CN031\\func\\sub-CN031_task-lppCN_run-07_space-MNIColin27_desc-preproc_bold.nii.gz\n",
      "raw_data/derivatives/sub-CN031\\func\\sub-CN031_task-lppCN_run-08_space-MNIColin27_desc-preproc_bold.nii.gz\n",
      "raw_data/derivatives/sub-CN031\\func\\sub-CN031_task-lppCN_run-09_space-MNIColin27_desc-preproc_bold.nii.gz\n",
      "raw_data/derivatives/sub-CN031\\func\\sub-CN031_task-lppCN_run-10_space-MNIColin27_desc-preproc_bold.nii.gz\n",
      "raw_data/derivatives/sub-CN031\\func\\sub-CN031_task-lppCN_run-11_space-MNIColin27_desc-preproc_bold.nii.gz\n",
      "raw_data/derivatives/sub-CN031\\func\\sub-CN031_task-lppCN_run-12_space-MNIColin27_desc-preproc_bold.nii.gz\n",
      "raw_data/derivatives/sub-CN031\\func\\sub-CN031_task-lppCN_run-13_space-MNIColin27_desc-preproc_bold.nii.gz\n",
      "raw_data/derivatives/sub-CN032\\func\\sub-CN032_task-lppCN_run-05_space-MNIColin27_desc-preproc_bold.nii.gz\n",
      "raw_data/derivatives/sub-CN032\\func\\sub-CN032_task-lppCN_run-06_space-MNIColin27_desc-preproc_bold.nii.gz\n",
      "raw_data/derivatives/sub-CN032\\func\\sub-CN032_task-lppCN_run-07_space-MNIColin27_desc-preproc_bold.nii.gz\n",
      "raw_data/derivatives/sub-CN032\\func\\sub-CN032_task-lppCN_run-08_space-MNIColin27_desc-preproc_bold.nii.gz\n",
      "raw_data/derivatives/sub-CN032\\func\\sub-CN032_task-lppCN_run-09_space-MNIColin27_desc-preproc_bold.nii.gz\n",
      "raw_data/derivatives/sub-CN032\\func\\sub-CN032_task-lppCN_run-10_space-MNIColin27_desc-preproc_bold.nii.gz\n",
      "raw_data/derivatives/sub-CN032\\func\\sub-CN032_task-lppCN_run-11_space-MNIColin27_desc-preproc_bold.nii.gz\n",
      "raw_data/derivatives/sub-CN032\\func\\sub-CN032_task-lppCN_run-12_space-MNIColin27_desc-preproc_bold.nii.gz\n",
      "raw_data/derivatives/sub-CN032\\func\\sub-CN032_task-lppCN_run-13_space-MNIColin27_desc-preproc_bold.nii.gz\n",
      "raw_data/derivatives/sub-CN033\\func\\sub-CN033_task-lppCN_run-06_space-MNIColin27_desc-preproc_bold.nii.gz\n",
      "raw_data/derivatives/sub-CN033\\func\\sub-CN033_task-lppCN_run-07_space-MNIColin27_desc-preproc_bold.nii.gz\n",
      "raw_data/derivatives/sub-CN033\\func\\sub-CN033_task-lppCN_run-08_space-MNIColin27_desc-preproc_bold.nii.gz\n",
      "raw_data/derivatives/sub-CN033\\func\\sub-CN033_task-lppCN_run-09_space-MNIColin27_desc-preproc_bold.nii.gz\n",
      "raw_data/derivatives/sub-CN033\\func\\sub-CN033_task-lppCN_run-10_space-MNIColin27_desc-preproc_bold.nii.gz\n",
      "raw_data/derivatives/sub-CN033\\func\\sub-CN033_task-lppCN_run-11_space-MNIColin27_desc-preproc_bold.nii.gz\n",
      "raw_data/derivatives/sub-CN033\\func\\sub-CN033_task-lppCN_run-12_space-MNIColin27_desc-preproc_bold.nii.gz\n",
      "raw_data/derivatives/sub-CN033\\func\\sub-CN033_task-lppCN_run-13_space-MNIColin27_desc-preproc_bold.nii.gz\n",
      "raw_data/derivatives/sub-CN033\\func\\sub-CN033_task-lppCN_run-14_space-MNIColin27_desc-preproc_bold.nii.gz\n",
      "raw_data/derivatives/sub-CN034\\func\\sub-CN034_task-lppCN_run-08_space-MNIColin27_desc-preproc_bold.nii.gz\n",
      "raw_data/derivatives/sub-CN034\\func\\sub-CN034_task-lppCN_run-09_space-MNIColin27_desc-preproc_bold.nii.gz\n",
      "raw_data/derivatives/sub-CN034\\func\\sub-CN034_task-lppCN_run-10_space-MNIColin27_desc-preproc_bold.nii.gz\n",
      "raw_data/derivatives/sub-CN034\\func\\sub-CN034_task-lppCN_run-11_space-MNIColin27_desc-preproc_bold.nii.gz\n",
      "raw_data/derivatives/sub-CN034\\func\\sub-CN034_task-lppCN_run-12_space-MNIColin27_desc-preproc_bold.nii.gz\n",
      "raw_data/derivatives/sub-CN034\\func\\sub-CN034_task-lppCN_run-13_space-MNIColin27_desc-preproc_bold.nii.gz\n",
      "raw_data/derivatives/sub-CN034\\func\\sub-CN034_task-lppCN_run-14_space-MNIColin27_desc-preproc_bold.nii.gz\n",
      "raw_data/derivatives/sub-CN034\\func\\sub-CN034_task-lppCN_run-15_space-MNIColin27_desc-preproc_bold.nii.gz\n",
      "raw_data/derivatives/sub-CN034\\func\\sub-CN034_task-lppCN_run-16_space-MNIColin27_desc-preproc_bold.nii.gz\n",
      "raw_data/derivatives/sub-CN036\\func\\sub-CN036_task-lppCN_run-06_space-MNIColin27_desc-preproc_bold.nii.gz\n",
      "raw_data/derivatives/sub-CN036\\func\\sub-CN036_task-lppCN_run-07_space-MNIColin27_desc-preproc_bold.nii.gz\n",
      "raw_data/derivatives/sub-CN036\\func\\sub-CN036_task-lppCN_run-08_space-MNIColin27_desc-preproc_bold.nii.gz\n",
      "raw_data/derivatives/sub-CN036\\func\\sub-CN036_task-lppCN_run-09_space-MNIColin27_desc-preproc_bold.nii.gz\n",
      "raw_data/derivatives/sub-CN036\\func\\sub-CN036_task-lppCN_run-10_space-MNIColin27_desc-preproc_bold.nii.gz\n",
      "raw_data/derivatives/sub-CN036\\func\\sub-CN036_task-lppCN_run-11_space-MNIColin27_desc-preproc_bold.nii.gz\n",
      "raw_data/derivatives/sub-CN036\\func\\sub-CN036_task-lppCN_run-12_space-MNIColin27_desc-preproc_bold.nii.gz\n",
      "raw_data/derivatives/sub-CN036\\func\\sub-CN036_task-lppCN_run-13_space-MNIColin27_desc-preproc_bold.nii.gz\n",
      "raw_data/derivatives/sub-CN036\\func\\sub-CN036_task-lppCN_run-14_space-MNIColin27_desc-preproc_bold.nii.gz\n",
      "raw_data/derivatives/sub-CN037\\func\\sub-CN037_task-lppCN_run-06_space-MNIColin27_desc-preproc_bold.nii.gz\n",
      "raw_data/derivatives/sub-CN037\\func\\sub-CN037_task-lppCN_run-07_space-MNIColin27_desc-preproc_bold.nii.gz\n",
      "raw_data/derivatives/sub-CN037\\func\\sub-CN037_task-lppCN_run-08_space-MNIColin27_desc-preproc_bold.nii.gz\n",
      "raw_data/derivatives/sub-CN037\\func\\sub-CN037_task-lppCN_run-09_space-MNIColin27_desc-preproc_bold.nii.gz\n",
      "raw_data/derivatives/sub-CN037\\func\\sub-CN037_task-lppCN_run-10_space-MNIColin27_desc-preproc_bold.nii.gz\n",
      "raw_data/derivatives/sub-CN037\\func\\sub-CN037_task-lppCN_run-11_space-MNIColin27_desc-preproc_bold.nii.gz\n",
      "raw_data/derivatives/sub-CN037\\func\\sub-CN037_task-lppCN_run-12_space-MNIColin27_desc-preproc_bold.nii.gz\n",
      "raw_data/derivatives/sub-CN037\\func\\sub-CN037_task-lppCN_run-13_space-MNIColin27_desc-preproc_bold.nii.gz\n",
      "raw_data/derivatives/sub-CN037\\func\\sub-CN037_task-lppCN_run-14_space-MNIColin27_desc-preproc_bold.nii.gz\n",
      "\n",
      "done loading data!\n",
      "\n"
     ]
    }
   ],
   "source": [
    "#Run this cell to load the data with the selected configuration, only need to run this cell if \n",
    "#you haven't loaded the data before, or if you want to change config\n",
    "\n",
    "#Uncomment these two if you are changing config\n",
    "#prepare_dataset.clear_data_dir()\n",
    "#shutil.rmtree(\"aux_data/\")\n",
    "\n",
    "prepare_dataset.load_data(unsorted_data_dir, language=language)\n",
    "\n",
    "config_version = prepare_dataset.config2(\"data/\", split=(0.8,0.1,0.1), language=language)\n",
    "#config_version = prepare_dataset.config1(\"data/\", split=(0.8,0.1,0.1), language=language)"
   ]
  },
  {
   "cell_type": "code",
   "execution_count": 87,
   "metadata": {},
   "outputs": [],
   "source": [
    "#Only need to run this after an experiment if you want to change \"pos\", then run all the following cells\n",
    "\n",
    "#Move data back from aux_data/\n",
    "for phase in os.listdir(\"aux_data/\"):\n",
    "    for run in os.listdir(f\"aux_data/{phase}\"):\n",
    "        path = f\"aux_data/{phase}/{run}/{language}/\"\n",
    "        for file in os.listdir(path):\n",
    "            file_path = f\"data/{phase}/{run}/{language}/{file}\"\n",
    "            shutil.move(f\"aux_data/{phase}/{run}/{language}/{file}\",file_path)\n"
   ]
  },
  {
   "cell_type": "code",
   "execution_count": 88,
   "metadata": {},
   "outputs": [
    {
     "name": "stdout",
     "output_type": "stream",
     "text": [
      "{0: ['岁', '一', '-1', '幅', '条', '只', '幅', '本', '-1', '-1', '-1', '六', '个', '-1', '-1', '-1', '幅', '号', '-1', '幅', '-1', '-1', '-1', '顶', '-1', '-1', '头', '-1', '-1', '-1', '-1', '-1', '第二', '第二', '-1', '-1', '-1', '-1', '-1', '-1', '年', '一', '第二', '-1', '-1', '-1', '-1', '-1', '个', '-1', '-1', '-1', '-1', '-1', '-1', '-1', '许多', '很多', '-1', '-1', '-1', '-1', '个', '-1', '-1', '号', '-1', '-1', '-1', '-1', '-1', '-1', '-1', '些', '-1', '-1', '-1', '个', '-1', '个', '个', '年', '次', '个', '-1', '-1', '-1', '-1', '个', '-1', '一', '天', '-1', '-1', '-1', '第二', '个', '-1', '-1', '-1', '-1', '只', '一', '只', '-1', '-1', '-1', '-1', '-1', '-1', '一', '-1', '-1', '-1', '-1', '岁', '-1', '-1', '-1', '-1', '-1', '-1', '-1', '里', '-1', '-1', '-1', '-1', '-1', '个', '-1', '-1', '-1', '-1', '-1', '-1', '件', '-1', '只', '种', '-1', '-1', '-1', '-1', '-1', '-1', '支', '-1', '-1', '-1', '-1', '-1', '-1', '只', '只', '-1', '幅', '幅', '-1', '-1', '-1', '-1', '头', '-1', '-1', '只', '只', '-1', '-1', '-1', '只', '-1', '只', '位', '-1', '-1', '-1', '-1', '-1', '一', '幅', '幅', '只', '只', '-1', '-1', '-1', '张', '-1', '只', '-1', '位', '位', '-1', '-1', '多', '-1', '-1', '-1', '-1', '只', '-1', '张', '-1', '-1', '-1', '-1', '-1', '-1', '-1', '多', '-1', '-1', '一些', '-1', '次', '-1', '种', '-1', '个', '-1', '-1', '-1', '-1', '-1', '-1', '-1', '-1', '-1', '阵', '-1', '-1', '-1', '-1', '-1', '-1', '-1', '-1', '一点', '-1', '个', '-1', '-1', '-1', '-1', '-1', '-1', '-1', '-1', '-1', '-1', '种', '-1', '-1', '-1', '多', '-1', '-1', '-1', '-1', '-1', '-1', '-1', '-1', '根', '-1', '-1', '-1', '-1', '-1', '-1', '位', '-1', '-1', '-1', '-1', '-1', '-1', '-1', '-1', '句', '-1', '-1'], 1: ['件', '-1', '多少', '多少', '-1', '-1', '个', '个', '-1', '-1', '个', '-1', '个', '325', '325', '-1', '-1', '颗', '-1', '1909', '个', '-1', '次', '-1', '-1', '-1', '-1', '-1', '-1', '个', '612', '-1', '-1', '-1', '位', '一身', '次', '次', '-1', '612', '-1', '-1', '-1', '个', '-1', '-1', '-1', '-1', '-1', '-1', '-1', '多少', '多少', '-1', '-1', '-1', '一', '-1', '-1', '-1', '-1', '-1', '十万', '-1', '-1', '-1', '-1', '-1', '只', '只', '-1', '-1', '-1', '-1', '-1', '-1', '612', '612', '堆', '堆', '-1', '-1', '-1', '-1', '-1', '-1', '-1', '-1', '-1', '个', '个', '-1', '个', '-1', '-1', '-1', '-1', '-1', '-1', '六', '年', '-1', '-1', '个', '-1', '-1', '个', '-1', '-1', '-1', '-1', '一些', '一些', '岁', '-1', '-1', '-1', '-1', '-1', '-1', '-1', '-1', '张', '张', '-1', '-1', '-1', '个', '些', '-1', '-1', '-1', '个', '-1', '-1', '-1', '-1', '-1', '-1', '-1', '-1', '-1', '-1', '-1', '-1', '-1', '一些', '-1', '-1', '-1', '天', '天', '-1', '次', '-1', '-1', '-1', '-1', '-1', '-1', '-1', '-1', '件', '-1', '-1', '-1', '-1', '-1', '-1', '一群', '棵', '群', '-1', '-1', '一', '-1', '-1', '-1', '-1', '-1', '-1', '-1', '-1', '-1', '-1', '-1', '个', '-1', '-1', '-1', '-1', '-1', '-1', '-1', '一', '粒', '-1', '-1', '棵', '-1', '-1', '-1', '棵', '-1', '-1', '-1', '-1', '-1', '种', '棵', '-1', '-1', '-1', '-1', '-1', '-1', '个', '-1', '个', '-1', '-1', '-1', '-1', '-1', '种', '-1', '-1', '-1', '件', '-1', '一', '一', '幅', '一', '个', '-1', '天', '-1', '-1', '-1', '-1', '-1', '种', '-1', '个', '个', '棵', '-1', '-1', '-1', '-1', '-1', '-1', '-1', '-1', '回', '种', '-1', '-1', '-1', '种', '种', '种', '-1', '-1', '幅', '个', '-1', '-1', '本', '副', '-1', '-1', '-1', '-1', '-1', '种', '-1', '-1', '-1', '-1', '-1', '-1', '-1', '-1', '天', '-1', '-1', '一', '-1', '-1', '-1', '-1', '-1', '-1', '-1', '-1', '-1', '-1', '-1', '-1', '-1', '分钟', '分钟', '-1', '-1', '-1', '步', '-1', '-1', '天', '次', '次', '-1', '-1', '-1', '-1', '-1', '天', '次', '-1', '-1'], 2: ['天', '-1', '-1', '-1', '-1', '-1', '-1', '-1', '-1', '-1', '-1', '-1', '-1', '-1', '-1', '颗', '-1', '-1', '-1', '-1', '-1', '-1', '-1', '-1', '句', '-1', '-1', '-1', '-1', '-1', '-1', '-1', '-1', '-1', '-1', '-1', '-1', '-1', '-1', '-1', '-1', '-1', '-1', '-1', '-1', '-1', '-1', '个', '-1', '-1', '-1', '-1', '-1', '-1', '-1', '-1', '-1', '个', '个', '朵', '颗', '-1', '-1', '-1', '-1', '个', '-1', '个', '个', '个', '-1', '几百万', '年', '年', '-1', '-1', '-1', '-1', '-1', '-1', '-1', '朵', '-1', '-1', '只', '-1', '-1', '-1', '-1', '亿万', '株', '-1', '-1', '-1', '朵', '颗', '朵', '-1', '-1', '-1', '-1', '-1', '-1', '-1', '-1', '-1', '-1', '颗', '颗', '-1', '个', '-1', '-1', '朵', '个', '副', '-1', '些', '-1', '-1', '-1', '-1', '-1', '-1', '朵', '-1', '一些', '层', '-1', '-1', '-1', '-1', '-1', '颗', '一天', '-1', '颗', '种', '-1', '-1', '个', '-1', '个', '个', '个', '-1', '-1', '-1', '-1', '-1', '片', '-1', '-1', '-1', '-1', '-1', '好些', '-1', '天', '-1', '-1', '-1', '-1', '-1', '-1', '-1', '-1', '-1', '-1', '-1', '-1', '-1', '-1', '-1', '-1', '-1', '-1', '一点', '-1', '-1', '壶', '-1', '朵', '-1', '-1', '天', '根', '-1', '-1', '句', '-1', '-1', '-1', '-1', '-1', '-1', '-1', '个', '-1', '-1', '株', '朵', '-1', '个', '个', '-1', '-1', '-1', '-1', '-1', '个', '-1', '一', '-1', '-1', '-1', '-1', '-1', '声', '-1', '-1', '-1', '一', '-1', '一些', '-1', '天', '-1', '-1', '-1', '-1', '朵', '-1', '-1', '-1', '-1', '-1', '-1', '-1', '-1', '-1', '-1', '-1', '-1', '-1', '-1', '-1', '-1', '群', '-1', '天', '-1', '-1', '个', '-1', '座', '-1', '-1', '-1', '-1', '-1', '-1', '-1', '-1', '-1', '-1', '很多', '-1', '棵', '-1', '-1', '天', '-1', '次', '-1', '-1', '-1', '-1', '-1', '-1', '遍', '阵', '-1', '-1', '-1', '-1', '-1', '-1', '-1', '-1', '-1', '-1', '-1', '-1', '-1', '-1', '-1', '-1', '一', '-1', '-1', '-1', '-1', '-1', '朵', '-1', '-1', '只', '-1', '-1', '-1', '-1', '-1', '-1', '根', '-1', '-1', '-1', '-1', '-1', '-1', '-1'], 3: ['-1', '327', '330', '颗', '颗', '点', '颗', '个', '-1', '-1', '个', '-1', '个', '-1', '-1', '-1', '-1', '-1', '-1', '-1', '-1', '-1', '-1', '些', '-1', '个', '-1', '-1', '-1', '-1', '-1', '个', '-1', '-1', '-1', '-1', '-1', '-1', '-1', '年', '-1', '-1', '-1', '个', '-1', '-1', '-1', '-1', '-1', '-1', '-1', '-1', '-1', '-1', '-1', '-1', '位', '-1', '-1', '-1', '-1', '只', '位', '-1', '-1', '-1', '-1', '-1', '-1', '-1', '-1', '-1', '-1', '-1', '-1', '-1', '-1', '-1', '-1', '-1', '-1', '-1', '-1', '-1', '-1', '-1', '-1', '-1', '个', '-1', '-1', '-1', '-1', '-1', '-1', '-1', '-1', '-1', '43', '72', '次', '次', '-1', '-1', '-1', '-1', '个', '-1', '-1', '-1', '-1', '只', '朵', '-1', '一', '位', '-1', '-1', '-1', '-1', '-1', '-1', '-1', '个', '-1', '-1', '-1', '-1', '-1', '-1', '-1', '-1', '-1', '个', '个', '-1', '-1', '-1', '-1', '-1', '-1', '-1', '-1', '本', '-1', '-1', '-1', '分', '-1', '-1', '-1', '-1', '-1', '-1', '-1', '个', '个', '-1', '-1', '-1', '-1', '个', '-1', '-1', '-1', '-1', '-1', '-1', '-1', '-1', '-1', '一', '个', '-1', '-1', '-1', '-1', '-1', '个', '-1', '-1', '-1', '-1', '-1', '-1', '只', '-1', '-1', '-1', '-1', '-1', '只', '-1', '只', '-1', '-1', '-1', '-1', '-1', '-1', '-1', '-1', '-1', '个', '-1', '分钟', '-1', '-1', '-1', '-1', '-1', '-1', '-1', '-1', '-1', '-1', '-1', '-1', '个', '-1', '个', '-1', '-1', '-1', '-1', '-1', '-1', '-1', '-1', '-1', '-1', '-1', '-1', '个', '-1', '-1', '-1', '只', '只', '-1', '位', '-1', '-1', '位', '-1', '-1', '-1', '分钟', '种', '-1', '-1', '回', '-1', '-1', '-1', '-1', '-1', '-1', '-1', '-1', '-1', '-1', '-1', '-1', '-1', '-1', '-1', '-1', '-1', '-1', '-1', '一', '句', '-1', '个', '个', '-1', '-1', '-1', '-1', '-1', '堆', '-1', '-1', '-1', '-1', '-1', '-1', '-1', '-1', '-1', '-1', '-1', '-1', '-1', '-1', '-1', '-1', '-1', '-1', '-1', '-1', '-1', '-1', '-1', '-1', '-1'], 4: ['个', '个', '-1', '-1', '下', '-1', '-1', '五', '三', '-1', '22', '28', '-1', '31', '-1', '-1', '-1', '-1', '-1', '501000000', '501000000', '-1', '-1', '五', '501000000', '501000000', '个', '个', '位', '-1', '年', '第', '年', '只', '一', '笔', '个', '十一', '-1', '-1', '个', '个', '次', '501000000', '几百万', '位', '-1', '几百万', '个', '-1', '-1', '些', '-1', '-1', '-1', '-1', '个', '-1', '-1', '-1', '-1', '五亿', '501620731', '颗', '-1', '-1', '-1', '-1', '-1', '-1', '-1', '-1', '个', '-1', '-1', '码', '许多', '-1', '-1', '-1', '-1', '-1', '-1', '-1', '个', '-1', '一些', '-1', '-1', '-1', '-1', '句', '-1', '-1', '-1', '件', '-1', '-1', '颗', '颗', '个', '个', '-1', '个', '-1', '-1', '-1', '-1', '-1', '-1', '-1', '-1', '-1', '遍', '件', '个', '-1', '-1', '-1', '条', '-1', '-1', '朵', '-1', '-1', '-1', '-1', '-1', '-1', '-1', '-1', '片', '个', '-1', '-1', '-1', '-1', '-1', '-1', '-1', '-1', '-1', '-1', '朵', '座', '-1', '遍', '-1', '-1', '-1', '-1', '-1', '-1', '-1', '-1', '-1', '-1', '句', '-1', '-1', '颗', '-1', '颗', '盏', '个', '-1', '-1', '一', '-1', '个', '-1', '-1', '个', '-1', '个', '-1', '-1', '-1', '-1', '-1', '朵', '-1', '-1', '-1', '-1', '-1', '-1', '-1', '点', '-1', '-1', '-1', '-1', '-1', '-1', '-1', '-1', '-1', '-1', '-1', '-1', '-1', '-1', '-1', '-1', '-1', '-1', '-1', '块', '-1', '种', '-1', '-1', '-1', '-1', '-1', '-1', '-1', '-1', '颗', '年', '-1', '-1', '-1', '一', '秒钟', '分钟', '次', '-1', '分钟', '一点', '-1', '-1', '个', '三十', '天', '-1', '-1', '-1', '个', '-1', '-1', '-1', '位', '-1', '种', '-1', '-1', '-1', '个', '-1', '-1', '颗', '步', '-1', '-1', '-1', '-1', '-1', '-1', '-1', '-1', '-1', '-1', '-1', '-1', '-1', '-1', '-1', '-1', '-1', '-1', '-1', '-1', '-1', '-1', '-1', '-1', '-1', '-1', '-1', '-1', '-1', '-1', '-1', '个', '个', '-1', '颗', '-1', '1444', '次'], 5: ['倍', '位', '-1', '-1', '位', '-1', '-1', '-1', '多少', '-1', '-1', '-1', '一', '-1', '-1', '-1', '-1', '-1', '种', '-1', '-1', '-1', '-1', '-1', '-1', '种', '-1', '位', '颗', '-1', '-1', '-1', '-1', '-1', '-1', '-1', '-1', '-1', '-1', '-1', '-1', '-1', '-1', '-1', '-1', '一点', '-1', '-1', '-1', '个', '-1', '-1', '-1', '-1', '-1', '-1', '-1', '-1', '-1', '-1', '-1', '个', '-1', '-1', '番', '番', '-1', '个', '-1', '-1', '个', '-1', '-1', '-1', '-1', '个', '个', '-1', '座', '座', '个', '-1', '个', '-1', '-1', '-1', '-1', '-1', '-1', '-1', '-1', '-1', '座', '一些', '-1', '-1', '-1', '个', '-1', '-1', '-1', '-1', '-1', '-1', '-1', '-1', '-1', '-1', '-1', '-1', '座', '座', '座', '-1', '-1', '朵', '-1', '-1', '-1', '-1', '-1', '-1', '-1', '-1', '-1', '-1', '-1', '类', '-1', '座', '-1', '个', '-1', '-1', '-1', '-1', '-1', '-1', '-1', '-1', '-1', '-1', '回', '-1', '-1', '-1', '-1', '-1', '-1', '-1', '个', '-1', '-1', '-1', '-1', '-1', '-1', '-1', '-1', '-1', '四', '根', '-1', '-1', '第一', '-1', '-1', '些', '-1', '颗', '-1', '-1', '-1', '-1', '-1', '第七', '个', '-1', '颗', '111', '个', '-1', '900000', '7500000', '311000000', '个', '2000000000', '2000000000', '个', '个', '-1', '点', '支', '462511', '462511', '-1', '种', '支', '-1', '-1', '-1', '-1', '-1', '轮', '-1', '-1', '-1', '-1', '-1', '-1', '-1', '-1', '-1', '-1', '盏', '一', '-1', '-1', '年', '次', '些', '-1', '-1', '-1', '-1', '个', '-1', '-1', '2000000000', '-1', '-1', '个', '-1', '-1', '个', '-1', '-1', '-1', '-1', '-1', '-1', '-1', '-1', '-1', '-1', '-1', '-1', '-1', '一', '个', '-1', '个', '-1', '-1', '-1', '-1', '-1', '-1', '-1', '-1', '-1', '-1', '-1', '-1', '-1', '-1', '块', '块', '-1', '-1', '个', '天', '-1', '-1', '-1', '-1', '-1', '-1', '一', '一', '-1', '-1', '-1', '-1', '-1', '-1', '-1', '-1', '-1', '-1', '-1', '-1', '个', '-1', '-1', '个', '个', '-1', '-1', '-1', '-1', '-1', '-1', '-1', '只', '-1', '-1', '只', '-1', '-1', '-1', '-1', '-1', '个', '-1', '个', '-1', '-1', '-1', '-1', '-1', '-1', '-1', '-1', '-1', '-1', '-1', '-1', '-1', '-1', '朵', '枚', '朵', '-1', '-1', '-1', '-1', '-1', '天', '只', '-1', '-1', '几', '年', '-1', '-1', '-1', '-1', '-1', '-1', '-1', '-1', '座', '-1', '座', '-1', '座', '-1', '-1', '-1', '-1', '-1', '-1', '一些', '-1', '-1', '-1', '-1', '-1', '-1', '-1', '-1', '-1', '-1', '-1', '-1', '-1', '-1', '-1', '-1', '-1', '-1', '-1', '颗', '-1', '-1', '一点', '一点', '-1', '-1', '朵', '-1'], 6: ['-1', '-1', '-1', '条', '-1', '-1', '-1', '个', '-1', '-1', '-1', '-1', '-1', '-1', '-1', '-1', '-1', '朵', '种', '一', '朵', '-1', '-1', '-1', '-1', '-1', '-1', '-1', '-1', '-1', '-1', '-1', '-1', '-1', '-1', '朵', '-1', '朵', '三', '座', '座', '-1', '-1', '个', '-1', '-1', '-1', '一', '-1', '-1', '-1', '-1', '-1', '-1', '-1', '-1', '-1', '-1', '只', '-1', '-1', '-1', '-1', '-1', '-1', '-1', '-1', '-1', '-1', '-1', '-1', '-1', '-1', '-1', '-1', '-1', '-1', '-1', '-1', '-1', '-1', '-1', '-1', '-1', '-1', '-1', '-1', '-1', '-1', '-1', '-1', '-1', '-1', '个', '个', '-1', '-1', '-1', '只', '只', '只', '-1', '-1', '-1', '-1', '-1', '-1', '-1', '-1', '朵', '-1', '-1', '-1', '-1', '-1', '-1', '-1', '个', '-1', '-1', '-1', '-1', '-1', '-1', '-1', '-1', '-1', '-1', '-1', '-1', '-1', '-1', '-1', '-1', '-1', '-1', '种', '-1', '-1', '-1', '-1', '-1', '-1', '-1', '-1', '-1', '-1', '-1', '-1', '-1', '-1', '-1', '-1', '-1', '-1', '-1', '-1', '-1', '-1', '-1', '-1', '-1', '许多', '-1', '-1', '-1', '-1', '-1', '-1', '-1', '-1', '-1', '个', '-1', '些', '些', '-1', '-1', '-1', '些', '-1', '-1', '-1', '-1', '第二', '第二', '-1', '-1', '-1', '-1', '-1', '-1', '-1', '-1', '-1', '-1', '-1', '-1', '-1', '-1', '-1', '-1', '种', '-1', '-1', '天', '一', '-1', '一', '种', '-1', '-1', '个', '-1', '-1', '-1', '-1', '-1', '-1', '-1', '-1', '-1', '-1', '-1', '-1', '-1', '-1', '-1', '-1', '-1', '-1', '-1', '-1', '-1', '-1', '-1', '-1', '-1', '-1', '-1', '-1', '-1', '个', '-1', '-1', '朵', '-1', '-1', '-1', '-1', '-1', '-1', '只', '只', '-1', '-1', '-1', '-1', '-1', '-1', '-1', '-1', '-1', '-1', '个', '-1', '一', '朵', '-1', '-1', '-1', '-1', '-1', '只', '-1', '-1', '-1', '-1', '-1', '-1', '-1', '-1', '-1', '-1', '-1', '-1', '-1', '-1', '-1', '-1', '-1', '-1', '-1', '句', '-1', '-1', '-1', '-1', '-1', '-1', '-1', '-1', '-1', '-1', '-1', '-1', '-1', '-1', '-1', '-1', '-1', '-1', '-1', '-1', '-1', '-1', '-1', '包', '千', '包', '-1', '-1', '-1', '-1', '列', '-1', '-1', '-1', '-1', '-1', '-1', '第二', '列', '-1', '-1', '-1', '-1', '-1', '次', '-1', '-1', '-1', '-1', '-1', '趟', '-1', '第一', '批', '-1', '-1', '-1', '-1', '-1', '-1', '-1', '-1', '一', '不少', '个', '-1', '-1', '-1', '-1', '-1'], 7: ['-1', '-1', '位', '-1', '一', '-1', '-1', '-1', '-1', '-1', '周', '分钟', '分钟', '-1', '-1', '-1', '分钟', '分钟', '-1', '-1', '天', '个', '-1', '滴', '-1', '-1', '-1', '-1', '-1', '-1', '-1', '-1', '-1', '-1', '-1', '-1', '-1', '-1', '-1', '-1', '个', '个', '-1', '-1', '-1', '-1', '-1', '-1', '-1', '-1', '口', '-1', '-1', '-1', '-1', '-1', '-1', '个', '-1', '-1', '-1', '-1', '-1', '-1', '-1', '-1', '-1', '-1', '-1', '-1', '-1', '-1', '-1', '-1', '-1', '-1', '-1', '朵', '-1', '-1', '-1', '-1', '-1', '-1', '-1', '个', '-1', '-1', '种', '-1', '-1', '-1', '口', '-1', '-1', '个', '座', '-1', '个', '-1', '-1', '-1', '-1', '-1', '-1', '-1', '个', '-1', '-1', '-1', '-1', '-1', '-1', '-1', '-1', '-1', '-1', '个', '-1', '-1', '-1', '双', '随', '-1', '-1', '-1', '-1', '-1', '丝', '-1', '个', '个', '-1', '朵', '朵', '-1', '-1', '盏', '盏', '-1', '-1', '-1', '阵', '-1', '-1', '-1', '-1', '-1', '-1', '-1', '-1', '-1', '-1', '-1', '-1', '-1', '口', '口', '-1', '-1', '-1', '-1', '-1', '-1', '-1', '-1', '-1', '个', '-1', '-1', '-1', '口', '-1', '-1', '-1', '-1', '-1', '-1', '-1', '-1', '-1', '-1', '种', '-1', '-1', '-1', '-1', '-1', '-1', '-1', '种', '许多', '许多', '-1', '一', '件', '-1', '-1', '-1', '-1', '-1', '-1', '个', '朵', '-1', '-1', '-1', '-1', '-1', '-1', '朵', '一点', '-1', '句', '句', '-1', '-1', '-1', '-1', '-1', '-1', '-1', '-1', '-1', '-1', '-1', '-1', '-1', '个', '个', '-1', '-1', '-1', '-1', '-1', '-1', '-1', '双', '-1', '-1', '-1', '-1', '-1', '-1', '-1', '-1', '-1', '-1', '-1', '个', '-1', '-1', '-1', '-1', '-1', '-1', '-1', '一', '-1', '-1', '-1', '-1', '-1', '阵', '-1', '个', '一', '-1', '个', '-1', '-1', '-1', '-1', '-1', '句', '-1', '-1', '-1', '-1', '-1', '-1', '-1', '-1', '-1', '-1', '-1', '-1', '-1', '-1', '-1', '-1', '-1', '-1'], 8: ['-1', '堵', '天', '-1', '-1', '-1', '-1', '-1', '个', '-1', '-1', '-1', '-1', '-1', '-1', '-1', '-1', '-1', '-1', '-1', '-1', '二十', '米', '-1', '-1', '-1', '-1', '-1', '-1', '-1', '-1', '-1', '-1', '-1', '-1', '条', '种', '分钟', '-1', '-1', '-1', '股', '-1', '-1', '-1', '-1', '-1', '位', '-1', '-1', '-1', '-1', '-1', '-1', '-1', '-1', '点', '-1', '-1', '-1', '-1', '一', '-1', '-1', '-1', '-1', '-1', '-1', '-1', '-1', '-1', '-1', '-1', '-1', '-1', '-1', '-1', '-1', '-1', '-1', '-1', '-1', '-1', '-1', '个', '-1', '-1', '-1', '-1', '-1', '-1', '-1', '-1', '-1', '-1', '-1', '-1', '-1', '-1', '-1', '-1', '-1', '-1', '-1', '件', '-1', '-1', '-1', '-1', '-1', '-1', '-1', '-1', '-1', '-1', '-1', '-1', '年', '-1', '-1', '-1', '-1', '-1', '-1', '场', '-1', '-1', '-1', '-1', '-1', '-1', '颗', '颗', '-1', '-1', '-1', '-1', '-1', '-1', '-1', '-1', '-1', '-1', '-1', '-1', '颗', '颗', '-1', '-1', '颗', '-1', '-1', '-1', '-1', '-1', '件', '-1', '-1', '-1', '-1', '-1', '-1', '-1', '-1', '-1', '-1', '-1', '-1', '-1', '些', '一些', '-1', '-1', '-1', '-1', '-1', '-1', '-1', '-1', '-1', '-1', '-1', '-1', '颗', '颗', '-1', '-1', '-1', '-1', '-1', '-1', '-1', '-1', '-1', '-1', '-1', '-1', '-1', '-1', '-1', '-1', '-1', '-1', '-1', '-1', '-1', '-1', '-1', '-1', '-1', '-1', '-1', '-1', '-1', '-1', '-1', '-1', '-1', '-1', '-1', '-1', '-1', '-1', '-1', '-1', '-1', '-1', '-1', '-1', '-1', '-1', '-1', '-1', '-1', '-1', '口', '-1', '天', '-1', '-1', '-1', '-1', '-1', '-1', '-1', '-1', '-1', '-1', '-1', '-1', '-1', '-1', '-1', '-1', '-1', '-1', '-1', '-1', '-1', '-1', '-1', '-1', '-1', '-1', '-1', '-1', '-1', '-1', '-1', '个', '口', '-1', '-1', '-1', '-1', '-1', '步', '-1', '-1', '-1', '-1', '-1', '-1', '根', '-1', '-1', '-1', '-1', '-1', '-1', '-1', '-1', '-1', '步', '-1', '-1', '下', '-1', '-1', '-1', '棵', '-1', '一点', '-1', '-1', '年', '年', '-1', '-1', '-1', '-1', '-1', '-1', '-1', '些', '-1', '-1', '-1', '天', '-1', '-1', '-1', '-1', '-1', '个', '-1', '-1', '-1', '-1', '-1', '-1', '-1', '-1', '-1', '-1', '-1', '天', '-1', '-1', '-1', '-1', '-1', '-1', '-1', '-1', '-1', '天', '-1', '-1', '-1', '-1', '个', '-1', '-1', '-1', '-1', '只', '-1', '朵', '朵', '-1', '-1', '-1', '-1', '-1', '-1', '-1', '-1', '个', '个', '-1', '-1', '-1', '-1', '个', '-1', '-1', '-1', '-1', '-1', '-1', '-1', '-1', '-1', '-1', '-1', '-1', '-1', '-1', '一', '-1', '个', '-1', '-1', '-1', '-1', '-1', '个', '-1', '-1', '-1']}\n",
      "115  = number of classes\n"
     ]
    }
   ],
   "source": [
    "\n",
    "\n",
    "prepare_dataset.prepare_labels(annotation_file, \"data/\", language, pos=pos, oov=oov)\n",
    "\n",
    "#binary = prepare_dataset.convert_to_binary_labels(\"data/\", oov, language) #Ignore"
   ]
  },
  {
   "cell_type": "code",
   "execution_count": 89,
   "metadata": {},
   "outputs": [],
   "source": [
    "#Finds the labels \n",
    "all_labels = []\n",
    "for i in os.listdir(\"data\"):\n",
    "    if os.path.isdir(\"data/\"+i):\n",
    "        for phase in os.listdir(\"data/\"+i):\n",
    "            for run in range(9):\n",
    "                path = f\"data/{i}/{run}/{language}/labels.txt\"\n",
    "                with open(path, \"r\") as f:\n",
    "                    lines = f.readlines()\n",
    "                    for l in lines:\n",
    "                        all_labels.append(l.strip(\"\\n\"))\n",
    "\n",
    "\n",
    "\n",
    "most_common = Counter(all_labels).most_common()\n",
    "label_dict = {}\n",
    "with codecs.open(\"label_dict.txt\", \"r\", encoding=\"utf-8\") as f:\n",
    "    for i in f.readlines():\n",
    "        k = i.split(\"=\")\n",
    "        label_dict[k[1].strip(\"\\n \")] = k[0]\n",
    "most_common_lemmas = []\n",
    "for i in range(len(most_common)):\n",
    "    lbl = most_common[i][0]\n",
    "    most_common_lemmas.append((label_dict[lbl], most_common[i][1]))\n",
    "\n"
   ]
  },
  {
   "cell_type": "code",
   "execution_count": 90,
   "metadata": {},
   "outputs": [
    {
     "name": "stdout",
     "output_type": "stream",
     "text": [
      "['一', '只', '朵', '颗', '种', '天', '位', '次', '座', '年', '些', '分钟', '幅', '一些', '句']\n",
      "[('一 ', 1053), ('只 ', 999), ('朵 ', 864), ('颗 ', 810), ('种 ', 702), ('天 ', 621), ('位 ', 486), ('次 ', 459), ('座 ', 405), ('年 ', 378), ('些 ', 324), ('分钟 ', 297), ('幅 ', 270), ('一些 ', 270), ('句 ', 270)]\n",
      "[('个 ', 4401)]\n"
     ]
    }
   ],
   "source": [
    "vocab15 = []\n",
    "off_set = 1 # to exclude the most frequent words which leads to overfitting\n",
    "label_stats = most_common_lemmas[off_set+1:15+off_set+1]\n",
    "for w, _ in label_stats: #top 15 words\n",
    "    vocab15.append(w.strip())\n",
    "    \n",
    "print(vocab15)\n",
    "print(label_stats)\n",
    "print(most_common_lemmas[1:off_set+1])"
   ]
  },
  {
   "cell_type": "code",
   "execution_count": 91,
   "metadata": {},
   "outputs": [
    {
     "name": "stdout",
     "output_type": "stream",
     "text": [
      "{0: ['-1', '一', '-1', '幅', '一', '只', '幅', '-1', '-1', '-1', '-1', '-1', '-1', '-1', '-1', '-1', '幅', '-1', '-1', '幅', '-1', '-1', '-1', '一', '-1', '-1', '一', '-1', '-1', '-1', '-1', '-1', '-1', '-1', '-1', '-1', '-1', '-1', '-1', '-1', '年', '一', '-1', '-1', '-1', '-1', '-1', '-1', '一', '-1', '-1', '-1', '-1', '-1', '-1', '-1', '-1', '-1', '-1', '-1', '-1', '-1', '一', '-1', '-1', '-1', '-1', '-1', '-1', '-1', '-1', '-1', '-1', '些', '-1', '-1', '-1', '一', '-1', '一', '-1', '年', '次', '-1', '-1', '-1', '-1', '-1', '-1', '-1', '一', '天', '-1', '-1', '-1', '-1', '一', '-1', '-1', '-1', '-1', '只', '一', '只', '-1', '-1', '-1', '-1', '-1', '-1', '幅', '-1', '-1', '-1', '-1', '-1', '-1', '-1', '-1', '-1', '-1', '-1', '-1', '-1', '-1', '-1', '-1', '-1', '-1', '一', '-1', '-1', '-1', '-1', '-1', '-1', '一', '-1', '只', '种', '-1', '-1', '-1', '-1', '-1', '-1', '一', '-1', '只', '-1', '-1', '-1', '-1', '只', '只', '-1', '幅', '幅', '-1', '-1', '-1', '-1', '一', '-1', '-1', '只', '只', '-1', '-1', '-1', '只', '-1', '只', '位', '-1', '-1', '-1', '-1', '-1', '一', '幅', '幅', '只', '只', '-1', '-1', '-1', '-1', '-1', '只', '-1', '位', '位', '-1', '-1', '只', '-1', '-1', '-1', '-1', '只', '-1', '-1', '-1', '-1', '-1', '-1', '-1', '-1', '-1', '-1', '-1', '-1', '一些', '-1', '次', '-1', '种', '-1', '-1', '-1', '-1', '-1', '-1', '-1', '天', '-1', '-1', '-1', '一', '-1', '-1', '-1', '-1', '天', '-1', '-1', '-1', '-1', '-1', '一', '-1', '-1', '-1', '-1', '-1', '-1', '-1', '-1', '-1', '-1', '种', '-1', '-1', '-1', '-1', '-1', '-1', '-1', '-1', '-1', '只', '-1', '-1', '一', '-1', '-1', '-1', '-1', '-1', '-1', '位', '-1', '-1', '-1', '-1', '-1', '-1', '-1', '-1', '句', '-1', '-1'], 1: ['一', '-1', '座', '-1', '-1', '-1', '-1', '-1', '-1', '-1', '一', '-1', '一', '-1', '-1', '-1', '-1', '颗', '-1', '次', '一', '-1', '次', '-1', '-1', '-1', '-1', '-1', '-1', '一', '-1', '-1', '-1', '-1', '位', '-1', '次', '次', '-1', '-1', '-1', '-1', '-1', '一', '-1', '-1', '-1', '-1', '-1', '-1', '-1', '-1', '-1', '-1', '-1', '-1', '一', '-1', '-1', '-1', '-1', '-1', '一', '-1', '-1', '-1', '-1', '-1', '只', '只', '-1', '-1', '-1', '-1', '-1', '-1', '-1', '-1', '一', '-1', '-1', '些', '-1', '-1', '-1', '-1', '-1', '-1', '-1', '一', '一', '-1', '一', '-1', '-1', '-1', '-1', '-1', '-1', '-1', '年', '-1', '-1', '一', '-1', '-1', '一', '-1', '-1', '只', '-1', '一些', '一些', '-1', '-1', '-1', '-1', '-1', '-1', '-1', '-1', '-1', '一', '一', '-1', '-1', '-1', '一', '些', '-1', '-1', '-1', '-1', '-1', '-1', '-1', '-1', '-1', '-1', '-1', '-1', '-1', '-1', '-1', '-1', '-1', '一些', '-1', '-1', '-1', '天', '天', '-1', '次', '-1', '-1', '-1', '-1', '-1', '-1', '-1', '-1', '-1', '-1', '-1', '-1', '-1', '-1', '-1', '-1', '一', '一', '-1', '-1', '只', '-1', '-1', '-1', '-1', '-1', '-1', '-1', '-1', '-1', '-1', '-1', '-1', '-1', '-1', '-1', '-1', '-1', '-1', '-1', '一', '一', '-1', '-1', '一', '-1', '-1', '-1', '一', '-1', '-1', '-1', '-1', '-1', '种', '一', '-1', '-1', '-1', '-1', '-1', '-1', '-1', '-1', '-1', '-1', '-1', '-1', '-1', '-1', '种', '-1', '-1', '-1', '一', '-1', '一', '一', '幅', '一', '一', '-1', '天', '-1', '-1', '-1', '-1', '-1', '种', '-1', '一', '一', '-1', '-1', '-1', '-1', '-1', '-1', '-1', '-1', '-1', '一', '种', '-1', '-1', '-1', '种', '种', '种', '-1', '-1', '幅', '-1', '-1', '-1', '-1', '-1', '-1', '-1', '-1', '些', '-1', '种', '-1', '-1', '-1', '-1', '-1', '-1', '-1', '-1', '天', '-1', '-1', '一', '-1', '-1', '-1', '-1', '-1', '-1', '-1', '-1', '-1', '-1', '-1', '-1', '-1', '分钟', '分钟', '-1', '-1', '-1', '-1', '-1', '-1', '天', '次', '次', '-1', '-1', '-1', '-1', '-1', '天', '次', '-1', '-1'], 2: ['天', '-1', '-1', '-1', '-1', '-1', '-1', '-1', '-1', '-1', '-1', '-1', '-1', '-1', '-1', '颗', '-1', '-1', '-1', '-1', '-1', '-1', '-1', '-1', '句', '-1', '-1', '-1', '-1', '-1', '-1', '-1', '-1', '-1', '-1', '-1', '一', '-1', '-1', '-1', '-1', '-1', '-1', '-1', '-1', '-1', '-1', '一', '-1', '-1', '-1', '-1', '-1', '-1', '-1', '-1', '-1', '一', '一', '朵', '颗', '-1', '-1', '-1', '-1', '-1', '-1', '-1', '-1', '-1', '-1', '-1', '年', '年', '-1', '-1', '-1', '-1', '-1', '-1', '-1', '朵', '-1', '-1', '只', '-1', '-1', '-1', '-1', '-1', '一', '-1', '-1', '-1', '朵', '颗', '朵', '-1', '-1', '-1', '-1', '-1', '-1', '-1', '-1', '-1', '-1', '颗', '颗', '-1', '一', '-1', '-1', '朵', '一', '一', '-1', '些', '-1', '-1', '-1', '-1', '-1', '-1', '朵', '-1', '一些', '一', '-1', '-1', '-1', '-1', '-1', '颗', '-1', '-1', '颗', '种', '-1', '-1', '一', '-1', '一', '-1', '一', '朵', '-1', '-1', '-1', '-1', '一', '-1', '一', '-1', '-1', '-1', '-1', '-1', '天', '-1', '-1', '-1', '-1', '-1', '-1', '-1', '-1', '-1', '-1', '-1', '-1', '-1', '-1', '-1', '-1', '-1', '-1', '-1', '-1', '-1', '一', '-1', '朵', '-1', '-1', '天', '-1', '-1', '-1', '句', '-1', '-1', '-1', '-1', '-1', '-1', '-1', '-1', '-1', '-1', '一', '朵', '-1', '一', '-1', '-1', '-1', '-1', '-1', '-1', '一', '-1', '一', '-1', '-1', '-1', '-1', '-1', '-1', '-1', '-1', '朵', '一', '-1', '一些', '-1', '天', '-1', '-1', '-1', '-1', '朵', '-1', '-1', '-1', '-1', '-1', '-1', '-1', '-1', '-1', '-1', '-1', '-1', '-1', '-1', '-1', '-1', '一', '-1', '天', '-1', '-1', '-1', '-1', '座', '-1', '-1', '-1', '-1', '-1', '-1', '-1', '-1', '-1', '-1', '-1', '-1', '-1', '-1', '-1', '天', '-1', '次', '-1', '-1', '-1', '-1', '-1', '-1', '一', '一', '-1', '-1', '-1', '-1', '-1', '-1', '-1', '-1', '-1', '-1', '-1', '-1', '-1', '-1', '-1', '-1', '一', '-1', '-1', '-1', '-1', '-1', '朵', '-1', '-1', '只', '-1', '-1', '-1', '-1', '-1', '-1', '-1', '-1', '-1', '-1', '-1', '-1', '-1', '朵'], 3: ['-1', '-1', '-1', '颗', '颗', '-1', '颗', '一', '-1', '-1', '一', '-1', '一', '-1', '-1', '-1', '-1', '-1', '-1', '-1', '-1', '-1', '-1', '些', '-1', '-1', '-1', '-1', '-1', '-1', '-1', '一', '-1', '-1', '-1', '-1', '-1', '-1', '-1', '年', '-1', '-1', '-1', '-1', '-1', '-1', '-1', '-1', '-1', '-1', '-1', '-1', '-1', '-1', '-1', '-1', '位', '-1', '-1', '-1', '-1', '只', '位', '-1', '-1', '-1', '-1', '-1', '-1', '-1', '-1', '-1', '-1', '-1', '-1', '-1', '-1', '-1', '-1', '-1', '-1', '-1', '-1', '-1', '-1', '-1', '-1', '-1', '一', '-1', '-1', '-1', '-1', '-1', '-1', '-1', '-1', '-1', '只', '次', '次', '次', '-1', '-1', '-1', '-1', '一', '-1', '-1', '-1', '-1', '只', '朵', '-1', '一', '位', '-1', '-1', '-1', '-1', '-1', '-1', '-1', '-1', '-1', '-1', '-1', '-1', '-1', '-1', '-1', '-1', '-1', '一', '-1', '-1', '-1', '-1', '-1', '-1', '-1', '-1', '-1', '一', '-1', '-1', '-1', '-1', '-1', '-1', '-1', '-1', '-1', '-1', '-1', '一', '-1', '-1', '-1', '-1', '-1', '一', '-1', '-1', '-1', '-1', '-1', '一', '-1', '-1', '-1', '一', '一', '-1', '-1', '-1', '-1', '-1', '一', '-1', '-1', '-1', '-1', '-1', '-1', '只', '-1', '-1', '-1', '-1', '-1', '只', '-1', '只', '-1', '-1', '-1', '-1', '-1', '-1', '-1', '-1', '-1', '一', '-1', '分钟', '-1', '-1', '-1', '-1', '-1', '-1', '-1', '-1', '-1', '-1', '-1', '-1', '一', '-1', '一', '-1', '一', '-1', '-1', '-1', '-1', '-1', '-1', '-1', '-1', '-1', '-1', '一', '-1', '-1', '-1', '只', '只', '-1', '位', '-1', '-1', '位', '-1', '-1', '-1', '分钟', '种', '-1', '-1', '-1', '-1', '只', '-1', '-1', '-1', '-1', '-1', '-1', '-1', '-1', '-1', '-1', '-1', '-1', '-1', '-1', '-1', '-1', '-1', '一', '句', '-1', '一', '一', '-1', '-1', '-1', '-1', '-1', '一', '-1', '-1', '-1', '-1', '-1', '-1', '-1', '-1', '-1', '-1', '-1', '-1', '-1', '-1', '-1', '-1', '-1', '-1', '-1', '-1', '-1', '-1', '-1', '-1', '-1'], 4: ['一', '-1', '-1', '-1', '一', '-1', '-1', '-1', '-1', '-1', '-1', '-1', '-1', '-1', '-1', '-1', '-1', '-1', '-1', '-1', '-1', '-1', '-1', '-1', '-1', '-1', '一', '-1', '位', '-1', '年', '次', '年', '只', '种', '一', '-1', '年', '-1', '-1', '-1', '-1', '次', '-1', '-1', '位', '-1', '-1', '-1', '-1', '-1', '些', '-1', '-1', '-1', '-1', '-1', '-1', '-1', '-1', '-1', '-1', '-1', '颗', '-1', '-1', '-1', '-1', '-1', '-1', '-1', '-1', '一', '-1', '-1', '一', '-1', '-1', '-1', '-1', '-1', '-1', '-1', '-1', '-1', '-1', '一些', '-1', '-1', '-1', '-1', '句', '-1', '-1', '-1', '-1', '-1', '-1', '颗', '颗', '一', '-1', '-1', '一', '-1', '-1', '-1', '-1', '-1', '-1', '-1', '-1', '-1', '一', '一', '一', '-1', '-1', '-1', '一', '-1', '-1', '朵', '-1', '-1', '-1', '-1', '-1', '-1', '-1', '-1', '一', '一', '-1', '-1', '-1', '-1', '-1', '-1', '-1', '-1', '-1', '-1', '朵', '座', '-1', '一', '-1', '-1', '-1', '-1', '-1', '-1', '-1', '-1', '-1', '只', '句', '-1', '-1', '颗', '-1', '颗', '一', '一', '-1', '-1', '一', '-1', '一', '-1', '-1', '-1', '-1', '-1', '-1', '些', '-1', '-1', '-1', '朵', '-1', '-1', '-1', '-1', '-1', '一', '-1', '-1', '-1', '-1', '-1', '-1', '-1', '-1', '-1', '-1', '-1', '-1', '-1', '-1', '-1', '-1', '-1', '-1', '-1', '-1', '-1', '一', '-1', '种', '-1', '-1', '-1', '-1', '-1', '-1', '-1', '-1', '颗', '年', '-1', '-1', '-1', '一', '一', '分钟', '次', '-1', '分钟', '分钟', '-1', '-1', '一', '-1', '天', '-1', '-1', '-1', '-1', '-1', '-1', '-1', '位', '-1', '种', '-1', '-1', '-1', '一', '-1', '-1', '颗', '一', '-1', '-1', '-1', '-1', '-1', '-1', '-1', '-1', '-1', '-1', '-1', '-1', '-1', '-1', '-1', '-1', '-1', '-1', '-1', '-1', '-1', '-1', '-1', '-1', '-1', '-1', '-1', '-1', '-1', '-1', '-1', '-1', '-1', '-1', '颗', '-1', '-1', '次'], 5: ['颗', '位', '-1', '-1', '位', '-1', '-1', '-1', '-1', '-1', '-1', '-1', '一', '-1', '-1', '-1', '-1', '-1', '种', '-1', '-1', '-1', '-1', '-1', '-1', '种', '-1', '位', '颗', '-1', '-1', '-1', '-1', '-1', '-1', '-1', '-1', '-1', '-1', '-1', '-1', '-1', '-1', '-1', '-1', '-1', '-1', '-1', '-1', '一', '-1', '-1', '-1', '-1', '-1', '-1', '-1', '-1', '-1', '-1', '-1', '-1', '-1', '-1', '一', '-1', '-1', '一', '-1', '-1', '一', '-1', '-1', '-1', '-1', '一', '-1', '-1', '座', '座', '一', '-1', '-1', '-1', '-1', '-1', '-1', '-1', '-1', '-1', '-1', '-1', '座', '一些', '-1', '-1', '-1', '-1', '-1', '-1', '-1', '-1', '-1', '-1', '-1', '-1', '-1', '-1', '-1', '-1', '座', '座', '座', '-1', '-1', '朵', '-1', '-1', '-1', '-1', '-1', '-1', '-1', '-1', '-1', '-1', '-1', '-1', '-1', '座', '-1', '一', '-1', '-1', '-1', '-1', '-1', '-1', '-1', '-1', '-1', '-1', '一', '-1', '-1', '-1', '-1', '-1', '-1', '-1', '一', '-1', '-1', '-1', '-1', '-1', '-1', '-1', '-1', '-1', '-1', '-1', '-1', '-1', '次', '-1', '-1', '些', '-1', '颗', '-1', '-1', '-1', '-1', '-1', '-1', '-1', '-1', '颗', '-1', '-1', '-1', '-1', '-1', '-1', '-1', '-1', '-1', '一', '-1', '-1', '-1', '一', '-1', '-1', '-1', '种', '-1', '-1', '-1', '-1', '-1', '-1', '-1', '-1', '-1', '-1', '-1', '-1', '-1', '-1', '-1', '-1', '-1', '一', '一', '-1', '-1', '只', '次', '些', '-1', '-1', '-1', '-1', '一', '-1', '-1', '-1', '-1', '些', '一', '-1', '-1', '一', '-1', '-1', '-1', '-1', '-1', '-1', '-1', '-1', '-1', '-1', '-1', '-1', '-1', '一', '一', '-1', '一', '-1', '-1', '-1', '-1', '-1', '-1', '-1', '-1', '-1', '-1', '-1', '-1', '-1', '-1', '一', '-1', '-1', '-1', '-1', '天', '颗', '-1', '-1', '-1', '-1', '-1', '一', '朵', '-1', '-1', '-1', '-1', '-1', '-1', '-1', '-1', '-1', '-1', '-1', '-1', '-1', '-1', '-1', '-1', '一', '-1', '-1', '-1', '-1', '-1', '-1', '-1', '只', '-1', '-1', '只', '-1', '-1', '-1', '-1', '-1', '一', '-1', '-1', '-1', '-1', '-1', '-1', '-1', '-1', '-1', '-1', '-1', '-1', '-1', '-1', '-1', '-1', '朵', '一', '朵', '-1', '-1', '-1', '-1', '-1', '天', '只', '-1', '-1', '-1', '年', '-1', '-1', '-1', '-1', '-1', '-1', '-1', '-1', '座', '-1', '座', '-1', '座', '-1', '-1', '-1', '-1', '-1', '-1', '一些', '-1', '-1', '-1', '-1', '-1', '-1', '-1', '-1', '-1', '-1', '-1', '-1', '-1', '-1', '-1', '-1', '-1', '-1', '-1', '颗', '-1', '-1', '-1', '只', '只', '-1', '朵', '-1'], 6: ['-1', '-1', '-1', '一', '-1', '-1', '-1', '一', '-1', '-1', '朵', '-1', '-1', '-1', '-1', '-1', '-1', '朵', '种', '一', '朵', '-1', '-1', '-1', '-1', '-1', '-1', '-1', '-1', '-1', '-1', '-1', '-1', '-1', '-1', '朵', '-1', '朵', '朵', '座', '座', '-1', '-1', '一', '-1', '-1', '-1', '只', '-1', '-1', '-1', '-1', '-1', '-1', '-1', '-1', '-1', '-1', '只', '-1', '-1', '-1', '-1', '-1', '-1', '-1', '-1', '-1', '-1', '-1', '-1', '-1', '-1', '-1', '-1', '-1', '-1', '-1', '-1', '-1', '-1', '-1', '-1', '-1', '-1', '-1', '-1', '-1', '-1', '-1', '-1', '-1', '-1', '一', '-1', '-1', '-1', '-1', '只', '只', '只', '-1', '-1', '-1', '-1', '-1', '-1', '-1', '-1', '朵', '-1', '-1', '-1', '-1', '-1', '-1', '-1', '一', '-1', '-1', '-1', '-1', '-1', '-1', '-1', '-1', '-1', '-1', '-1', '-1', '-1', '-1', '-1', '-1', '-1', '-1', '种', '-1', '-1', '-1', '-1', '-1', '-1', '-1', '-1', '-1', '-1', '-1', '-1', '-1', '-1', '-1', '-1', '-1', '-1', '-1', '-1', '-1', '-1', '-1', '-1', '-1', '-1', '-1', '-1', '-1', '-1', '-1', '-1', '-1', '-1', '-1', '一', '-1', '些', '些', '-1', '-1', '-1', '些', '-1', '-1', '-1', '天', '些', '天', '-1', '-1', '-1', '-1', '-1', '-1', '-1', '-1', '-1', '-1', '-1', '-1', '-1', '-1', '-1', '-1', '种', '-1', '-1', '天', '一', '-1', '一', '种', '-1', '-1', '一', '-1', '-1', '-1', '-1', '-1', '-1', '-1', '-1', '-1', '-1', '-1', '-1', '-1', '-1', '-1', '-1', '-1', '-1', '-1', '-1', '-1', '-1', '-1', '-1', '-1', '朵', '朵', '-1', '-1', '一', '-1', '-1', '朵', '-1', '-1', '-1', '-1', '-1', '-1', '只', '只', '-1', '-1', '-1', '-1', '-1', '-1', '-1', '-1', '-1', '-1', '一', '-1', '一', '朵', '-1', '-1', '-1', '-1', '-1', '只', '-1', '-1', '-1', '-1', '-1', '-1', '-1', '-1', '-1', '-1', '-1', '-1', '-1', '-1', '-1', '-1', '-1', '-1', '-1', '句', '-1', '-1', '-1', '-1', '-1', '-1', '-1', '-1', '-1', '-1', '-1', '-1', '-1', '-1', '-1', '-1', '-1', '-1', '-1', '-1', '-1', '-1', '-1', '一', '-1', '一', '-1', '-1', '-1', '-1', '一', '-1', '-1', '-1', '-1', '-1', '-1', '-1', '-1', '-1', '-1', '-1', '-1', '-1', '次', '-1', '-1', '-1', '-1', '-1', '-1', '-1', '-1', '-1', '-1', '-1', '-1', '-1', '-1', '-1', '-1', '-1', '一', '一', '-1', '-1', '-1', '-1', '-1', '-1'], 7: ['-1', '-1', '位', '-1', '一', '-1', '-1', '-1', '-1', '-1', '-1', '分钟', '分钟', '-1', '-1', '-1', '分钟', '分钟', '-1', '-1', '天', '-1', '-1', '一', '-1', '-1', '-1', '-1', '-1', '-1', '-1', '-1', '-1', '-1', '-1', '-1', '-1', '-1', '-1', '-1', '一', '一', '-1', '-1', '-1', '-1', '-1', '-1', '-1', '-1', '一', '-1', '-1', '-1', '-1', '-1', '-1', '天', '-1', '-1', '-1', '-1', '-1', '-1', '-1', '-1', '-1', '-1', '-1', '-1', '-1', '-1', '-1', '-1', '-1', '-1', '-1', '朵', '-1', '-1', '-1', '-1', '-1', '-1', '-1', '一', '-1', '-1', '种', '-1', '-1', '-1', '一', '-1', '-1', '一', '座', '-1', '一', '-1', '-1', '-1', '-1', '-1', '-1', '-1', '一', '-1', '-1', '-1', '-1', '-1', '-1', '-1', '-1', '-1', '-1', '一', '-1', '-1', '-1', '-1', '-1', '-1', '-1', '-1', '-1', '-1', '一', '-1', '-1', '-1', '-1', '朵', '朵', '-1', '朵', '一', '-1', '-1', '-1', '-1', '一', '-1', '-1', '-1', '-1', '-1', '-1', '-1', '-1', '-1', '-1', '-1', '-1', '-1', '-1', '-1', '-1', '-1', '-1', '-1', '-1', '-1', '-1', '-1', '-1', '一', '-1', '-1', '-1', '-1', '-1', '-1', '-1', '-1', '-1', '-1', '-1', '-1', '-1', '-1', '种', '-1', '-1', '-1', '-1', '-1', '-1', '-1', '种', '-1', '-1', '-1', '一', '一', '-1', '-1', '-1', '-1', '-1', '-1', '一', '朵', '-1', '-1', '-1', '-1', '-1', '-1', '朵', '-1', '-1', '句', '句', '-1', '-1', '-1', '-1', '-1', '-1', '-1', '-1', '-1', '-1', '-1', '-1', '-1', '一', '-1', '-1', '-1', '-1', '-1', '-1', '-1', '-1', '-1', '-1', '-1', '-1', '-1', '-1', '只', '只', '-1', '-1', '-1', '-1', '一', '-1', '-1', '-1', '-1', '-1', '-1', '-1', '一', '-1', '-1', '-1', '-1', '-1', '一', '-1', '一', '一', '天', '一', '-1', '-1', '-1', '-1', '-1', '句', '-1', '-1', '-1', '-1', '-1', '-1', '-1', '-1', '-1', '-1', '-1', '-1', '-1', '-1', '-1', '-1', '-1', '-1'], 8: ['-1', '一', '天', '-1', '-1', '-1', '-1', '-1', '一', '-1', '-1', '-1', '-1', '-1', '-1', '-1', '-1', '-1', '-1', '-1', '-1', '-1', '-1', '-1', '-1', '-1', '-1', '-1', '-1', '-1', '-1', '-1', '-1', '一', '一', '一', '种', '分钟', '-1', '-1', '一', '一', '-1', '-1', '-1', '-1', '-1', '位', '-1', '-1', '-1', '-1', '-1', '-1', '-1', '-1', '-1', '-1', '-1', '-1', '-1', '只', '-1', '-1', '-1', '-1', '-1', '-1', '-1', '-1', '-1', '-1', '-1', '-1', '-1', '-1', '-1', '-1', '-1', '-1', '-1', '-1', '-1', '-1', '一', '-1', '-1', '-1', '-1', '-1', '-1', '-1', '-1', '-1', '-1', '-1', '-1', '-1', '-1', '-1', '-1', '-1', '-1', '-1', '一', '-1', '-1', '一', '-1', '-1', '-1', '-1', '-1', '-1', '-1', '-1', '-1', '年', '-1', '-1', '-1', '-1', '-1', '-1', '一', '-1', '-1', '-1', '-1', '-1', '-1', '颗', '颗', '-1', '-1', '-1', '-1', '-1', '-1', '-1', '-1', '-1', '-1', '-1', '-1', '颗', '颗', '-1', '-1', '颗', '-1', '-1', '-1', '-1', '-1', '一', '-1', '-1', '-1', '-1', '-1', '-1', '-1', '-1', '-1', '-1', '-1', '-1', '-1', '些', '一些', '-1', '-1', '-1', '-1', '-1', '-1', '-1', '-1', '-1', '-1', '-1', '-1', '颗', '颗', '-1', '-1', '-1', '-1', '-1', '-1', '-1', '-1', '-1', '-1', '-1', '-1', '-1', '-1', '-1', '-1', '-1', '-1', '-1', '-1', '-1', '-1', '-1', '-1', '-1', '-1', '一', '-1', '-1', '-1', '-1', '-1', '-1', '-1', '-1', '-1', '-1', '-1', '-1', '-1', '-1', '-1', '-1', '-1', '-1', '-1', '-1', '-1', '-1', '-1', '-1', '-1', '天', '-1', '-1', '-1', '-1', '-1', '-1', '-1', '-1', '-1', '-1', '-1', '-1', '-1', '-1', '-1', '-1', '-1', '-1', '-1', '-1', '-1', '-1', '-1', '-1', '-1', '-1', '-1', '-1', '-1', '-1', '-1', '-1', '-1', '-1', '-1', '-1', '-1', '-1', '一', '-1', '-1', '-1', '-1', '-1', '-1', '-1', '-1', '-1', '-1', '-1', '-1', '-1', '-1', '-1', '-1', '一', '-1', '-1', '一', '-1', '-1', '-1', '一', '-1', '-1', '-1', '-1', '年', '年', '-1', '-1', '-1', '-1', '-1', '-1', '-1', '些', '-1', '-1', '-1', '天', '-1', '-1', '-1', '-1', '-1', '-1', '-1', '-1', '-1', '-1', '-1', '-1', '-1', '-1', '-1', '-1', '-1', '天', '-1', '-1', '-1', '-1', '-1', '-1', '-1', '-1', '-1', '天', '-1', '-1', '-1', '-1', '一', '-1', '-1', '-1', '-1', '只', '-1', '朵', '朵', '-1', '-1', '-1', '一', '-1', '-1', '-1', '-1', '一', '-1', '-1', '-1', '-1', '-1', '一', '-1', '-1', '-1', '-1', '-1', '-1', '-1', '-1', '-1', '-1', '-1', '-1', '-1', '-1', '一', '-1', '-1', '-1', '-1', '-1', '-1', '-1', '-1', '-1', '-1', '-1']}\n",
      "16  = number of classes\n"
     ]
    }
   ],
   "source": [
    "\n",
    "prepare_dataset.prepare_handpicked_labels(annotation_file, \"data/\", vocab15, oov=oov, language=language)"
   ]
  },
  {
   "cell_type": "code",
   "execution_count": 92,
   "metadata": {},
   "outputs": [
    {
     "name": "stdout",
     "output_type": "stream",
     "text": [
      "0\n",
      "moved  79893  files\n"
     ]
    }
   ],
   "source": [
    "#Exclude data that corresponds to oov\n",
    "with codecs.open(\"label_dict.txt\", \"r\", encoding=\"utf-8\") as f:\n",
    "    for i in f.readlines():\n",
    "        k = i.split(\"=\")\n",
    "        if k[0].strip() == oov:\n",
    "            label_2_remove = int(k[1].strip(\"\\n \"))\n",
    "            break\n",
    "print(label_2_remove)\n",
    "labels_dict = {}\n",
    "for i in os.listdir(\"data\"):\n",
    "    if os.path.isdir(\"data/\"+i):\n",
    "        for phase in os.listdir(\"data/\"+i):\n",
    "            for run in range(9):\n",
    "                labels = np.loadtxt(f\"data/{i}/{run}/{language}/labels.txt\")\n",
    "                labels_dict[run] = labels\n",
    "\n",
    "exclusion_idxs = {k:[] for k in range(9)}\n",
    "\n",
    "for run in labels_dict.keys():\n",
    "    for idx, label in enumerate(labels_dict[run]):\n",
    "        if label==label_2_remove:\n",
    "            exclusion_idxs[run].append(idx)\n",
    "\n",
    "\n",
    "for i in os.listdir(\"data\"):\n",
    "    if os.path.isdir(\"data/\"+i):\n",
    "        for phase in os.listdir(\"data/\"+i):\n",
    "            for run in range(9):\n",
    "                path = f\"data/{i}/{run}/{language}/labels.txt\"\n",
    "                with open(path, \"r\") as f:\n",
    "                    lines = f.readlines()\n",
    "                with open(path, \"w\") as f:\n",
    "                    for line in lines:\n",
    "                        if line.strip(\"\\n \") != str(label_2_remove):\n",
    "                            f.write(line)\n",
    "\n",
    "count = 0\n",
    "for phase in os.listdir(\"data/\"):\n",
    "    for run in range(9):\n",
    "        path = f\"data/{phase}/{run}/{language}/\"\n",
    "        for file in os.listdir(path):\n",
    "            if file.endswith(\".txt\"):\n",
    "                continue\n",
    "            file_path = f\"data/{phase}/{run}/{language}/{file}\"\n",
    "            idx = file.split(\"_\")[-1][:-4]\n",
    "            if int(idx) in exclusion_idxs[run]:\n",
    "                count +=1 \n",
    "                dest = f\"aux_data/{phase}/{run}/{language}/\"\n",
    "                if not os.path.exists(dest):\n",
    "                    os.makedirs(dest)\n",
    "                shutil.move(file_path, f\"aux_data/{phase}/{run}/{language}/\")\n",
    "                \n",
    "print(\"moved \", count, \" files\")\n"
   ]
  },
  {
   "cell_type": "code",
   "execution_count": 93,
   "metadata": {},
   "outputs": [
    {
     "data": {
      "text/plain": [
       "{'Test': 1715, 'Train': 13675, 'Val': 1770}"
      ]
     },
     "execution_count": 93,
     "metadata": {},
     "output_type": "execute_result"
    }
   ],
   "source": [
    "\n",
    "def count_files():\n",
    "    counts = {}\n",
    "    # Iterate directory\n",
    "    for phase in os.listdir(\"data\"):\n",
    "        if os.path.isdir(\"data/\"+phase):\n",
    "            count=0\n",
    "            for run in os.listdir(f\"data/{phase}/\"):\n",
    "                for file in os.listdir(f\"data/{phase}/{run}/{language}\"):\n",
    "                    if file.endswith(\".npy\"):\n",
    "                        count += 1\n",
    "        counts[phase] = count\n",
    "    return counts\n",
    "\n",
    "count_files()"
   ]
  },
  {
   "cell_type": "code",
   "execution_count": 94,
   "metadata": {},
   "outputs": [
    {
     "data": {
      "text/plain": [
       "0.20288505505720872"
      ]
     },
     "execution_count": 94,
     "metadata": {},
     "output_type": "execute_result"
    }
   ],
   "source": [
    "def calc_baseline(lbl = \"data/Test/\", language = \"EN\"):\n",
    "    prob = 0\n",
    "    labels = []\n",
    "    for run in os.listdir(lbl):\n",
    "        path = lbl +\"/\"+ run + \"/\" + language\n",
    "        multiplier = len(os.listdir(path))-1\n",
    "        if multiplier>0:\n",
    "            for _ in range(int(multiplier/len(np.loadtxt(path+\"/labels.txt\")))):\n",
    "                labels.append(np.loadtxt(path+\"/labels.txt\"))\n",
    "    labels = np.concatenate(labels).ravel()\n",
    "    total = labels.size\n",
    "    label_c = Counter(labels)\n",
    "    for _, v in label_c.items():\n",
    "        prob += (v/total)**2\n",
    "    return prob\n",
    "\n",
    "calc_baseline(language=language)"
   ]
  },
  {
   "cell_type": "code",
   "execution_count": 95,
   "metadata": {},
   "outputs": [],
   "source": [
    "#Write a log\n",
    "import json\n",
    "import datetime\n",
    "with codecs.open(\"config_stats.txt\", \"a\", encoding=\"utf-8\") as f:\n",
    "    f.write(\"\\n\")\n",
    "    f.write(f\"{datetime.datetime.now()}\\n\")\n",
    "    f.write(pos + \"\\n\")\n",
    "    f.write(f\"{off_set+1}th to {off_set+15}th\\n\")\n",
    "    for i in vocab15:\n",
    "        f.write(str(i) + \", \")\n",
    "    f.write(\"\\n\")\n",
    "    f.write(json.dumps(count_files()))\n",
    "    f.write(\"\\n\")\n",
    "f.close()"
   ]
  },
  {
   "cell_type": "code",
   "execution_count": 96,
   "metadata": {},
   "outputs": [],
   "source": [
    "batch_size=50\n",
    "config = f\"{config_version}_{language}_top15{pos}\"\n"
   ]
  },
  {
   "cell_type": "code",
   "execution_count": 97,
   "metadata": {},
   "outputs": [
    {
     "name": "stdout",
     "output_type": "stream",
     "text": [
      "2022-12-13 21:05:35.614277\n",
      "cuda\n",
      "Epoch 1/10\n",
      "-------------\n",
      "{'train': <torch.utils.data.dataloader.DataLoader object at 0x000002A142598340>, 'valid': <torch.utils.data.dataloader.DataLoader object at 0x000002A167BBAC80>, 'test': <torch.utils.data.dataloader.DataLoader object at 0x000002A167BBAE30>}\n"
     ]
    },
    {
     "name": "stderr",
     "output_type": "stream",
     "text": [
      "c:\\Users\\kjart\\OneDrive\\Dokumenter\\KU\\3. semester\\Cog sci 3\\CompCogSci3\\mt_deep-master\\scripts\\model_m2dcnn.py:78: UserWarning: nn.init.xavier_uniform is now deprecated in favor of nn.init.xavier_uniform_.\n",
      "  nn.init.xavier_uniform(m.weight, gain=nn.init.calculate_gain('relu'))\n"
     ]
    },
    {
     "name": "stdout",
     "output_type": "stream",
     "text": [
      " 36.56 %\n",
      " 73.13 %\n",
      "##### train Loss: 2.5118 Acc: 0.2849 #####\n",
      "{'train': <torch.utils.data.dataloader.DataLoader object at 0x000002A142598340>, 'valid': <torch.utils.data.dataloader.DataLoader object at 0x000002A167BBAC80>, 'test': <torch.utils.data.dataloader.DataLoader object at 0x000002A167BBAE30>}\n",
      "##### valid Loss: 2.1677 Acc: 0.4141 #####\n",
      "Epoch 2/10\n",
      "-------------\n",
      "{'train': <torch.utils.data.dataloader.DataLoader object at 0x000002A142598340>, 'valid': <torch.utils.data.dataloader.DataLoader object at 0x000002A167BBAC80>, 'test': <torch.utils.data.dataloader.DataLoader object at 0x000002A167BBAE30>}\n",
      " 36.56 %\n",
      " 73.13 %\n",
      "##### train Loss: 2.2130 Acc: 0.4081 #####\n",
      "{'train': <torch.utils.data.dataloader.DataLoader object at 0x000002A142598340>, 'valid': <torch.utils.data.dataloader.DataLoader object at 0x000002A167BBAC80>, 'test': <torch.utils.data.dataloader.DataLoader object at 0x000002A167BBAE30>}\n",
      "##### valid Loss: 2.1628 Acc: 0.4141 #####\n",
      "Epoch 3/10\n",
      "-------------\n",
      "{'train': <torch.utils.data.dataloader.DataLoader object at 0x000002A142598340>, 'valid': <torch.utils.data.dataloader.DataLoader object at 0x000002A167BBAC80>, 'test': <torch.utils.data.dataloader.DataLoader object at 0x000002A167BBAE30>}\n",
      " 36.56 %\n",
      " 73.13 %\n",
      "##### train Loss: 2.1852 Acc: 0.4087 #####\n",
      "{'train': <torch.utils.data.dataloader.DataLoader object at 0x000002A142598340>, 'valid': <torch.utils.data.dataloader.DataLoader object at 0x000002A167BBAC80>, 'test': <torch.utils.data.dataloader.DataLoader object at 0x000002A167BBAE30>}\n",
      "##### valid Loss: 2.1536 Acc: 0.4141 #####\n",
      "Epoch 4/10\n",
      "-------------\n",
      "{'train': <torch.utils.data.dataloader.DataLoader object at 0x000002A142598340>, 'valid': <torch.utils.data.dataloader.DataLoader object at 0x000002A167BBAC80>, 'test': <torch.utils.data.dataloader.DataLoader object at 0x000002A167BBAE30>}\n",
      " 36.56 %\n",
      " 73.13 %\n",
      "##### train Loss: 2.1742 Acc: 0.4097 #####\n",
      "{'train': <torch.utils.data.dataloader.DataLoader object at 0x000002A142598340>, 'valid': <torch.utils.data.dataloader.DataLoader object at 0x000002A167BBAC80>, 'test': <torch.utils.data.dataloader.DataLoader object at 0x000002A167BBAE30>}\n",
      "##### valid Loss: 2.1368 Acc: 0.4141 #####\n",
      "Epoch 5/10\n",
      "-------------\n",
      "{'train': <torch.utils.data.dataloader.DataLoader object at 0x000002A142598340>, 'valid': <torch.utils.data.dataloader.DataLoader object at 0x000002A167BBAC80>, 'test': <torch.utils.data.dataloader.DataLoader object at 0x000002A167BBAE30>}\n",
      " 36.56 %\n",
      " 73.13 %\n",
      "##### train Loss: 2.1529 Acc: 0.4091 #####\n",
      "{'train': <torch.utils.data.dataloader.DataLoader object at 0x000002A142598340>, 'valid': <torch.utils.data.dataloader.DataLoader object at 0x000002A167BBAC80>, 'test': <torch.utils.data.dataloader.DataLoader object at 0x000002A167BBAE30>}\n",
      "##### valid Loss: 2.1358 Acc: 0.4141 #####\n",
      "Epoch 6/10\n",
      "-------------\n",
      "{'train': <torch.utils.data.dataloader.DataLoader object at 0x000002A142598340>, 'valid': <torch.utils.data.dataloader.DataLoader object at 0x000002A167BBAC80>, 'test': <torch.utils.data.dataloader.DataLoader object at 0x000002A167BBAE30>}\n",
      " 36.56 %\n",
      " 73.13 %\n",
      "##### train Loss: 2.1416 Acc: 0.4089 #####\n",
      "{'train': <torch.utils.data.dataloader.DataLoader object at 0x000002A142598340>, 'valid': <torch.utils.data.dataloader.DataLoader object at 0x000002A167BBAC80>, 'test': <torch.utils.data.dataloader.DataLoader object at 0x000002A167BBAE30>}\n",
      "##### valid Loss: 2.1340 Acc: 0.4107 #####\n",
      "Epoch 7/10\n",
      "-------------\n",
      "{'train': <torch.utils.data.dataloader.DataLoader object at 0x000002A142598340>, 'valid': <torch.utils.data.dataloader.DataLoader object at 0x000002A167BBAC80>, 'test': <torch.utils.data.dataloader.DataLoader object at 0x000002A167BBAE30>}\n",
      " 36.56 %\n",
      " 73.13 %\n",
      "##### train Loss: 2.1207 Acc: 0.4104 #####\n",
      "{'train': <torch.utils.data.dataloader.DataLoader object at 0x000002A142598340>, 'valid': <torch.utils.data.dataloader.DataLoader object at 0x000002A167BBAC80>, 'test': <torch.utils.data.dataloader.DataLoader object at 0x000002A167BBAE30>}\n",
      "##### valid Loss: 2.1576 Acc: 0.4141 #####\n",
      "Epoch 8/10\n",
      "-------------\n",
      "{'train': <torch.utils.data.dataloader.DataLoader object at 0x000002A142598340>, 'valid': <torch.utils.data.dataloader.DataLoader object at 0x000002A167BBAC80>, 'test': <torch.utils.data.dataloader.DataLoader object at 0x000002A167BBAE30>}\n",
      " 36.56 %\n",
      " 73.13 %\n",
      "##### train Loss: 2.1042 Acc: 0.4089 #####\n",
      "{'train': <torch.utils.data.dataloader.DataLoader object at 0x000002A142598340>, 'valid': <torch.utils.data.dataloader.DataLoader object at 0x000002A167BBAC80>, 'test': <torch.utils.data.dataloader.DataLoader object at 0x000002A167BBAE30>}\n",
      "##### valid Loss: 2.1313 Acc: 0.4141 #####\n",
      "Epoch 9/10\n",
      "-------------\n",
      "{'train': <torch.utils.data.dataloader.DataLoader object at 0x000002A142598340>, 'valid': <torch.utils.data.dataloader.DataLoader object at 0x000002A167BBAC80>, 'test': <torch.utils.data.dataloader.DataLoader object at 0x000002A167BBAE30>}\n",
      " 36.56 %\n",
      " 73.13 %\n",
      "##### train Loss: 2.0868 Acc: 0.4088 #####\n",
      "{'train': <torch.utils.data.dataloader.DataLoader object at 0x000002A142598340>, 'valid': <torch.utils.data.dataloader.DataLoader object at 0x000002A167BBAC80>, 'test': <torch.utils.data.dataloader.DataLoader object at 0x000002A167BBAE30>}\n",
      "##### valid Loss: 2.1223 Acc: 0.3910 #####\n",
      "Epoch 10/10\n",
      "-------------\n",
      "{'train': <torch.utils.data.dataloader.DataLoader object at 0x000002A142598340>, 'valid': <torch.utils.data.dataloader.DataLoader object at 0x000002A167BBAC80>, 'test': <torch.utils.data.dataloader.DataLoader object at 0x000002A167BBAE30>}\n",
      " 36.56 %\n",
      " 73.13 %\n",
      "##### train Loss: 2.0704 Acc: 0.4070 #####\n",
      "{'train': <torch.utils.data.dataloader.DataLoader object at 0x000002A142598340>, 'valid': <torch.utils.data.dataloader.DataLoader object at 0x000002A167BBAC80>, 'test': <torch.utils.data.dataloader.DataLoader object at 0x000002A167BBAE30>}\n",
      "##### valid Loss: 2.0872 Acc: 0.4107 #####\n"
     ]
    },
    {
     "data": {
      "application/vnd.jupyter.widget-view+json": {
       "model_id": "5416092c938c4a9a8448865f76dd8d2d",
       "version_major": 2,
       "version_minor": 0
      },
      "text/plain": [
       "  0%|          | 0/35 [00:00<?, ?it/s]"
      ]
     },
     "metadata": {},
     "output_type": "display_data"
    },
    {
     "name": "stdout",
     "output_type": "stream",
     "text": [
      "Test Accuracy: 0.4152\n"
     ]
    },
    {
     "data": {
      "image/png": "[encoded data removed]",
      "text/plain": [
       "<Figure size 640x480 with 2 Axes>"
      ]
     },
     "metadata": {},
     "output_type": "display_data"
    },
    {
     "data": {
      "image/png": "[encoded data removed]",
      "text/plain": [
       "<Figure size 640x480 with 1 Axes>"
      ]
     },
     "metadata": {},
     "output_type": "display_data"
    },
    {
     "data": {
      "image/png": "[encoded data removed]",
      "text/plain": [
       "<Figure size 640x480 with 1 Axes>"
      ]
     },
     "metadata": {},
     "output_type": "display_data"
    },
    {
     "name": "stdout",
     "output_type": "stream",
     "text": [
      "0:28:21.597895\n"
     ]
    }
   ],
   "source": [
    "\n",
    "train_pytorch.train(binary=False, batch_size = batch_size, num_epochs = 10, language=language, config=config, model = \"2d\", weights=None)"
   ]
  },
  {
   "cell_type": "code",
   "execution_count": 98,
   "metadata": {},
   "outputs": [
    {
     "name": "stdout",
     "output_type": "stream",
     "text": [
      "16\n"
     ]
    },
    {
     "data": {
      "application/vnd.jupyter.widget-view+json": {
       "model_id": "bdc52a94013d45dfbc5d402108f4c222",
       "version_major": 2,
       "version_minor": 0
      },
      "text/plain": [
       "  0%|          | 0/35 [00:00<?, ?it/s]"
      ]
     },
     "metadata": {},
     "output_type": "display_data"
    },
    {
     "name": "stdout",
     "output_type": "stream",
     "text": [
      "Test Accuracy: 0.4152\n"
     ]
    },
    {
     "data": {
      "text/plain": [
       "(M2DCNN(\n",
       "   (up_conv): Conv2d(\n",
       "     (conv_block): Sequential(\n",
       "       (0): Conv2d(73, 16, kernel_size=(3, 3), stride=(1, 1))\n",
       "       (1): mish()\n",
       "       (2): MaxPool2d(kernel_size=(2, 2), stride=(2, 2), padding=0, dilation=1, ceil_mode=False)\n",
       "       (3): BatchNorm2d(16, eps=1e-05, momentum=0.1, affine=True, track_running_stats=True)\n",
       "       (4): Conv2d(16, 32, kernel_size=(3, 3), stride=(1, 1))\n",
       "       (5): mish()\n",
       "       (6): MaxPool2d(kernel_size=(2, 2), stride=(2, 2), padding=0, dilation=1, ceil_mode=False)\n",
       "       (7): BatchNorm2d(32, eps=1e-05, momentum=0.1, affine=True, track_running_stats=True)\n",
       "     )\n",
       "   )\n",
       "   (front_conv): Conv2d(\n",
       "     (conv_block): Sequential(\n",
       "       (0): Conv2d(90, 16, kernel_size=(3, 3), stride=(1, 1))\n",
       "       (1): mish()\n",
       "       (2): MaxPool2d(kernel_size=(2, 2), stride=(2, 2), padding=0, dilation=1, ceil_mode=False)\n",
       "       (3): BatchNorm2d(16, eps=1e-05, momentum=0.1, affine=True, track_running_stats=True)\n",
       "       (4): Conv2d(16, 32, kernel_size=(3, 3), stride=(1, 1))\n",
       "       (5): mish()\n",
       "       (6): MaxPool2d(kernel_size=(2, 2), stride=(2, 2), padding=0, dilation=1, ceil_mode=False)\n",
       "       (7): BatchNorm2d(32, eps=1e-05, momentum=0.1, affine=True, track_running_stats=True)\n",
       "     )\n",
       "   )\n",
       "   (left_conv): Conv2d(\n",
       "     (conv_block): Sequential(\n",
       "       (0): Conv2d(74, 16, kernel_size=(3, 3), stride=(1, 1))\n",
       "       (1): mish()\n",
       "       (2): MaxPool2d(kernel_size=(2, 2), stride=(2, 2), padding=0, dilation=1, ceil_mode=False)\n",
       "       (3): BatchNorm2d(16, eps=1e-05, momentum=0.1, affine=True, track_running_stats=True)\n",
       "       (4): Conv2d(16, 32, kernel_size=(3, 3), stride=(1, 1))\n",
       "       (5): mish()\n",
       "       (6): MaxPool2d(kernel_size=(2, 2), stride=(2, 2), padding=0, dilation=1, ceil_mode=False)\n",
       "       (7): BatchNorm2d(32, eps=1e-05, momentum=0.1, affine=True, track_running_stats=True)\n",
       "     )\n",
       "   )\n",
       "   (fc): Sequential(\n",
       "     (0): BatchNorm1d(30880, eps=1e-05, momentum=0.1, affine=True, track_running_stats=True)\n",
       "     (1): Linear(in_features=30880, out_features=128, bias=True)\n",
       "     (2): mish()\n",
       "     (3): BatchNorm1d(128, eps=1e-05, momentum=0.1, affine=True, track_running_stats=True)\n",
       "   )\n",
       "   (clfc): Sequential(\n",
       "     (0): Dropout(p=0.5, inplace=False)\n",
       "     (1): Linear(in_features=128, out_features=16, bias=True)\n",
       "   )\n",
       " ),\n",
       " tensor(0.4152, device='cuda:0', dtype=torch.float64))"
      ]
     },
     "execution_count": 98,
     "metadata": {},
     "output_type": "execute_result"
    },
    {
     "data": {
      "image/png": "[encoded data removed]",
      "text/plain": [
       "<Figure size 640x480 with 2 Axes>"
      ]
     },
     "metadata": {},
     "output_type": "display_data"
    }
   ],
   "source": [
    "import model_m2dcnn as model\n",
    "from torch.utils.data import DataLoader\n",
    "from dataset import lpp_Dataset\n",
    "\n",
    "batch_size = 50\n",
    "binary = False\n",
    "test_dataloader = DataLoader(lpp_Dataset(\"data/Test/\", language=language), batch_size=batch_size, shuffle=False)\n",
    "if binary:\n",
    "        nb_classes = 2\n",
    "else:\n",
    "    with codecs.open(\"label_dict.txt\", \"r\", encoding=\"utf-8\") as f:\n",
    "        nb_classes = len(f.readlines())\n",
    "      \n",
    "print(nb_classes)\n",
    "train_pytorch.test(model.M2DCNN(numClass=nb_classes, numFeatues=30880, DIMX=74, DIMY=90, DIMZ=73), config,f\"results/{config}_weights.pth\", nb_classes, test_dataloader)"
   ]
  },
  {
   "cell_type": "code",
   "execution_count": null,
   "metadata": {},
   "outputs": [],
   "source": []
  }
 ],
 "metadata": {
  "kernelspec": {
   "display_name": "cogSciEnv",
   "language": "python",
   "name": "python3"
  },
  "language_info": {
   "codemirror_mode": {
    "name": "ipython",
    "version": 3
   },
   "file_extension": ".py",
   "mimetype": "text/x-python",
   "name": "python",
   "nbconvert_exporter": "python",
   "pygments_lexer": "ipython3",
   "version": "3.10.8"
  },
  "orig_nbformat": 4,
  "vscode": {
   "interpreter": {
    "hash": "ee8826d4702f16d0fb1dbf01a1d644cd38b1dd67f0d2287bca04130bed3d8f05"
   }
  }
 },
 "nbformat": 4,
 "nbformat_minor": 2
}
