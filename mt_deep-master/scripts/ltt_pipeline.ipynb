{
 "cells": [
  {
   "cell_type": "code",
   "execution_count": 1,
   "metadata": {},
   "outputs": [],
   "source": [
    "#Train, val, Test splitter\n",
    "import train_pytorch\n",
    "import prepare_dataset\n",
    "import random\n",
    "import time \n",
    "from collections import Counter\n",
    "import os\n",
    "import numpy as np\n",
    "import shutil\n",
    "#os.chdir(\"/Users/kjartan/Documents/CompCogSci3/\") \n",
    "os.chdir(r\"C:\\Users\\kjart\\OneDrive\\Dokumenter\\KU\\3. semester\\Cog sci 3\\CompCogSci3\")"
   ]
  },
  {
   "cell_type": "code",
   "execution_count": 2,
   "metadata": {},
   "outputs": [
    {
     "name": "stdout",
     "output_type": "stream",
     "text": [
      "\n",
      "Delete the contents of data dir?...\n",
      "[Y/N]?\n",
      "Done removing folders\n",
      "\n",
      "Retriving data...\n",
      "Done retriving data\n",
      "Moving data into folders....\n",
      "raw_data/derivatives/sub-EN091\\func\\sub-EN091_task-lppEN_run-09_space-MNIColin27_desc-preproc_bold.nii.gz\n",
      "raw_data/derivatives/sub-EN091\\func\\sub-EN091_task-lppEN_run-15_space-MNIColin27_desc-preproc_bold.nii.gz\n",
      "raw_data/derivatives/sub-EN091\\func\\sub-EN091_task-lppEN_run-10_space-MNIColin27_desc-preproc_bold.nii.gz\n",
      "raw_data/derivatives/sub-EN091\\func\\sub-EN091_task-lppEN_run-12_space-MNIColin27_desc-preproc_bold.nii.gz\n",
      "raw_data/derivatives/sub-EN091\\func\\sub-EN091_task-lppEN_run-13_space-MNIColin27_desc-preproc_bold.nii.gz\n",
      "raw_data/derivatives/sub-EN091\\func\\sub-EN091_task-lppEN_run-11_space-MNIColin27_desc-preproc_bold.nii.gz\n",
      "raw_data/derivatives/sub-EN091\\func\\sub-EN091_task-lppEN_run-14_space-MNIColin27_desc-preproc_bold.nii.gz\n",
      "raw_data/derivatives/sub-EN091\\func\\sub-EN091_task-lppEN_run-07_space-MNIColin27_desc-preproc_bold.nii.gz\n",
      "raw_data/derivatives/sub-EN091\\func\\sub-EN091_task-lppEN_run-07_space-MNIColin27_desc-preproc_bold.nii.gz\n",
      "raw_data/derivatives/sub-EN091\\func\\sub-EN091_task-lppEN_run-08_space-MNIColin27_desc-preproc_bold.nii.gz\n"
     ]
    }
   ],
   "source": [
    "language = \"EN\"\n",
    "unsorted_data_dir = \"raw_data/derivatives/\"\n",
    "annotation_file = f\"raw_data/annotation/{language}/lpp{language}_word_information.csv\"\n",
    "random.seed(1234)\n",
    "\n",
    "prepare_dataset.clear_data_dir()\n",
    "##the split is (0.8,0.1,0.1)\n",
    "prepare_dataset.fill_data_dir(unsorted_data_dir, prepare_dataset.config2, language)\n"
   ]
  },
  {
   "cell_type": "code",
   "execution_count": 12,
   "metadata": {},
   "outputs": [
    {
     "ename": "FileNotFoundError",
     "evalue": "[WinError 3] The system cannot find the path specified: 'aux_data/Test/0/CN/'",
     "output_type": "error",
     "traceback": [
      "\u001b[1;31m---------------------------------------------------------------------------\u001b[0m",
      "\u001b[1;31mFileNotFoundError\u001b[0m                         Traceback (most recent call last)",
      "Cell \u001b[1;32mIn [12], line 5\u001b[0m\n\u001b[0;32m      3\u001b[0m \u001b[39mfor\u001b[39;00m run \u001b[39min\u001b[39;00m \u001b[39mrange\u001b[39m(\u001b[39m9\u001b[39m):\n\u001b[0;32m      4\u001b[0m     path \u001b[39m=\u001b[39m \u001b[39mf\u001b[39m\u001b[39m\"\u001b[39m\u001b[39maux_data/\u001b[39m\u001b[39m{\u001b[39;00mphase\u001b[39m}\u001b[39;00m\u001b[39m/\u001b[39m\u001b[39m{\u001b[39;00mrun\u001b[39m}\u001b[39;00m\u001b[39m/\u001b[39m\u001b[39m{\u001b[39;00mlanguage\u001b[39m}\u001b[39;00m\u001b[39m/\u001b[39m\u001b[39m\"\u001b[39m\n\u001b[1;32m----> 5\u001b[0m     \u001b[39mfor\u001b[39;00m file \u001b[39min\u001b[39;00m os\u001b[39m.\u001b[39;49mlistdir(path):\n\u001b[0;32m      6\u001b[0m         file_path \u001b[39m=\u001b[39m \u001b[39mf\u001b[39m\u001b[39m\"\u001b[39m\u001b[39mdata/\u001b[39m\u001b[39m{\u001b[39;00mphase\u001b[39m}\u001b[39;00m\u001b[39m/\u001b[39m\u001b[39m{\u001b[39;00mrun\u001b[39m}\u001b[39;00m\u001b[39m/\u001b[39m\u001b[39m{\u001b[39;00mlanguage\u001b[39m}\u001b[39;00m\u001b[39m/\u001b[39m\u001b[39m{\u001b[39;00mfile\u001b[39m}\u001b[39;00m\u001b[39m\"\u001b[39m\n\u001b[0;32m      7\u001b[0m         shutil\u001b[39m.\u001b[39mmove(\u001b[39mf\u001b[39m\u001b[39m\"\u001b[39m\u001b[39maux_data/\u001b[39m\u001b[39m{\u001b[39;00mphase\u001b[39m}\u001b[39;00m\u001b[39m/\u001b[39m\u001b[39m{\u001b[39;00mrun\u001b[39m}\u001b[39;00m\u001b[39m/\u001b[39m\u001b[39m{\u001b[39;00mlanguage\u001b[39m}\u001b[39;00m\u001b[39m/\u001b[39m\u001b[39m{\u001b[39;00mfile\u001b[39m}\u001b[39;00m\u001b[39m\"\u001b[39m,file_path)\n",
      "\u001b[1;31mFileNotFoundError\u001b[0m: [WinError 3] The system cannot find the path specified: 'aux_data/Test/0/CN/'"
     ]
    }
   ],
   "source": [
    "#Move data back from aux_data/\n",
    "for phase in os.listdir(\"aux_data/\"):\n",
    "    for run in range(9):\n",
    "        path = f\"aux_data/{phase}/{run}/{language}/\"\n",
    "        for file in os.listdir(path):\n",
    "            file_path = f\"data/{phase}/{run}/{language}/{file}\"\n",
    "            shutil.move(f\"aux_data/{phase}/{run}/{language}/{file}\",file_path)\n",
    "            #time.sleep(0.00001)"
   ]
  },
  {
   "cell_type": "code",
   "execution_count": 3,
   "metadata": {},
   "outputs": [
    {
     "name": "stdout",
     "output_type": "stream",
     "text": [
      "{0: ['years', 'picture', 'forest', 'stories', 'boa', 'constrictor', 'copy', 'drawing', 'constrictors', 'prey', '-1', '-1', 'digestion', 'digestion', 'adventures', 'turn', 'pencil', 'number', 'number', '-1', 'grownups', 'drawing', '-1', 'hat', 'drawing', 'hat', 'elephant', 'elephant', 'constrictor', 'grownups', 'things', 'drawing', 'number', 'grownups', 'boa', 'constrictors', '-1', 'history', '-1', 'age', 'age', 'painter', 'failure', 'number', 'grownups', '-1', 'children', 'things', '-1', 'profession', 'airplanes', 'places', 'geography', 'geography', 'glance', 'glance', 'night', 'night', 'contact', 'consequence', 'lot', 'grownups', '-1', 'opinion', '-1', '-1', 'experiment', 'one', '-1', 'understanding', 'understanding', 'hat', 'hat', 'constrictors', 'forests', 'stars', 'level', '-1', 'neckties', 'grownup', 'man', '-1', '-1', 'breakdown', 'years', '-1', 'engine', 'passengers', 'passengers', '-1', 'repairs', 'death', 'water', 'week', 'sand', 'miles', 'habitation', 'sailor', 'ocean', 'surprise', 'surprise', 'voice', '-1', 'sheep', 'sheep', 'sheep', 'feet', 'eyes', 'eyes', '-1', 'man', '-1', '-1', '-1', 'course', 'model', 'fault', 'painter', 'age', '-1', 'constrictors', '-1', 'apparition', 'astonishment', 'miles', 'region', 'fellow', 'fatigue', 'thirst', 'fear', 'middle', 'miles', 'region', '-1', '-1', '-1', '-1', '-1', '-1', 'sheep', 'mystery', '-1', '-1', 'miles', 'danger', 'pocket', 'paper', '-1', 'history', 'history', '-1', '-1', '-1', '-1', 'sheep', 'sheep', 'drawings', 'drawings', 'boa', '-1', 'fellow', '-1', 'constrictor', 'constrictor', 'elephant', 'elephant', '-1', 'sheep', 'sheep', '-1', '-1', '-1', 'one', 'friend', 'friend', '-1', 'ram', 'horns', '-1', 'drawing', 'ones', 'one', 'sheep', 'time', '-1', 'engine', '-1', 'drawing', 'sheep', '-1', 'face', 'judge', 'way', 'sheep', 'grass', '-1', '-1', '-1', 'sheep', 'head', 'drawing', '-1', '-1', '-1', '-1', 'time', 'prince', 'questions', 'questions', 'words', 'chance', '-1', 'airplane', 'time', 'drawing', '-1', 'thing', 'thing', 'airplane', 'airplane', '-1', '-1', 'sky', 'sky', '-1', 'prince', 'peal', 'laughter', 'people', 'misfortunes', '-1', 'sky', 'planet', 'glimpse', 'presence', '-1', 'planet', '-1', 'airplane', 'airplane', '-1', '-1', 'daydream', '-1', 'pocket', 'contemplation', 'treasure', 'curiosity', 'disclosure', 'planets', '-1', 'fellow', '-1', '-1', 'sheep', 'silence', '-1', 'box', 'house', 'house', 'rope', 'day', 'offer', 'prince', 'idea', 'idea', '-1', 'friend', 'laughter', '-1', '-1', 'prince', '-1', '-1', '-1', 'sadness', '-1', '-1'], 1: ['-1', 'thing', 'planet', 'house', '-1', 'planets', 'venus', 'names', 'others', '-1', 'difficulty', 'telescope', 'astronomer', 'name', 'example', 'asteroid', '-1', 'planet', 'prince', '-1', 'asteroid', 'telescope', 'turkish', 'turkish', 'presentation', '-1', 'conference', 'outfit', 'grownups', 'reputation', 'reputation', 'dictator', 'death', 'death', '-1', 'presentation', '-1', 'time', '-1', 'details', '-1', 'number', 'grownups', 'numbers', 'friend', 'things', '-1', 'games', 'butterflies', 'butterflies', 'brothers', 'money', 'father', '-1', 'grownups', 'grownups', 'geraniums', 'doves', '-1', 'minds', '-1', 'house', '-1', '-1', 'prince', '-1', 'sheep', 'sheep', 'sheep', 'shoulders', 'child', 'planet', '-1', '-1', 'questions', 'questions', 'children', 'grownups', 'course', 'life', 'numbers', 'fairy', 'tale', 'time', 'planet', '-1', 'friend', 'life', '-1', 'book', 'sadness', 'memories', 'years', 'friend', '-1', '-1', 'friend', 'friend', 'friend', 'grownups', 'numbers', '-1', 'paints', 'pencils', 'age', '-1', 'constrictor', 'age', 'portraits', '-1', '-1', 'drawings', 'subjects', 'size', 'bit', 'prince', '-1', 'outfit', 'outfit', '-1', 'mistakes', 'points', '-1', 'explanations', '-1', '-1', 'sheep', 'boxes', 'grownups', '-1', 'day', 'trip', 'information', 'thoughts', 'way', 'day', 'tragedy', 'time', 'sheep', '-1', 'doubt', '-1', 'shrubs', '-1', 'i', '-1', 'shrubs', 'prince', 'baobabs', 'baobabs', 'baobabs', 'trees', 'churches', 'elephants', 'herd', 'baobab', 'idea', 'prince', 'prince', 'top', '-1', 'trees', '-1', '-1', 'sheep', 'baobabs', '-1', '-1', 'effort', 'problem', 'help', 'planet', 'planets', 'plants', 'plants', 'seeds', 'seeds', 'seeds', 'sleep', 'earth', 'whim', '-1', '-1', 'sun', 'sprig', 'radish', 'radish', '-1', 'plant', 'plant', '-1', 'seeds', 'prince', 'seeds', 'planet', 'planet', 'baobab', '-1', '-1', 'planet', 'roots', 'planet', 'baobabs', 'pieces', 'discipline', 'prince', '-1', 'planet', '-1', '-1', 'baobabs', 'bushes', '-1', '-1', 'job', 'day', 'day', 'drawing', 'children', '-1', 'day', '-1', 'harm', 'work', 'baobabs', 'catastrophe', 'planet', 'man', 'bushes', 'bushes', '-1', 'planet', 'moralist', 'baobabs', 'risks', '-1', 'asteroid', '-1', '-1', 'baobabs', 'baobabs', 'danger', '-1', '-1', 'lesson', 'means', 'effort', '-1', 'drawings', 'baobabs', 'answer', '-1', 'baobabs', 'sense', 'urgency', '-1', 'way', 'life', 'time', 'softness', 'sunsets', 'detail', 'morning', 'sunsets', 'sunset', 'sunset', '-1', 'sun', '-1', '-1', '-1', 'home', '-1', 'noon', '-1', '-1', '-1', 'minute', 'sunset', '-1', '-1', 'planet', 'steps', 'twilight', '-1', 'sunset', 'times', '-1', 'sunset', 'sunset', 'day', 'times', '-1', 'reply'], 2: ['thanks', 'secret', 'life', '-1', '-1', 'result', 'problem', 'eats', 'flowers', 'sheep', 'sheep', 'thorns', 'flowers', 'thorns', 'thorns', '-1', '-1', 'engine', '-1', 'breakdown', '-1', 'water', '-1', 'thorns', 'thorns', 'question', '-1', 'bolt', 'head', 'use', 'spite', 'spite', 'silence', 'sort', '-1', 'creatures', 'creatures', '-1', '-1', 'thorns', 'reply', 'moment', 'bolt', 'hammer', 'prince', 'thoughts', '-1', 'flowers', '-1', 'mind', 'matters', '-1', 'matters', 'matters', 'hand', 'grease', 'object', '-1', 'grownups', '-1', '-1', '-1', '-1', '-1', 'curls', 'breeze', 'gentleman', 'flower', 'star', '-1', 'sums', 'day', 'matters', 'consequence', 'pride', 'mushroom', 'mushroom', 'prince', 'rage', 'thorns', 'years', 'sheep', 'flowers', 'consequence', '-1', 'thorns', 'war', 'sheep', 'consequence', 'sums', 'redfaced', '-1', 'flower', 'sheep', 'stroke', 'morning', '-1', '-1', '-1', 'flower', '-1', 'stars', 'stars', '-1', 'flower', 'flower', 'stars', 'stars', '-1', '-1', 'tears', 'night', 'tools', 'hammer', 'thirst', 'death', 'star', 'earth', 'prince', 'arms', '-1', 'danger', 'muzzle', 'railing', 'flower', '-1', '-1', '-1', '-1', 'tears', '-1', 'flower', '-1', 'planet', 'prince', 'petals', 'space', '-1', 'grass', 'evening', 'one', 'seed', 'one', 'prince', 'sprout', 'sprouts', 'kind', 'shrub', '-1', 'prince', 'appearance', 'bud', 'apparition', 'flower', 'flower', 'beauty', 'colors', 'colors', 'petals', 'petals', '-1', 'poppies', '-1', 'beauty', '-1', 'creature', 'adornment', 'days', 'days', 'morning', 'sunrise', '-1', 'attention', 'attention', 'yawn', '-1', '-1', '-1', 'admiration', 'admiration', '-1', 'flower', '-1', 'sun', '-1', '-1', '-1', 'time', 'breakfast', 'instant', 'kindness', 'needs', 'prince', 'sprinkling', 'water', 'flower', '-1', 'vanity', 'example', 'thorns', 'prince', 'claws', 'tigers', 'prince', 'tigers', 'weeds', 'flower', '-1', 'tigers', 'tigers', 'screen', 'screen', 'luck', 'prince', 'prince', 'evening', 'glass', 'glass', '-1', '-1', 'form', 'seed', 'worlds', '-1', 'lie', 'times', 'prince', 'screen', 'screen', '-1', 'cough', 'remorse', 'prince', 'love', '-1', 'importance', 'importance', '-1', 'day', 'flowers', 'flowers', 'fragrance', 'planet', 'planet', 'business', 'claws', '-1', 'pity', 'confidences', 'confidences', '-1', 'deeds', 'words', 'light', '-1', 'tenderness', 'flowers', 'flowers', '-1', '-1', 'advantage', 'flock', 'birds', 'departure', 'order', '-1', 'volcanoes', 'volcanoes', 'morning', 'extinct', 'extinct', '-1', 'volcano', 'volcano', 'volcanoes', 'eruptions', 'eruptions', 'chimney', 'earth', 'volcanoes', 'volcanoes', 'trouble', 'prince', 'sadness', 'baobabs', '-1', 'tasks', 'morning', '-1', 'time', '-1', 'dome', 'tears', 'flower', '-1', 'goodbye', 'flower', '-1', '-1', '-1', 'forgiveness', '-1', 'absence', '-1', 'dome', '-1', 'sweetness', 'course', 'flower', 'fault', 'importance', '-1', '-1', 'dome', 'wind', 'cold', 'air', 'flower', 'animals', '-1', '-1', 'butterflies', '-1', '-1', '-1', 'animals', 'animals', 'claws', 'claws', 'thorns', '-1', '-1', '-1', '-1', '-1', 'flower'], 3: ['neighborhood', 'asteroids', '-1', '-1', '-1', '-1', '-1', 'king', 'king', 'purple', 'throne', 'throne', 'king', 'prince', 'prince', '-1', '-1', 'kings', 'world', 'subjects', 'subjects', 'king', '-1', 'king', 'prince', 'planet', 'planet', 'robe', '-1', '-1', '-1', 'king', '-1', '-1', 'prince', 'prince', 'journey', '-1', 'king', '-1', 'yawns', 'curiosity', 'order', '-1', 'prince', 'prince', 'king', '-1', '-1', '-1', 'bit', 'king', 'authority', '-1', 'disobedience', '-1', 'heart', 'orders', 'general', 'general', 'seabird', 'general', '-1', 'fault', '-1', '-1', '-1', 'king', 'fold', '-1', 'planet', 'planet', 'king', 'sire', '-1', 'question', 'question', 'king', '-1', '-1', 'simplicity', 'simplicity', 'king', 'planet', 'stars', '-1', 'prince', 'king', 'rule', '-1', 'stars', 'king', 'king', 'insubordination', 'insubordination', 'wonder', 'wonder', '-1', '-1', '-1', 'sunsets', 'day', 'chair', '-1', 'planet', 'king', 'favour', 'sunset', 'sun', '-1', 'flower', 'butterfly', 'drama', 'general', 'order', 'wrong', 'prince', 'prince', 'person', 'person', 'authority', 'authority', 'people', 'sea', 'revolution', 'right', 'orders', 'sunset', 'sunset', 'question', 'sunset', 'sunset', 'science', 'conditions', '-1', 'prince', '-1', 'king', 'hum', 'hum', '-1', '-1', 'evening', 'minutes', '-1', 'prince', '-1', 'sunset', '-1', 'i', '-1', '-1', 'king', 'subject', 'minister', '-1', 'justice', '-1', '-1', 'king', 'kingdom', 'space', 'carriage', '-1', 'prince', 'glance', 'planet', 'one', 'king', '-1', 'thing', '-1', '-1', '-1', '-1', 'prince', 'prince', '-1', '-1', 'king', 'planet', 'night', 'rat', 'death', 'life', 'justice', 'occasion', '-1', '-1', 'prince', 'death', 'way', 'king', 'prince', 'wish', 'monarch', 'wishes', '-1', 'order', 'example', 'minute', 'conditions', 'conditions', 'answer', 'prince', 'sigh', 'leave', 'king', '-1', 'authority', 'grownups', 'prince', 'prince', 'journey', 'conceited', 'conceited', 'admirer', 'admirer', 'moment', '-1', 'men', 'morning', 'prince', 'hat', 'man', 'salute', 'people', 'way', '-1', 'prince', 'hands', 'man', '-1', 'hands', 'hat', 'salute', 'king', 'king', '-1', 'hands', 'man', 'salute', 'exercise', 'prince', 'game', '-1', 'hat', 'hat', 'man', 'praise', 'praise', 'prince', 'prince', '-1', 'admire', '-1', '-1', 'planet', 'planet', 'planet', '-1', 'prince', 'shoulders', 'interest', 'prince', 'prince', 'grownups', '-1', 'journey', 'planet', 'heavy', 'visit', 'sadness', 'sadness', 'drinker', 'silence', 'bottles', 'bottles', 'bottles', 'drinker', '-1', '-1', 'drinker', 'drinker', 'prince', '-1', '-1', 'drinker', 'head', 'prince', '-1', 'drinking', '-1', 'silence', 'prince', '-1', 'grownups', '-1', 'journey', 'journey'], 4: ['businessman', 'man', '-1', 'prince', 'morning', 'cigarette', 'cigarette', '-1', '-1', '-1', 'morning', '-1', '-1', 'time', '-1', '-1', '-1', '-1', '-1', '-1', '-1', '-1', '-1', 'work', 'man', '-1', '-1', '-1', 'prince', 'question', 'businessman', 'head', 'planet', 'times', 'time', 'scatterbrain', 'scatterbrain', 'noise', 'sum', 'years', 'rheumatism', 'stroll', 'consequence', 'time', '-1', '-1', 'millions', 'businessman', 'hope', 'millions', 'objects', 'sky', 'things', 'bees', 'bees', 'things', 'men', 'man', 'time', 'stars', 'stars', 'stars', 'stars', '-1', '-1', 'man', '-1', 'stars', '-1', '-1', 'stars', 'stars', 'king', 'kings', '-1', '-1', 'stars', '-1', '-1', 'stars', 'stars', 'man', 'prince', 'drinker', 'drinker', 'questions', 'stars', 'businessman', '-1', '-1', '-1', '-1', '-1', 'diamond', '-1', 'island', 'idea', 'patent', 'stars', 'one', '-1', '-1', '-1', '-1', 'businessman', 'consequence', 'consequence', 'prince', '-1', 'scarf', 'neck', 'flower', 'flower', 'stars', 'stars', 'bank', '-1', 'stars', 'paper', 'drawer', '-1', 'prince', 'prince', 'consequence', 'consequence', 'ideas', 'ideas', 'grownups', '-1', 'day', 'volcanoes', 'week', 'one', '-1', 'volcanoes', 'flower', 'use', 'stars', 'mouth', 'response', 'prince', 'grownups', '-1', '-1', 'journey', 'planet', '-1', 'room', '-1', 'lamplighter', 'purpose', 'lamplighter', 'planet', 'people', '-1', '-1', 'man', 'king', 'businessman', 'drinker', 'meaning', 'lamp', 'star', 'flower', 'flower', 'star', 'occupation', 'purpose', '-1', 'planet', 'morning', 'morning', 'orders', 'orders', 'orders', 'lamp', 'evening', '-1', 'orders', 'lamplighter', 'prince', '-1', 'orders', 'lamp', 'lamp', 'handkerchief', 'squares', 'days', 'days', 'evening', 'day', 'night', '-1', 'orders', 'lamplighter', 'tragedy', 'planet', 'orders', '-1', '-1', '-1', 'rest', 'minute', 'lamp', '-1', 'minute', 'minute', 'lamplighter', 'month', 'minutes', 'evening', 'lamp', 'prince', 'lamplighter', 'orders', 'sunsets', 'past', 'chair', 'friend', '-1', 'way', '-1', 'lamplighter', '-1', 'time', 'prince', 'planet', 'strides', 'strides', '-1', 'sun', '-1', 'day', 'good', '-1', 'sleep', 'prince', 'luck', 'morning', 'lamp', 'prince', 'prince', 'man', 'others', 'man', 'businessman', 'businessman', '-1', '-1', '-1', 'sigh', 'man', 'friends', 'planet', '-1', 'people', 'prince', '-1', 'planet', '-1', 'day', 'day'], 5: ['times', 'times', 'gentleman', 'books', '-1', 'explorer', 'prince', 'prince', 'table', '-1', '-1', '-1', 'book', 'prince', 'geographer', 'gentleman', 'geographer', 'seas', 'mountains', 'deserts', 'prince', 'prince', 'profession', 'geographer', 'geographer', 'planet', 'planet', '-1', 'oceans', 'geographer', 'prince', 'mountains', 'geographer', 'towns', 'deserts', 'geographer', 'geographer', 'geographer', 'geographer', 'explorer', 'explorer', 'towns', 'seas', 'deserts', 'geographer', '-1', 'desk', 'questions', 'recollections', 'recollections', 'geographer', 'explorer', 'character', '-1', 'lies', 'books', 'explorer', '-1', 'prince', 'men', 'geographer', 'place', '-1', 'prince', '-1', '-1', 'explorer', 'inquiry', 'discovery', '-1', '-1', 'explorer', 'example', 'question', 'mountain', 'stones', 'geographer', '-1', '-1', 'explorer', 'planet', '-1', 'register', 'recitals', 'pencil', 'explorer', 'proof', '-1', 'geographer', 'prince', 'prince', '-1', 'volcanoes', 'volcanoes', 'one', 'geographer', 'flower', 'flowers', 'geographer', 'thing', 'flowers', '-1', '-1', 'geographer', 'books', 'consequence', 'consequence', '-1', 'changes', '-1', 'water', 'things', 'things', 'volcanoes', '-1', '-1', 'volcanoes', 'consequence', 'geographer', 'thing', 'mountain', '-1', '-1', 'life', 'question', '-1', 'disappearance', 'disappearance', 'disappearance', 'course', 'flower', 'prince', 'thorns', 'world', 'planet', 'planet', 'regret', 'heart', 'place', 'planet', 'geographer', 'reputation', 'prince', 'flower', 'planet', 'earth', 'planet', '-1', 'course', 'kings', 'geographers', 'businessmen', '-1', 'drinkers', 'men', '-1', 'grownups', 'earth', 'invention', 'electricity', 'span', 'continents', 'army', '-1', 'lighters', 'distance', '-1', 'army', 'ballet', 'turn', 'lamplighters', 'lamps', 'bed', 'lamplighters', 'lamplighters', 'dance', 'wings', 'turn', 'indies', 'indies', '-1', '-1', '-1', 'entry', 'stage', '-1', 'lamplighter', 'colleague', 'lamp', 'leisure', 'year', '-1', '-1', 'truth', '-1', 'lamplighters', 'risk', 'planet', 'men', 'earth', 'people', 'earth', '-1', 'meeting', '-1', 'miles', 'miles', 'humanity', '-1', 'course', '-1', 'space', '-1', 'baobabs', 'math', 'numbers', 'chore', 'point', 'prince', 'earth', '-1', '-1', 'planet', 'moon', 'evening', 'evening', 'evening', 'planet', 'planet', 'prince', 'snake', 'snake', 'earth', 'desert', 'earth', 'snake', 'prince', 'eyes', 'sky', 'stars', 'stars', 'day', 'planet', '-1', '-1', 'snake', '-1', 'trouble', 'prince', 'snake', 'snake', 'men', 'prince', 'desert', 'desert', 'snake', 'prince', 'time', 'animal', '-1', 'finger', 'king', 'snake', 'prince', '-1', 'legs', 'travel', '-1', 'snake', '-1', 'ankle', 'bracelet', '-1', 'earth', '-1', '-1', 'prince', 'reply', '-1', 'earth', '-1', '-1', 'planet', '-1', '-1', 'prince', 'riddles', '-1', 'snake', 'prince', 'desert', 'flower', 'petals', 'flower', 'morning', 'morning', 'men', 'prince', 'flower', 'men', 'men', '-1', 'years', '-1', 'roots', 'things', '-1', '-1', 'flower', 'mountain', 'mountains', 'volcanoes', 'knees', 'volcano', 'footstool', 'one', '-1', 'planet', 'people', 'needles', 'morning', 'morning', 'morning', 'echo', 'prince', 'prince', 'echo', 'friends', '-1', '-1', 'echo', 'planet', 'planet', '-1', 'people', 'imagination', '-1', 'flower', '-1', '-1'], 6: ['prince', 'time', 'snow', 'snow', 'roads', 'men', 'morning', 'roses', 'morning', 'morning', 'morning', 'morning', '-1', '-1', 'flower', '-1', 'roses', 'roses', 'roses', 'roses', 'prince', '-1', 'flower', 'flower', 'kind', '-1', '-1', 'garden', '-1', '-1', 'cough', '-1', '-1', 'life', '-1', '-1', '-1', '-1', 'kind', 'kind', '-1', 'volcanoes', 'knees', '-1', '-1', 'grass', 'grass', '-1', 'morning', 'morning', 'prince', '-1', '-1', 'apple', 'tree', 'prince', '-1', '-1', '-1', 'prince', '-1', '-1', '-1', 'prince', 'thought', '-1', 'fox', '-1', 'men', 'prince', 'men', 'guns', 'guns', 'chickens', 'interest', 'chickens', '-1', 'friends', '-1', '-1', '-1', 'bonds', 'bonds', 'fox', '-1', 'boy', 'boys', '-1', 'fox', 'foxes', 'foxes', '-1', '-1', 'world', '-1', '-1', 'prince', 'flower', '-1', 'earth', 'things', '-1', '-1', '-1', 'planet', 'hunters', 'planet', '-1', 'chickens', 'chickens', '-1', '-1', '-1', 'life', 'chickens', 'chickens', 'men', 'bit', '-1', 'sunlight', 'sound', 'footsteps', 'footsteps', '-1', 'burrow', 'music', 'fields', 'bread', 'wheat', 'fields', 'hair', 'gold', '-1', 'wheat', '-1', 'wind', 'wheat', '-1', 'prince', 'time', '-1', '-1', '-1', 'friends', 'things', '-1', 'things', 'tames', 'time', 'time', 'shops', 'shops', 'men', 'friends', 'friend', '-1', 'prince', '-1', '-1', 'way', 'grass', 'eye', 'words', 'misunderstandings', 'day', '-1', 'prince', 'prince', '-1', 'time', 'example', 'afternoon', '-1', 'time', '-1', 'clock', '-1', 'price', 'happiness', 'time', 'heart', 'rites', 'rite', 'prince', '-1', '-1', 'day', 'days', 'hours', 'example', 'thursdays', 'girls', 'village', 'day', 'vineyards', 'hunters', 'days', 'rest', 'rest', '-1', 'time', '-1', '-1', 'fault', 'prince', 'harm', '-1', '-1', 'prince', 'prince', '-1', '-1', '-1', 'color', 'wheat', '-1', 'roses', '-1', 'world', 'goodbye', 'secret', 'prince', 'roses', '-1', '-1', 'one', '-1', 'fox', 'fox', 'others', 'friend', 'friend', 'world', 'roses', '-1', '-1', '-1', 'course', 'rose', 'rose', '-1', '-1', '-1', 'dome', 'screen', 'screen', 'caterpillars', 'butterflies', 'butterflies', '-1', '-1', '-1', '-1', 'goodbye', 'goodbye', 'goodbye', 'secret', 'one', 'heart', '-1', 'eye', '-1', 'eye', '-1', 'time', 'rose', '-1', 'time', 'prince', 'men', 'truth', '-1', '-1', '-1', '-1', '-1', '-1', 'rose', '-1', 'morning', 'morning', 'switchman', 'prince', 'travelers', 'packs', 'trains', 'right', 'left', 'train', 'thunder', 'cabin', 'hurry', 'prince', '-1', 'engineer', 'switchman', '-1', 'direction', '-1', 'prince', 'ones', 'exchange', '-1', 'one', '-1', '-1', '-1', 'travelers', '-1', '-1', 'switchman', '-1', 'children', 'windows', 'children', 'prince', 'doll', 'doll', '-1', '-1', '-1'], 7: ['morning', 'merchant', 'merchant', 'pills', '-1', 'week', 'need', '-1', 'prince', 'merchant', 'calculations', 'minutes', 'week', 'minutes', '-1', '-1', '-1', 'minutes', '-1', 'water', 'water', 'accident', 'story', 'merchant', 'supply', 'i', 'memories', 'yours', 'plane', '-1', '-1', 'spring', 'water', 'fox', 'fellow', 'situation', 'fox', 'thirst', 'thirst', 'reasoning', 'friend', 'friend', '-1', 'friend', 'danger', 'danger', '-1', 'sunshine', '-1', 'thought', '-1', 'weariness', 'weariness', 'immensity', 'desert', '-1', 'hours', 'night', 'stars', 'dream', 'thirst', 'words', 'memory', '-1', '-1', 'question', 'water', 'heart', 'answer', '-1', 'questions', '-1', '-1', 'silence', 'silence', 'flower', 'flower', '-1', '-1', 'folds', 'moonlight', 'desert', 'prince', '-1', 'desert', 'sand', '-1', '-1', 'silence', 'desert', 'prince', 'prince', '-1', '-1', 'radiation', 'sands', 'boy', 'legend', 'treasure', 'one', 'one', 'one', 'enchantment', 'house', 'secret', 'heart', '-1', 'house', 'desert', 'beauty', '-1', '-1', 'fox', 'prince', 'arms', '-1', '-1', '-1', 'treasure', '-1', 'earth', 'moonlight', 'moonlight', 'hair', 'wind', '-1', 'shell', 'shell', '-1', 'lips', 'smile', '-1', 'sleeping', 'devotion', 'flower', 'rose', 'lamp', '-1', '-1', '-1', 'lamps', 'wind', '-1', 'daybreak', 'men', 'stuff', 'trains', 'trains', '-1', 'circles', '-1', '-1', 'wells', 'wells', 'holes', 'one', 'village', 'village', '-1', 'prince', 'prince', 'rope', 'rope', 'pulley', 'pulley', 'weathervane', 'wind', 'prince', 'well', 'well', '-1', '-1', '-1', 'bucket', 'well', 'song', 'ears', 'water', 'sunlight', '-1', 'prince', '-1', '-1', '-1', 'lips', 'eyes', '-1', 'treat', 'water', 'nourishment', 'stars', 'pulley', 'arms', 'heart', 'present', 'lights', 'music', 'tenderness', 'smiles', 'gift', 'gift', 'men', 'prince', 'garden', 'garden', '-1', '-1', '-1', 'rose', 'water', '-1', 'prince', 'eyes', 'heart', '-1', 'water', 'sunrise', 'honey', 'color', '-1', 'sense', 'grief', 'promise', 'prince', '-1', '-1', 'sheep', 'sheep', 'flower', 'pocket', 'prince', 'baobabs', 'bit', 'cabbages', '-1', 'fox', 'ears', 'horns', '-1', '-1', 'fellow', 'constrictors', 'constrictors', '-1', 'children', 'pencil', 'sketch', 'heart', 'plans', 'plans', '-1', '-1', 'earth', 'anniversary', 'anniversary', 'silence', '-1', '-1', 'understanding', 'understanding', 'sorrow', 'question', '-1', 'morning', 'week', '-1', 'miles', 'region', 'place', 'prince', 'prince', '-1', 'anniversary', 'prince', 'prince', 'questions', '-1', '-1', '-1', '-1', '-1', 'engine', 'tomorrow', 'evening', '-1', 'fox', 'risk', '-1'], 8: ['well', 'stone', 'wall', 'evening', 'distance', 'top', 'feet', '-1', '-1', 'spot', 'voice', '-1', 'day', 'place', 'walk', 'wall', '-1', 'prince', 'tracks', 'sand', '-1', 'tonight', 'wall', '-1', 'pause', 'poison', 'poison', '-1', 'heart', 'beat', '-1', '-1', '-1', '-1', 'wall', '-1', 'prince', 'snakes', 'seconds', '-1', 'revolver', 'running', '-1', 'snake', 'sand', 'spray', 'fountain', 'hurry', 'sound', 'wall', 'fellow', 'arms', 'snow', 'snakes', 'snakes', 'muffler', 'temples', '-1', '-1', '-1', 'neck', 'heart', 'bird', 'rifle', '-1', 'engine', '-1', '-1', '-1', 'work', 'answer', 'question', 'today', 'today', 'lot', '-1', '-1', '-1', '-1', 'child', 'child', 'abyss', '-1', '-1', '-1', '-1', 'box', 'sheep', 'muzzle', '-1', '-1', '-1', 'fellow', 'fellow', '-1', 'course', '-1', 'evening', '-1', 'sense', '-1', 'idea', 'laughter', '-1', 'desert', 'desert', '-1', '-1', 'tonight', 'star', 'spot', 'year', '-1', 'dream', 'meeting', 'star', 'question', '-1', '-1', '-1', 'flower', 'star', 'sky', 'stars', 'flowers', '-1', 'water', 'music', 'rope', '-1', '-1', 'stars', 'stars', '-1', 'star', '-1', 'star', 'love', 'stars', 'friends', '-1', 'present', 'fellow', 'fellow', '-1', 'present', '-1', 'water', '-1', 'stars', 'stars', '-1', 'stars', 'others', 'lights', 'scholars', 'problems', 'wealth', 'stars', '-1', 'one', '-1', '-1', 'night', 'night', '-1', '-1', 'stars', 'stars', '-1', 'stars', '-1', 'sorrow', 'heals', 'wounds', '-1', 'friend', '-1', 'window', 'friends', 'friends', 'sky', '-1', 'stars', '-1', 'dirty', 'dirty', '-1', '-1', 'lots', 'bells', '-1', '-1', '-1', 'tonight', '-1', '-1', '-1', 'bit', '-1', '-1', '-1', '-1', '-1', '-1', 'snake', 'snakes', '-1', 'fun', '-1', '-1', 'poison', 'poison', 'night', '-1', 'sound', '-1', '-1', 'pace', '-1', '-1', 'hand', '-1', 'mistake', '-1', '-1', '-1', '-1', '-1', 'body', '-1', '-1', 'shell', 'shells', 'shells', 'bit', 'bit', 'effort', '-1', 'stars', 'wells', '-1', 'water', 'water', '-1', 'fun', '-1', 'bells', 'water', 'water', '-1', '-1', 'place', '-1', '-1', '-1', 'flower', '-1', '-1', '-1', 'use', 'use', 'world', '-1', '-1', '-1', '-1', '-1', 'bit', '-1', 'step', '-1', 'flash', 'ankle', 'instant', 'instant', 'tree', 'tree', 'sand', 'sand', 'course', 'years', 'story', 'companions', '-1', '-1', '-1', 'sorrow', '-1', '-1', 'planet', 'daybreak', 'body', 'body', 'night', 'night', 'bells', '-1', 'thing', 'prince', 'strap', 'strap', 'sheep', 'sheep', 'planet', 'flower', 'flower', '-1', 'flower', 'night', 'sheep', '-1', 'stars', 'times', '-1', 'point', 'evening', 'dome', 'sheep', 'night', 'bells', '-1', 'mystery', '-1', 'prince', 'universe', '-1', 'sheep', '-1', 'rose', 'sky', 'yourselves', 'sheep', 'flower', 'changes', 'changes', 'matter', 'importance', '-1', '-1', 'landscape', 'landscape', 'page', 'page', '-1', 'prince', 'earth', 'landscape', 'landscape', '-1', 'day', 'desert', '-1', '-1', 'star', 'child', '-1', 'hair', '-1', '-1', '-1', 'sorrow', 'sorrow', '-1']}\n",
      "633  = number of classes\n"
     ]
    }
   ],
   "source": [
    "pos = \"NOUN\"\n",
    "\n",
    "oov = \"-1\"\n",
    "binary = False\n",
    "\n",
    "prepare_dataset.prepare_labels(annotation_file, \"data/\", language, pos=pos, oov=oov)\n",
    "\n",
    "#binary = prepare_dataset.convert_to_binary_labels(\"data/\", oov, language)"
   ]
  },
  {
   "cell_type": "code",
   "execution_count": 5,
   "metadata": {},
   "outputs": [
    {
     "name": "stdout",
     "output_type": "stream",
     "text": [
      "['planet', 'flower', 'stars', 'sheep', 'king', 'morning', 'time', 'day', 'geographer', 'grownups', 'one', 'water', 'friend', 'men', 'man']\n",
      "[('planet ', 1770), ('flower ', 1350), ('stars ', 1230), ('sheep ', 990), ('king ', 870), ('morning ', 810), ('time ', 750), ('day ', 630), ('geographer ', 600), ('grownups ', 570), ('one ', 540), ('water ', 540), ('friend ', 510), ('men ', 510), ('man ', 480)]\n"
     ]
    }
   ],
   "source": [
    "all_labels = []\n",
    "for i in os.listdir(\"data\"):\n",
    "    if os.path.isdir(\"data/\"+i):\n",
    "        for phase in os.listdir(\"data/\"+i):\n",
    "            for run in range(9):\n",
    "                path = f\"data/{i}/{run}/{language}/labels.txt\"\n",
    "                with open(path, \"r\") as f:\n",
    "                    lines = f.readlines()\n",
    "                    for l in lines:\n",
    "                        all_labels.append(l.strip(\"\\n\"))\n",
    "\n",
    "from collections import Counter\n",
    "import codecs\n",
    "\n",
    "most_common = Counter(all_labels).most_common()\n",
    "label_dict = {}\n",
    "with codecs.open(\"label_dict.txt\", \"r\", encoding=\"utf-8\") as f:\n",
    "    for i in f.readlines():\n",
    "        k = i.split(\"=\")\n",
    "        label_dict[k[1].strip(\"\\n \")] = k[0]\n",
    "most_common_lemmas = []\n",
    "for i in range(len(most_common)):\n",
    "    lbl = most_common[i][0]\n",
    "    most_common_lemmas.append((label_dict[lbl], most_common[i][1]))\n",
    "\n",
    "vocab15 = []\n",
    "off_set = 2\n",
    "for w, _ in most_common_lemmas[off_set:15+off_set]: #top 15 words\n",
    "    vocab15.append(w.strip())\n",
    "    \n",
    "print(vocab15)\n",
    "print(most_common_lemmas[off_set:15+off_set])"
   ]
  },
  {
   "cell_type": "code",
   "execution_count": 6,
   "metadata": {},
   "outputs": [
    {
     "name": "stdout",
     "output_type": "stream",
     "text": [
      "{0: ['-1', '-1', '-1', '-1', '-1', '-1', '-1', '-1', '-1', '-1', '-1', '-1', '-1', '-1', '-1', '-1', '-1', '-1', 'one', '-1', 'grownups', '-1', '-1', '-1', '-1', '-1', '-1', '-1', '-1', 'grownups', '-1', '-1', '-1', 'grownups', '-1', '-1', '-1', '-1', '-1', '-1', '-1', '-1', '-1', 'one', 'grownups', '-1', '-1', '-1', '-1', '-1', '-1', '-1', '-1', '-1', '-1', '-1', '-1', '-1', '-1', '-1', '-1', 'grownups', '-1', '-1', 'one', '-1', '-1', 'one', '-1', '-1', '-1', '-1', '-1', '-1', '-1', 'stars', '-1', '-1', '-1', '-1', 'man', '-1', '-1', '-1', '-1', '-1', '-1', '-1', '-1', '-1', '-1', '-1', 'water', '-1', '-1', '-1', '-1', '-1', '-1', '-1', '-1', '-1', '-1', 'sheep', 'sheep', 'sheep', '-1', '-1', '-1', '-1', 'man', '-1', '-1', '-1', '-1', '-1', '-1', '-1', 'grownups', '-1', '-1', '-1', '-1', '-1', '-1', '-1', '-1', '-1', '-1', '-1', '-1', '-1', '-1', '-1', '-1', '-1', '-1', '-1', '-1', 'sheep', '-1', 'one', '-1', '-1', '-1', '-1', '-1', '-1', '-1', '-1', '-1', '-1', '-1', '-1', 'sheep', 'sheep', 'one', '-1', 'one', '-1', '-1', '-1', '-1', '-1', '-1', '-1', '-1', 'sheep', 'sheep', '-1', '-1', 'one', 'one', 'friend', 'friend', '-1', 'sheep', '-1', '-1', '-1', '-1', 'one', 'sheep', 'time', '-1', '-1', '-1', '-1', 'sheep', '-1', '-1', '-1', '-1', 'sheep', 'sheep', '-1', '-1', '-1', 'sheep', 'sheep', '-1', '-1', '-1', '-1', '-1', 'time', '-1', '-1', '-1', '-1', '-1', '-1', '-1', 'time', '-1', '-1', '-1', '-1', '-1', '-1', '-1', '-1', '-1', '-1', '-1', '-1', '-1', '-1', '-1', '-1', '-1', '-1', 'planet', '-1', '-1', '-1', 'planet', '-1', '-1', '-1', '-1', '-1', '-1', '-1', 'sheep', '-1', '-1', '-1', '-1', '-1', '-1', '-1', '-1', '-1', 'sheep', '-1', '-1', '-1', '-1', '-1', '-1', 'day', '-1', '-1', '-1', '-1', '-1', 'friend', '-1', '-1', '-1', '-1', '-1', '-1', '-1', '-1', '-1', '-1'], 1: ['-1', '-1', 'planet', '-1', '-1', '-1', '-1', '-1', '-1', 'one', 'one', '-1', 'one', '-1', '-1', '-1', '-1', 'planet', '-1', '-1', '-1', '-1', '-1', '-1', '-1', '-1', '-1', '-1', 'grownups', '-1', '-1', '-1', '-1', '-1', '-1', '-1', '-1', 'time', '-1', '-1', '-1', '-1', 'grownups', 'grownups', 'friend', '-1', '-1', '-1', '-1', '-1', '-1', '-1', '-1', '-1', 'grownups', 'grownups', '-1', '-1', '-1', '-1', '-1', '-1', '-1', '-1', '-1', '-1', 'sheep', 'sheep', 'sheep', '-1', '-1', 'planet', '-1', '-1', '-1', '-1', '-1', 'grownups', '-1', '-1', '-1', '-1', '-1', 'time', 'planet', '-1', 'friend', '-1', '-1', '-1', '-1', '-1', '-1', 'sheep', '-1', '-1', 'friend', 'friend', 'friend', 'grownups', '-1', '-1', '-1', '-1', '-1', '-1', '-1', '-1', '-1', '-1', '-1', '-1', '-1', '-1', '-1', '-1', '-1', '-1', '-1', '-1', '-1', '-1', '-1', 'friend', '-1', '-1', 'sheep', 'sheep', 'grownups', '-1', 'day', 'planet', '-1', '-1', '-1', 'day', '-1', 'time', 'sheep', '-1', '-1', '-1', 'sheep', '-1', '-1', '-1', 'sheep', '-1', '-1', '-1', '-1', '-1', '-1', '-1', '-1', 'one', '-1', '-1', '-1', '-1', '-1', '-1', '-1', '-1', 'sheep', '-1', '-1', '-1', '-1', '-1', '-1', 'planet', '-1', '-1', '-1', '-1', '-1', '-1', '-1', '-1', 'one', '-1', '-1', '-1', '-1', '-1', '-1', '-1', 'one', '-1', '-1', '-1', 'planet', '-1', 'planet', 'planet', '-1', '-1', '-1', 'planet', '-1', 'planet', '-1', '-1', '-1', '-1', '-1', 'planet', '-1', '-1', '-1', '-1', '-1', '-1', '-1', 'day', 'day', '-1', '-1', '-1', 'day', '-1', '-1', 'one', '-1', '-1', 'planet', 'man', '-1', '-1', '-1', 'planet', '-1', '-1', '-1', '-1', '-1', '-1', '-1', '-1', '-1', '-1', '-1', '-1', '-1', '-1', '-1', '-1', '-1', '-1', '-1', '-1', '-1', '-1', '-1', '-1', '-1', '-1', 'time', '-1', '-1', '-1', 'morning', '-1', '-1', '-1', '-1', '-1', '-1', '-1', '-1', '-1', '-1', '-1', '-1', '-1', '-1', 'one', '-1', '-1', '-1', 'planet', '-1', '-1', '-1', 'day', '-1', '-1', '-1', '-1', 'day', '-1', '-1', '-1'], 2: ['day', 'sheep', '-1', '-1', '-1', '-1', '-1', 'sheep', '-1', 'sheep', 'sheep', '-1', '-1', '-1', '-1', '-1', '-1', '-1', '-1', '-1', '-1', 'water', '-1', '-1', '-1', '-1', '-1', '-1', '-1', '-1', '-1', '-1', '-1', '-1', '-1', '-1', '-1', '-1', '-1', '-1', '-1', '-1', '-1', '-1', '-1', '-1', '-1', '-1', '-1', '-1', '-1', '-1', '-1', '-1', '-1', '-1', '-1', '-1', 'grownups', '-1', '-1', '-1', '-1', '-1', '-1', '-1', 'planet', 'flower', 'flower', '-1', '-1', 'day', '-1', '-1', '-1', 'man', '-1', '-1', '-1', '-1', '-1', 'sheep', '-1', '-1', '-1', '-1', '-1', 'sheep', '-1', '-1', '-1', '-1', 'flower', 'sheep', 'one', 'morning', '-1', '-1', '-1', 'flower', 'one', 'stars', 'stars', '-1', 'flower', 'flower', 'stars', 'stars', '-1', '-1', '-1', '-1', '-1', '-1', '-1', '-1', 'planet', 'planet', '-1', '-1', '-1', 'flower', '-1', 'sheep', 'flower', '-1', '-1', '-1', '-1', '-1', '-1', 'flower', '-1', 'planet', '-1', '-1', '-1', '-1', 'morning', '-1', 'one', 'day', 'one', '-1', '-1', '-1', '-1', '-1', '-1', 'flower', '-1', '-1', '-1', 'flower', 'flower', '-1', '-1', '-1', '-1', 'one', '-1', '-1', '-1', '-1', '-1', '-1', '-1', '-1', '-1', 'morning', '-1', '-1', '-1', '-1', '-1', '-1', '-1', '-1', '-1', '-1', '-1', 'flower', '-1', '-1', '-1', '-1', '-1', 'time', 'time', '-1', '-1', '-1', '-1', '-1', 'water', 'flower', '-1', '-1', 'day', '-1', '-1', '-1', '-1', 'planet', '-1', '-1', 'flower', '-1', '-1', '-1', '-1', '-1', '-1', '-1', '-1', 'flower', '-1', '-1', '-1', '-1', '-1', '-1', '-1', '-1', '-1', '-1', '-1', '-1', '-1', '-1', '-1', '-1', '-1', '-1', '-1', '-1', '-1', '-1', 'day', 'day', '-1', '-1', 'planet', 'planet', '-1', '-1', '-1', '-1', '-1', '-1', '-1', '-1', '-1', '-1', '-1', '-1', '-1', '-1', '-1', '-1', '-1', '-1', '-1', 'morning', 'planet', '-1', '-1', '-1', 'morning', 'morning', '-1', '-1', '-1', '-1', '-1', '-1', '-1', '-1', '-1', '-1', '-1', '-1', '-1', '-1', '-1', '-1', '-1', 'morning', '-1', 'time', '-1', '-1', '-1', 'flower', '-1', '-1', 'flower', '-1', '-1', '-1', '-1', '-1', '-1', '-1', '-1', '-1', '-1', '-1', 'flower', '-1', '-1', '-1', '-1', '-1', '-1', '-1', '-1', 'flower', '-1', '-1', '-1', '-1', '-1', '-1', '-1', '-1', '-1', '-1', '-1', '-1', '-1', '-1', '-1', '-1', '-1', 'flower'], 3: ['-1', '-1', '-1', '-1', '-1', '-1', '-1', 'king', 'king', '-1', '-1', '-1', 'king', '-1', '-1', '-1', '-1', '-1', '-1', 'men', '-1', 'king', '-1', 'king', '-1', 'planet', 'planet', '-1', '-1', '-1', '-1', 'king', '-1', '-1', '-1', '-1', '-1', '-1', 'king', '-1', '-1', '-1', '-1', '-1', '-1', '-1', 'king', '-1', '-1', '-1', '-1', 'king', '-1', '-1', '-1', '-1', '-1', '-1', '-1', '-1', '-1', '-1', '-1', '-1', '-1', '-1', '-1', 'king', '-1', '-1', 'planet', 'planet', 'king', '-1', '-1', '-1', '-1', 'king', '-1', '-1', 'king', '-1', 'king', 'planet', 'stars', '-1', '-1', 'king', '-1', '-1', 'stars', 'king', 'king', '-1', '-1', '-1', '-1', '-1', '-1', '-1', '-1', 'day', '-1', '-1', 'planet', 'king', 'king', '-1', '-1', '-1', 'flower', '-1', '-1', '-1', '-1', 'one', '-1', '-1', 'one', '-1', 'king', '-1', '-1', '-1', '-1', '-1', '-1', '-1', '-1', '-1', '-1', '-1', '-1', '-1', '-1', '-1', '-1', 'king', '-1', '-1', '-1', '-1', '-1', '-1', '-1', '-1', '-1', '-1', '-1', '-1', 'king', '-1', 'king', '-1', '-1', '-1', '-1', '-1', '-1', 'king', '-1', '-1', '-1', '-1', '-1', 'one', 'planet', 'one', 'king', '-1', '-1', '-1', '-1', '-1', '-1', '-1', '-1', '-1', '-1', 'king', 'planet', 'planet', '-1', 'time', '-1', '-1', '-1', 'one', '-1', '-1', '-1', '-1', 'king', '-1', '-1', '-1', '-1', '-1', '-1', '-1', '-1', '-1', '-1', 'king', '-1', '-1', '-1', 'king', '-1', '-1', 'grownups', '-1', '-1', '-1', 'planet', 'man', '-1', '-1', 'man', '-1', 'men', 'morning', 'morning', '-1', 'man', '-1', '-1', '-1', '-1', '-1', 'one', 'man', '-1', 'one', 'man', '-1', 'king', 'king', '-1', 'one', 'man', '-1', '-1', '-1', '-1', '-1', '-1', '-1', 'man', '-1', '-1', '-1', '-1', '-1', '-1', '-1', '-1', 'planet', 'planet', 'planet', '-1', '-1', '-1', '-1', '-1', '-1', 'grownups', '-1', '-1', 'planet', '-1', '-1', '-1', '-1', '-1', '-1', '-1', '-1', '-1', '-1', '-1', '-1', '-1', '-1', '-1', '-1', '-1', '-1', '-1', '-1', '-1', '-1', '-1', '-1', '-1', '-1', 'grownups', '-1', '-1', '-1'], 4: ['planet', 'man', '-1', '-1', 'morning', '-1', '-1', '-1', '-1', '-1', 'morning', '-1', '-1', 'time', 'one', '-1', 'one', 'one', 'one', '-1', '-1', '-1', 'one', '-1', 'man', '-1', '-1', 'one', '-1', '-1', '-1', '-1', 'planet', 'planet', 'time', '-1', '-1', '-1', '-1', 'time', '-1', 'time', 'man', 'time', '-1', 'one', '-1', '-1', '-1', '-1', '-1', '-1', '-1', '-1', '-1', '-1', 'men', 'man', 'time', 'stars', 'stars', 'stars', 'stars', 'one', '-1', 'man', '-1', 'stars', '-1', '-1', 'stars', 'stars', 'king', '-1', '-1', '-1', 'stars', '-1', '-1', 'stars', 'stars', 'man', '-1', '-1', '-1', '-1', 'stars', '-1', '-1', '-1', '-1', '-1', '-1', '-1', '-1', '-1', '-1', '-1', 'stars', 'one', '-1', '-1', '-1', '-1', '-1', 'man', '-1', '-1', '-1', '-1', '-1', 'flower', 'flower', 'stars', 'stars', '-1', '-1', 'stars', '-1', '-1', '-1', '-1', '-1', '-1', '-1', '-1', '-1', 'grownups', '-1', 'day', 'day', '-1', 'one', '-1', '-1', 'flower', '-1', 'stars', '-1', '-1', '-1', 'grownups', '-1', '-1', '-1', 'planet', '-1', '-1', '-1', '-1', '-1', '-1', 'planet', 'planet', '-1', '-1', 'man', 'king', 'man', '-1', '-1', '-1', 'one', 'flower', 'flower', 'flower', '-1', '-1', '-1', 'planet', 'morning', 'morning', '-1', '-1', 'morning', '-1', '-1', '-1', '-1', '-1', '-1', '-1', '-1', 'morning', '-1', '-1', '-1', '-1', '-1', 'morning', 'day', '-1', '-1', '-1', '-1', '-1', 'planet', '-1', '-1', '-1', '-1', '-1', '-1', '-1', '-1', 'day', '-1', '-1', '-1', '-1', '-1', '-1', '-1', '-1', '-1', '-1', '-1', '-1', 'friend', '-1', '-1', '-1', '-1', '-1', 'time', '-1', 'planet', '-1', '-1', '-1', '-1', '-1', 'day', '-1', '-1', '-1', '-1', '-1', 'morning', '-1', 'man', '-1', 'man', 'man', 'man', 'man', 'one', 'one', '-1', '-1', '-1', 'man', 'one', 'planet', '-1', '-1', '-1', '-1', 'planet', 'one', 'day', 'day'], 5: ['planet', '-1', '-1', '-1', '-1', '-1', '-1', '-1', '-1', '-1', '-1', '-1', '-1', '-1', 'geographer', '-1', 'geographer', '-1', '-1', '-1', '-1', '-1', '-1', 'geographer', 'geographer', 'planet', 'planet', '-1', '-1', 'geographer', '-1', '-1', 'geographer', 'geographer', '-1', 'geographer', 'geographer', 'geographer', 'geographer', '-1', '-1', 'geographer', '-1', '-1', 'geographer', '-1', '-1', '-1', '-1', '-1', 'geographer', 'geographer', '-1', '-1', '-1', '-1', '-1', '-1', '-1', 'men', 'geographer', '-1', 'one', '-1', '-1', '-1', '-1', '-1', '-1', '-1', '-1', 'one', '-1', '-1', 'one', '-1', 'geographer', '-1', '-1', '-1', 'planet', 'geographer', '-1', '-1', '-1', 'one', '-1', '-1', 'geographer', '-1', '-1', '-1', '-1', 'one', 'one', 'geographer', 'flower', 'flower', 'geographer', '-1', '-1', '-1', '-1', 'geographer', 'geographer', '-1', '-1', '-1', '-1', '-1', 'water', '-1', '-1', '-1', '-1', '-1', '-1', '-1', 'geographer', '-1', '-1', '-1', '-1', '-1', '-1', '-1', '-1', '-1', 'flower', '-1', 'flower', '-1', '-1', '-1', 'planet', 'planet', '-1', '-1', '-1', 'planet', 'geographer', '-1', '-1', 'flower', 'planet', 'planet', 'planet', 'one', '-1', '-1', '-1', '-1', '-1', '-1', 'men', '-1', 'grownups', '-1', '-1', '-1', '-1', '-1', '-1', '-1', '-1', '-1', '-1', '-1', '-1', '-1', '-1', '-1', '-1', '-1', '-1', '-1', '-1', '-1', '-1', '-1', '-1', '-1', '-1', '-1', '-1', '-1', '-1', '-1', '-1', '-1', '-1', 'one', 'one', '-1', '-1', '-1', '-1', 'planet', 'men', 'men', '-1', '-1', '-1', '-1', 'one', '-1', '-1', '-1', '-1', 'grownups', '-1', '-1', '-1', '-1', '-1', '-1', 'time', '-1', '-1', '-1', '-1', '-1', 'planet', '-1', '-1', '-1', '-1', 'planet', 'planet', '-1', '-1', '-1', 'one', '-1', 'one', '-1', '-1', '-1', '-1', 'stars', 'stars', 'day', 'planet', '-1', '-1', '-1', '-1', '-1', 'flower', '-1', '-1', 'men', '-1', '-1', '-1', 'men', '-1', 'time', '-1', '-1', '-1', 'king', 'king', '-1', '-1', '-1', '-1', '-1', '-1', '-1', '-1', '-1', '-1', '-1', '-1', '-1', '-1', '-1', '-1', '-1', '-1', '-1', 'planet', '-1', '-1', '-1', '-1', '-1', '-1', '-1', '-1', 'flower', 'flower', 'one', 'morning', 'morning', 'men', 'men', 'flower', 'men', 'men', '-1', '-1', '-1', '-1', '-1', '-1', '-1', 'flower', '-1', '-1', '-1', '-1', '-1', '-1', 'one', '-1', 'planet', '-1', '-1', 'morning', 'morning', 'morning', 'morning', '-1', '-1', '-1', '-1', '-1', '-1', '-1', 'planet', 'planet', '-1', '-1', '-1', '-1', 'flower', '-1', '-1'], 6: ['-1', 'time', '-1', '-1', '-1', 'men', 'morning', '-1', 'morning', 'morning', 'morning', 'morning', '-1', '-1', 'flower', '-1', '-1', '-1', '-1', '-1', '-1', '-1', 'flower', 'flower', 'one', '-1', 'one', '-1', '-1', '-1', '-1', '-1', '-1', '-1', '-1', '-1', '-1', '-1', 'one', '-1', '-1', '-1', 'one', '-1', '-1', '-1', '-1', '-1', 'morning', 'morning', 'morning', '-1', '-1', '-1', '-1', '-1', '-1', '-1', '-1', '-1', '-1', '-1', '-1', '-1', '-1', '-1', '-1', '-1', 'men', '-1', 'men', '-1', '-1', '-1', '-1', '-1', '-1', '-1', '-1', '-1', '-1', '-1', '-1', '-1', '-1', '-1', '-1', '-1', '-1', '-1', '-1', '-1', '-1', '-1', '-1', '-1', '-1', 'flower', '-1', '-1', '-1', '-1', '-1', '-1', 'planet', '-1', 'planet', '-1', '-1', '-1', '-1', '-1', '-1', '-1', '-1', 'men', 'men', '-1', '-1', '-1', '-1', '-1', '-1', '-1', '-1', '-1', '-1', '-1', '-1', '-1', '-1', '-1', '-1', '-1', '-1', '-1', '-1', '-1', '-1', 'time', '-1', '-1', '-1', 'time', '-1', 'one', 'one', 'one', 'time', 'time', '-1', '-1', 'men', '-1', 'friend', '-1', '-1', '-1', '-1', '-1', '-1', '-1', '-1', '-1', 'day', '-1', 'day', '-1', '-1', 'day', '-1', '-1', '-1', 'time', '-1', '-1', '-1', '-1', '-1', 'time', 'time', '-1', '-1', '-1', '-1', '-1', 'day', 'one', 'one', '-1', '-1', '-1', '-1', 'day', '-1', '-1', 'day', '-1', '-1', '-1', 'time', '-1', '-1', '-1', '-1', '-1', '-1', '-1', '-1', '-1', '-1', '-1', '-1', '-1', '-1', '-1', '-1', '-1', '-1', '-1', '-1', '-1', '-1', '-1', '-1', 'one', '-1', '-1', '-1', '-1', 'friend', 'friend', '-1', '-1', '-1', '-1', 'one', '-1', '-1', '-1', '-1', '-1', '-1', '-1', '-1', '-1', '-1', '-1', '-1', '-1', '-1', '-1', '-1', '-1', '-1', '-1', '-1', 'one', '-1', '-1', '-1', '-1', '-1', '-1', 'time', '-1', '-1', 'time', '-1', 'men', 'men', '-1', '-1', '-1', '-1', '-1', '-1', '-1', '-1', 'morning', 'morning', '-1', '-1', '-1', '-1', '-1', '-1', '-1', '-1', '-1', '-1', '-1', '-1', '-1', '-1', '-1', '-1', '-1', '-1', '-1', '-1', '-1', '-1', 'one', '-1', '-1', '-1', '-1', '-1', '-1', '-1', '-1', '-1', '-1', '-1', '-1', 'time', '-1', '-1', '-1', '-1'], 7: ['morning', 'morning', '-1', '-1', '-1', 'one', '-1', '-1', '-1', 'time', '-1', '-1', '-1', '-1', '-1', '-1', '-1', '-1', '-1', 'water', 'water', 'day', '-1', '-1', 'water', '-1', '-1', '-1', '-1', '-1', '-1', '-1', 'water', 'friend', '-1', '-1', '-1', '-1', '-1', '-1', 'friend', 'friend', '-1', 'friend', '-1', '-1', '-1', '-1', '-1', '-1', '-1', '-1', '-1', '-1', '-1', '-1', '-1', '-1', 'stars', '-1', '-1', '-1', '-1', '-1', '-1', '-1', 'water', '-1', '-1', '-1', '-1', '-1', '-1', '-1', '-1', 'flower', 'flower', '-1', '-1', '-1', '-1', '-1', '-1', '-1', '-1', '-1', '-1', '-1', '-1', '-1', '-1', '-1', '-1', '-1', '-1', '-1', '-1', '-1', '-1', 'one', 'one', 'one', '-1', '-1', '-1', '-1', '-1', '-1', 'stars', '-1', '-1', '-1', '-1', '-1', '-1', '-1', '-1', '-1', '-1', '-1', '-1', '-1', '-1', '-1', '-1', '-1', '-1', '-1', '-1', '-1', '-1', '-1', '-1', '-1', 'flower', '-1', '-1', '-1', '-1', 'one', 'one', '-1', '-1', '-1', 'men', 'men', '-1', '-1', '-1', '-1', '-1', '-1', '-1', '-1', '-1', 'one', 'one', '-1', '-1', '-1', '-1', '-1', '-1', '-1', '-1', '-1', '-1', '-1', '-1', '-1', '-1', '-1', '-1', '-1', '-1', '-1', '-1', 'water', 'water', '-1', 'water', '-1', '-1', '-1', '-1', '-1', '-1', '-1', 'water', '-1', 'stars', 'stars', '-1', '-1', '-1', '-1', '-1', '-1', '-1', '-1', '-1', 'men', '-1', '-1', '-1', '-1', '-1', '-1', '-1', 'water', '-1', '-1', '-1', '-1', '-1', 'water', '-1', '-1', '-1', '-1', '-1', '-1', '-1', '-1', '-1', '-1', 'sheep', 'sheep', 'flower', '-1', '-1', '-1', '-1', '-1', '-1', '-1', '-1', '-1', '-1', '-1', '-1', '-1', '-1', '-1', '-1', '-1', '-1', '-1', '-1', '-1', '-1', '-1', '-1', '-1', '-1', '-1', '-1', '-1', '-1', '-1', '-1', 'one', '-1', 'morning', '-1', '-1', '-1', '-1', '-1', '-1', '-1', '-1', '-1', '-1', '-1', '-1', '-1', '-1', '-1', '-1', '-1', '-1', '-1', '-1', '-1', '-1', '-1', '-1'], 8: ['-1', '-1', '-1', '-1', '-1', '-1', '-1', '-1', '-1', '-1', '-1', '-1', 'day', '-1', '-1', '-1', '-1', '-1', '-1', '-1', '-1', '-1', '-1', '-1', '-1', '-1', '-1', '-1', '-1', '-1', '-1', '-1', '-1', '-1', '-1', '-1', '-1', 'one', '-1', '-1', '-1', '-1', '-1', '-1', '-1', '-1', '-1', '-1', '-1', '-1', 'time', '-1', '-1', '-1', '-1', '-1', '-1', '-1', '-1', '-1', '-1', '-1', '-1', '-1', '-1', '-1', '-1', '-1', '-1', '-1', '-1', '-1', '-1', '-1', '-1', '-1', '-1', '-1', '-1', '-1', '-1', '-1', '-1', '-1', '-1', '-1', 'sheep', 'sheep', '-1', '-1', '-1', '-1', '-1', '-1', '-1', '-1', '-1', '-1', '-1', '-1', '-1', '-1', '-1', '-1', 'water', '-1', '-1', '-1', '-1', '-1', '-1', '-1', '-1', '-1', '-1', '-1', '-1', '-1', '-1', '-1', 'flower', 'flower', '-1', 'stars', 'stars', '-1', 'water', '-1', '-1', '-1', '-1', 'stars', 'stars', '-1', '-1', '-1', 'one', 'stars', 'stars', '-1', '-1', '-1', '-1', '-1', '-1', '-1', '-1', 'water', '-1', 'stars', 'stars', '-1', 'stars', 'stars', '-1', '-1', '-1', '-1', 'stars', '-1', 'one', '-1', '-1', '-1', '-1', 'one', 'one', 'stars', 'stars', '-1', 'stars', '-1', '-1', 'time', '-1', '-1', 'friend', '-1', '-1', '-1', '-1', '-1', '-1', 'stars', '-1', '-1', '-1', '-1', '-1', 'stars', '-1', '-1', '-1', '-1', '-1', '-1', '-1', '-1', '-1', '-1', '-1', '-1', '-1', '-1', '-1', '-1', '-1', '-1', '-1', '-1', '-1', '-1', '-1', '-1', '-1', '-1', '-1', '-1', '-1', '-1', '-1', '-1', '-1', '-1', '-1', '-1', '-1', '-1', '-1', '-1', '-1', '-1', '-1', '-1', '-1', '-1', 'one', '-1', '-1', 'stars', 'stars', '-1', 'water', 'water', '-1', '-1', '-1', '-1', 'water', 'water', '-1', '-1', '-1', '-1', '-1', '-1', 'flower', '-1', '-1', '-1', '-1', '-1', '-1', '-1', '-1', '-1', '-1', '-1', '-1', '-1', 'one', '-1', '-1', '-1', '-1', '-1', '-1', '-1', '-1', '-1', '-1', '-1', '-1', '-1', '-1', '-1', '-1', '-1', '-1', '-1', 'planet', '-1', '-1', '-1', 'stars', '-1', '-1', 'one', '-1', '-1', '-1', '-1', 'sheep', 'sheep', 'planet', 'flower', 'flower', '-1', 'flower', '-1', 'sheep', '-1', 'stars', '-1', '-1', '-1', 'one', '-1', 'sheep', '-1', '-1', '-1', '-1', '-1', '-1', '-1', '-1', 'sheep', '-1', '-1', '-1', '-1', 'sheep', 'flower', '-1', '-1', '-1', '-1', '-1', '-1', '-1', '-1', 'one', '-1', '-1', '-1', '-1', '-1', '-1', 'one', 'day', '-1', '-1', '-1', '-1', '-1', '-1', '-1', '-1', '-1', '-1', '-1', '-1', '-1']}\n",
      "16  = number of classes\n"
     ]
    }
   ],
   "source": [
    "vocab = vocab15\n",
    "prepare_dataset.prepare_handpicked_labels(annotation_file, \"data/\", vocab, oov=oov)"
   ]
  },
  {
   "cell_type": "code",
   "execution_count": 7,
   "metadata": {},
   "outputs": [
    {
     "name": "stdout",
     "output_type": "stream",
     "text": [
      "2\n",
      "moved  0  files\n"
     ]
    }
   ],
   "source": [
    "#Exclude data that corresponds to oov\n",
    "with codecs.open(\"label_dict.txt\", \"r\", encoding=\"utf-8\") as f:\n",
    "    for i in f.readlines():\n",
    "        k = i.split(\"=\")\n",
    "        if k[0].strip() == oov:\n",
    "            label_2_remove = int(k[1].strip(\"\\n \"))\n",
    "            break\n",
    "print(label_2_remove)\n",
    "labels_dict = {}\n",
    "for i in os.listdir(\"data\"):\n",
    "    if os.path.isdir(\"data/\"+i):\n",
    "        for phase in os.listdir(\"data/\"+i):\n",
    "            for run in range(9):\n",
    "                labels = np.loadtxt(f\"data/{i}/{run}/{language}/labels.txt\")\n",
    "                labels_dict[run] = labels\n",
    "\n",
    "exclusion_idxs = {k:[] for k in range(9)}\n",
    "\n",
    "for run in labels_dict.keys():\n",
    "    for idx, label in enumerate(labels_dict[run]):\n",
    "        if label==label_2_remove:\n",
    "            exclusion_idxs[run].append(idx)\n",
    "\n",
    "\n",
    "for i in os.listdir(\"data\"):\n",
    "    if os.path.isdir(\"data/\"+i):\n",
    "        for phase in os.listdir(\"data/\"+i):\n",
    "            for run in range(9):\n",
    "                path = f\"data/{i}/{run}/{language}/labels.txt\"\n",
    "                with open(path, \"r\") as f:\n",
    "                    lines = f.readlines()\n",
    "                with open(path, \"w\") as f:\n",
    "                    for line in lines:\n",
    "                        if line.strip(\"\\n \") != str(label_2_remove):\n",
    "                            f.write(line)\n",
    "\n",
    "count = 0\n",
    "for phase in os.listdir(\"data/\"):\n",
    "    for run in range(9):\n",
    "        path = f\"data/{phase}/{run}/{language}/\"\n",
    "        for file in os.listdir(path):\n",
    "            if file.endswith(\".txt\"):\n",
    "                continue\n",
    "            file_path = f\"data/{phase}/{run}/{language}/{file}\"\n",
    "            idx = file.split(\"_\")[-1][:-4]\n",
    "            if int(idx) in exclusion_idxs[run]:\n",
    "                count +=1 \n",
    "                dest = f\"aux_data/{phase}/{run}/{language}/\"\n",
    "                if not os.path.exists(dest):\n",
    "                    os.makedirs(dest)\n",
    "                shutil.move(file_path, f\"aux_data/{phase}/{run}/{language}/\")\n",
    "                #time.sleep(0.00001)\n",
    "print(\"moved \", count, \" files\")\n"
   ]
  },
  {
   "cell_type": "code",
   "execution_count": 7,
   "metadata": {},
   "outputs": [
    {
     "data": {
      "text/plain": [
       "{'Test': 4328, 'Train': 76206, 'Val': 8793}"
      ]
     },
     "execution_count": 7,
     "metadata": {},
     "output_type": "execute_result"
    }
   ],
   "source": [
    "\n",
    "def count_files():\n",
    "    counts = {}\n",
    "    # Iterate directory\n",
    "    for phase in os.listdir(\"data\"):\n",
    "        if os.path.isdir(\"data/\"+phase):\n",
    "            count=0\n",
    "            for run in os.listdir(f\"data/{phase}/\"):\n",
    "                for file in os.listdir(f\"data/{phase}/{run}/{language}\"):\n",
    "                    if file.endswith(\".npy\"):\n",
    "                        count += 1\n",
    "        counts[phase] = count\n",
    "    return counts\n",
    "\n",
    "count_files()"
   ]
  },
  {
   "cell_type": "code",
   "execution_count": 8,
   "metadata": {},
   "outputs": [],
   "source": [
    "import json\n",
    "with codecs.open(\"config_stats.txt\", \"a\", encoding=\"utf-8\") as f:\n",
    "    f.write(\"\\n\")\n",
    "    for i in most_common_lemmas[3:18]:\n",
    "        f.write(str(i) + \", \")\n",
    "    f.write(\"\\n\")\n",
    "    f.write(json.dumps(count_files()))\n",
    "    f.write(\"\\n\")\n",
    "f.close()"
   ]
  },
  {
   "cell_type": "code",
   "execution_count": 10,
   "metadata": {},
   "outputs": [
    {
     "name": "stdout",
     "output_type": "stream",
     "text": [
      "2022-12-07 19:54:18.589418\n"
     ]
    },
    {
     "ename": "RuntimeError",
     "evalue": "false INTERNAL ASSERT FAILED at \"C:\\\\cb\\\\pytorch_1000000000000\\\\work\\\\c10/cuda/CUDAGraphsC10Utils.h\":74, please report a bug to PyTorch. Unknown CUDA graph CaptureStatus36",
     "output_type": "error",
     "traceback": [
      "\u001b[1;31m---------------------------------------------------------------------------\u001b[0m",
      "\u001b[1;31mRuntimeError\u001b[0m                              Traceback (most recent call last)",
      "Cell \u001b[1;32mIn [10], line 3\u001b[0m\n\u001b[0;32m      1\u001b[0m batch_size\u001b[39m=\u001b[39m\u001b[39m50\u001b[39m\n\u001b[0;32m      2\u001b[0m config \u001b[39m=\u001b[39m \u001b[39mf\u001b[39m\u001b[39m\"\u001b[39m\u001b[39mconfig1_\u001b[39m\u001b[39m{\u001b[39;00mlanguage\u001b[39m}\u001b[39;00m\u001b[39m_top15\u001b[39m\u001b[39m{\u001b[39;00mpos\u001b[39m}\u001b[39;00m\u001b[39m\"\u001b[39m\n\u001b[1;32m----> 3\u001b[0m train_pytorch\u001b[39m.\u001b[39;49mtrain(binary\u001b[39m=\u001b[39;49m\u001b[39mFalse\u001b[39;49;00m, batch_size \u001b[39m=\u001b[39;49m batch_size, num_epochs \u001b[39m=\u001b[39;49m \u001b[39m6\u001b[39;49m, config\u001b[39m=\u001b[39;49mconfig, model \u001b[39m=\u001b[39;49m \u001b[39m\"\u001b[39;49m\u001b[39m2d\u001b[39;49m\u001b[39m\"\u001b[39;49m)\n",
      "File \u001b[1;32mc:\\Users\\kjart\\OneDrive\\Dokumenter\\KU\\3. semester\\Cog sci 3\\CompCogSci3\\mt_deep-master\\scripts\\train_pytorch.py:277\u001b[0m, in \u001b[0;36mtrain\u001b[1;34m(binary, batch_size, num_epochs, config, model)\u001b[0m\n\u001b[0;32m    275\u001b[0m \u001b[39mprint\u001b[39m(t0)\n\u001b[0;32m    276\u001b[0m \u001b[39mif\u001b[39;00m model \u001b[39m==\u001b[39m \u001b[39m\"\u001b[39m\u001b[39m2d\u001b[39m\u001b[39m\"\u001b[39m:\n\u001b[1;32m--> 277\u001b[0m     train_m2dcnn(path, config, nb_classes\u001b[39m=\u001b[39;49mnb_classes, batch_size\u001b[39m=\u001b[39;49mbatch_size, num_epochs\u001b[39m=\u001b[39;49mnum_epochs)\n\u001b[0;32m    278\u001b[0m \u001b[39melse\u001b[39;00m:\n\u001b[0;32m    279\u001b[0m     train_3dcnn(path, config, num_epochs\u001b[39m=\u001b[39mnum_epochs, batch_size\u001b[39m=\u001b[39mbatch_size, nb_classes\u001b[39m=\u001b[39mnb_classes)\n",
      "File \u001b[1;32mc:\\Users\\kjart\\OneDrive\\Dokumenter\\KU\\3. semester\\Cog sci 3\\CompCogSci3\\mt_deep-master\\scripts\\train_pytorch.py:154\u001b[0m, in \u001b[0;36mtrain_m2dcnn\u001b[1;34m(dataset_path, condition, nb_classes, batch_size, num_epochs)\u001b[0m\n\u001b[0;32m    153\u001b[0m \u001b[39mdef\u001b[39;00m \u001b[39mtrain_m2dcnn\u001b[39m(dataset_path, condition,nb_classes \u001b[39m=\u001b[39m \u001b[39m619\u001b[39m,  batch_size \u001b[39m=\u001b[39m \u001b[39m128\u001b[39m, num_epochs \u001b[39m=\u001b[39m \u001b[39m300\u001b[39m):\n\u001b[1;32m--> 154\u001b[0m     seed_everything()\n\u001b[0;32m    156\u001b[0m     \u001b[39m# DataLoader\u001b[39;00m\n\u001b[0;32m    157\u001b[0m     train_dataset \u001b[39m=\u001b[39m lpp_Dataset(dataset_path[\u001b[39m0\u001b[39m], language\u001b[39m=\u001b[39m\u001b[39m\"\u001b[39m\u001b[39mCN\u001b[39m\u001b[39m\"\u001b[39m)\n",
      "File \u001b[1;32mc:\\Users\\kjart\\OneDrive\\Dokumenter\\KU\\3. semester\\Cog sci 3\\CompCogSci3\\mt_deep-master\\scripts\\train_pytorch.py:30\u001b[0m, in \u001b[0;36mseed_everything\u001b[1;34m(seed)\u001b[0m\n\u001b[0;32m     28\u001b[0m os\u001b[39m.\u001b[39menviron[\u001b[39m'\u001b[39m\u001b[39mPYTHONHASHSEED\u001b[39m\u001b[39m'\u001b[39m] \u001b[39m=\u001b[39m \u001b[39mstr\u001b[39m(seed)\n\u001b[0;32m     29\u001b[0m np\u001b[39m.\u001b[39mrandom\u001b[39m.\u001b[39mseed(seed)\n\u001b[1;32m---> 30\u001b[0m torch\u001b[39m.\u001b[39;49mmanual_seed(seed)\n\u001b[0;32m     31\u001b[0m torch\u001b[39m.\u001b[39mcuda\u001b[39m.\u001b[39mmanual_seed(seed)\n\u001b[0;32m     32\u001b[0m torch\u001b[39m.\u001b[39mbackends\u001b[39m.\u001b[39mcudnn\u001b[39m.\u001b[39mdeterministic \u001b[39m=\u001b[39m \u001b[39mTrue\u001b[39;00m\n",
      "File \u001b[1;32mc:\\Users\\kjart\\anaconda3\\envs\\cogSciEnv\\lib\\site-packages\\torch\\random.py:40\u001b[0m, in \u001b[0;36mmanual_seed\u001b[1;34m(seed)\u001b[0m\n\u001b[0;32m     37\u001b[0m \u001b[39mimport\u001b[39;00m \u001b[39mtorch\u001b[39;00m\u001b[39m.\u001b[39;00m\u001b[39mcuda\u001b[39;00m\n\u001b[0;32m     39\u001b[0m \u001b[39mif\u001b[39;00m \u001b[39mnot\u001b[39;00m torch\u001b[39m.\u001b[39mcuda\u001b[39m.\u001b[39m_is_in_bad_fork():\n\u001b[1;32m---> 40\u001b[0m     torch\u001b[39m.\u001b[39;49mcuda\u001b[39m.\u001b[39;49mmanual_seed_all(seed)\n\u001b[0;32m     42\u001b[0m \u001b[39mreturn\u001b[39;00m default_generator\u001b[39m.\u001b[39mmanual_seed(seed)\n",
      "File \u001b[1;32mc:\\Users\\kjart\\anaconda3\\envs\\cogSciEnv\\lib\\site-packages\\torch\\cuda\\random.py:113\u001b[0m, in \u001b[0;36mmanual_seed_all\u001b[1;34m(seed)\u001b[0m\n\u001b[0;32m    110\u001b[0m         default_generator \u001b[39m=\u001b[39m torch\u001b[39m.\u001b[39mcuda\u001b[39m.\u001b[39mdefault_generators[i]\n\u001b[0;32m    111\u001b[0m         default_generator\u001b[39m.\u001b[39mmanual_seed(seed)\n\u001b[1;32m--> 113\u001b[0m _lazy_call(cb, seed_all\u001b[39m=\u001b[39;49m\u001b[39mTrue\u001b[39;49;00m)\n",
      "File \u001b[1;32mc:\\Users\\kjart\\anaconda3\\envs\\cogSciEnv\\lib\\site-packages\\torch\\cuda\\__init__.py:165\u001b[0m, in \u001b[0;36m_lazy_call\u001b[1;34m(callable, **kwargs)\u001b[0m\n\u001b[0;32m    163\u001b[0m \u001b[39mdef\u001b[39;00m \u001b[39m_lazy_call\u001b[39m(callable, \u001b[39m*\u001b[39m\u001b[39m*\u001b[39mkwargs):\n\u001b[0;32m    164\u001b[0m     \u001b[39mif\u001b[39;00m is_initialized():\n\u001b[1;32m--> 165\u001b[0m         callable()\n\u001b[0;32m    166\u001b[0m     \u001b[39melse\u001b[39;00m:\n\u001b[0;32m    167\u001b[0m         \u001b[39m# TODO(torch_deploy): this accesses linecache, which attempts to read the\u001b[39;00m\n\u001b[0;32m    168\u001b[0m         \u001b[39m# file system to get traceback info. Patch linecache or do something\u001b[39;00m\n\u001b[0;32m    169\u001b[0m         \u001b[39m# else here if this ends up being important.\u001b[39;00m\n\u001b[0;32m    170\u001b[0m         \u001b[39mglobal\u001b[39;00m _lazy_seed_tracker\n",
      "File \u001b[1;32mc:\\Users\\kjart\\anaconda3\\envs\\cogSciEnv\\lib\\site-packages\\torch\\cuda\\random.py:111\u001b[0m, in \u001b[0;36mmanual_seed_all.<locals>.cb\u001b[1;34m()\u001b[0m\n\u001b[0;32m    109\u001b[0m \u001b[39mfor\u001b[39;00m i \u001b[39min\u001b[39;00m \u001b[39mrange\u001b[39m(device_count()):\n\u001b[0;32m    110\u001b[0m     default_generator \u001b[39m=\u001b[39m torch\u001b[39m.\u001b[39mcuda\u001b[39m.\u001b[39mdefault_generators[i]\n\u001b[1;32m--> 111\u001b[0m     default_generator\u001b[39m.\u001b[39;49mmanual_seed(seed)\n",
      "\u001b[1;31mRuntimeError\u001b[0m: false INTERNAL ASSERT FAILED at \"C:\\\\cb\\\\pytorch_1000000000000\\\\work\\\\c10/cuda/CUDAGraphsC10Utils.h\":74, please report a bug to PyTorch. Unknown CUDA graph CaptureStatus36"
     ]
    }
   ],
   "source": [
    "batch_size=50\n",
    "config = f\"config1_{language}_top15{pos}\"\n",
    "train_pytorch.train(binary=False, batch_size = batch_size, num_epochs = 6, config=config, model = \"2d\")"
   ]
  },
  {
   "cell_type": "code",
   "execution_count": 19,
   "metadata": {},
   "outputs": [
    {
     "name": "stdout",
     "output_type": "stream",
     "text": [
      "16\n"
     ]
    },
    {
     "data": {
      "application/vnd.jupyter.widget-view+json": {
       "model_id": "5b1a4c1d7a1944088292c488e5263a1b",
       "version_major": 2,
       "version_minor": 0
      },
      "text/plain": [
       "  0%|          | 0/38 [00:00<?, ?it/s]"
      ]
     },
     "metadata": {},
     "output_type": "display_data"
    },
    {
     "name": "stdout",
     "output_type": "stream",
     "text": [
      "..\n",
      "..\n",
      "..\n",
      "..\n",
      "..\n",
      "..\n",
      "..\n",
      "..\n",
      "..\n",
      "..\n",
      "..\n",
      "..\n",
      "..\n",
      "..\n",
      "..\n",
      "..\n",
      "..\n",
      "..\n",
      "..\n",
      "..\n",
      "..\n",
      "..\n",
      "..\n",
      "..\n",
      "..\n",
      "..\n",
      "..\n",
      "..\n",
      "..\n",
      "..\n",
      "..\n",
      "..\n",
      "..\n",
      "..\n",
      "..\n",
      "..\n",
      "..\n",
      "..\n",
      "Test Accuracy: 0.1554\n"
     ]
    },
    {
     "data": {
      "text/plain": [
       "(M2DCNN(\n",
       "   (up_conv): Conv2d(\n",
       "     (conv_block): Sequential(\n",
       "       (0): Conv2d(73, 16, kernel_size=(3, 3), stride=(1, 1))\n",
       "       (1): mish()\n",
       "       (2): MaxPool2d(kernel_size=(2, 2), stride=(2, 2), padding=0, dilation=1, ceil_mode=False)\n",
       "       (3): BatchNorm2d(16, eps=1e-05, momentum=0.1, affine=True, track_running_stats=True)\n",
       "       (4): Conv2d(16, 32, kernel_size=(3, 3), stride=(1, 1))\n",
       "       (5): mish()\n",
       "       (6): MaxPool2d(kernel_size=(2, 2), stride=(2, 2), padding=0, dilation=1, ceil_mode=False)\n",
       "       (7): BatchNorm2d(32, eps=1e-05, momentum=0.1, affine=True, track_running_stats=True)\n",
       "     )\n",
       "   )\n",
       "   (front_conv): Conv2d(\n",
       "     (conv_block): Sequential(\n",
       "       (0): Conv2d(90, 16, kernel_size=(3, 3), stride=(1, 1))\n",
       "       (1): mish()\n",
       "       (2): MaxPool2d(kernel_size=(2, 2), stride=(2, 2), padding=0, dilation=1, ceil_mode=False)\n",
       "       (3): BatchNorm2d(16, eps=1e-05, momentum=0.1, affine=True, track_running_stats=True)\n",
       "       (4): Conv2d(16, 32, kernel_size=(3, 3), stride=(1, 1))\n",
       "       (5): mish()\n",
       "       (6): MaxPool2d(kernel_size=(2, 2), stride=(2, 2), padding=0, dilation=1, ceil_mode=False)\n",
       "       (7): BatchNorm2d(32, eps=1e-05, momentum=0.1, affine=True, track_running_stats=True)\n",
       "     )\n",
       "   )\n",
       "   (left_conv): Conv2d(\n",
       "     (conv_block): Sequential(\n",
       "       (0): Conv2d(74, 16, kernel_size=(3, 3), stride=(1, 1))\n",
       "       (1): mish()\n",
       "       (2): MaxPool2d(kernel_size=(2, 2), stride=(2, 2), padding=0, dilation=1, ceil_mode=False)\n",
       "       (3): BatchNorm2d(16, eps=1e-05, momentum=0.1, affine=True, track_running_stats=True)\n",
       "       (4): Conv2d(16, 32, kernel_size=(3, 3), stride=(1, 1))\n",
       "       (5): mish()\n",
       "       (6): MaxPool2d(kernel_size=(2, 2), stride=(2, 2), padding=0, dilation=1, ceil_mode=False)\n",
       "       (7): BatchNorm2d(32, eps=1e-05, momentum=0.1, affine=True, track_running_stats=True)\n",
       "     )\n",
       "   )\n",
       "   (fc): Sequential(\n",
       "     (0): BatchNorm1d(30880, eps=1e-05, momentum=0.1, affine=True, track_running_stats=True)\n",
       "     (1): Linear(in_features=30880, out_features=128, bias=True)\n",
       "     (2): mish()\n",
       "     (3): BatchNorm1d(128, eps=1e-05, momentum=0.1, affine=True, track_running_stats=True)\n",
       "   )\n",
       "   (clfc): Sequential(\n",
       "     (0): Dropout(p=0.5, inplace=False)\n",
       "     (1): Linear(in_features=128, out_features=16, bias=True)\n",
       "   )\n",
       " ),\n",
       " tensor(0.1554, device='cuda:0', dtype=torch.float64))"
      ]
     },
     "execution_count": 19,
     "metadata": {},
     "output_type": "execute_result"
    },
    {
     "data": {
      "image/png": "[encoded data removed]",
      "text/plain": [
       "<Figure size 640x480 with 2 Axes>"
      ]
     },
     "metadata": {},
     "output_type": "display_data"
    }
   ],
   "source": [
    "import model_m2dcnn as model\n",
    "from torch.utils.data import DataLoader\n",
    "from dataset import lpp_Dataset\n",
    "\n",
    "batch_size = 50\n",
    "binary = False\n",
    "test_dataloader = DataLoader(lpp_Dataset(\"data/Test/\"), batch_size=batch_size, shuffle=False)\n",
    "if binary:\n",
    "        nb_classes = 2\n",
    "else:\n",
    "    with open(\"label_dict.txt\", \"r\") as f:\n",
    "        nb_classes = len(f.readlines())\n",
    "        f.close()\n",
    "print(nb_classes)\n",
    "train_pytorch.test(model.M2DCNN(numClass=nb_classes, numFeatues=30880, DIMX=74, DIMY=90, DIMZ=73), config,f\"results/{config}_weights.pth\", nb_classes, test_dataloader)"
   ]
  },
  {
   "cell_type": "code",
   "execution_count": 3,
   "metadata": {},
   "outputs": [],
   "source": [
    "all = [1593,1215,1107,891,783,729,675,567,540,512,486,486,459,432]"
   ]
  },
  {
   "cell_type": "code",
   "execution_count": 6,
   "metadata": {},
   "outputs": [
    {
     "name": "stdout",
     "output_type": "stream",
     "text": [
      "0.0854703630077295\n"
     ]
    }
   ],
   "source": [
    "tot = sum(all)\n",
    "prob = 0\n",
    "for i in all:\n",
    "    prob += (i/tot)**2\n",
    "\n",
    "print(prob)"
   ]
  },
  {
   "cell_type": "code",
   "execution_count": null,
   "metadata": {},
   "outputs": [],
   "source": [
    "def calc_baseline(lbl = \"data/Test/\", language = \"EN\"):\n",
    "    prob = 0\n",
    "    for i in range(9):\n",
    "        path = lbl +\"/\"+ i + \"/\" + language\n",
    "        if len(os.listdir(path))>1:\n",
    "            with open(path + \"/labels.txt\", \"r\") as f:\n",
    "                "
   ]
  }
 ],
 "metadata": {
  "kernelspec": {
   "display_name": "Python 3.10.8 ('cogSciEnv')",
   "language": "python",
   "name": "python3"
  },
  "language_info": {
   "codemirror_mode": {
    "name": "ipython",
    "version": 3
   },
   "file_extension": ".py",
   "mimetype": "text/x-python",
   "name": "python",
   "nbconvert_exporter": "python",
   "pygments_lexer": "ipython3",
   "version": "3.10.8"
  },
  "orig_nbformat": 4,
  "vscode": {
   "interpreter": {
    "hash": "7ff360d18aa0a4798ffbc891cb04db3ffb7715dadd3b092391258948a1cc687f"
   }
  }
 },
 "nbformat": 4,
 "nbformat_minor": 2
}
