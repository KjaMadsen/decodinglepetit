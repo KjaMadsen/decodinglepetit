{
 "cells": [
  {
   "cell_type": "code",
   "execution_count": 32,
   "metadata": {},
   "outputs": [],
   "source": [
    "#Train, val, Test splitter\n",
    "import os\n",
    "from sklearn.model_selection import train_test_split\n",
    "import shutil\n",
    "import random"
   ]
  },
  {
   "cell_type": "code",
   "execution_count": 33,
   "metadata": {},
   "outputs": [],
   "source": [
    "#Structure\n",
    "#\n",
    "#data - raw_data \n",
    "# |\n",
    "# run (0,1,2,3,...)\n",
    "# |\n",
    "# CN - EN - FR + labels.json\n",
    "# |\n",
    "# MRI-files "
   ]
  },
  {
   "cell_type": "code",
   "execution_count": 44,
   "metadata": {},
   "outputs": [
    {
     "name": "stdout",
     "output_type": "stream",
     "text": [
      "['Test']\n",
      "['0']\n",
      "['CN']\n",
      "[]\n"
     ]
    }
   ],
   "source": [
    "unsorted_data_dir = \"raw_data/derivatives/\"\n",
    "split = (0.8,0.1,0.1)\n",
    "random.seed(1234)\n",
    "#__init__\n",
    "for dirpath,s,files in os.walk(\"data/\"):\n",
    "    for run, scan in enumerate(sorted(files)):\n",
    "        if scan.endswith(\".nii.gz\"): #maybe include labels?\n",
    "            os.remove(os.path.join(dirpath, scan))"
   ]
  },
  {
   "cell_type": "code",
   "execution_count": 86,
   "metadata": {},
   "outputs": [],
   "source": [
    "def get_all_data(unsorted_data_dir):\n",
    "    data = []\n",
    "    for dirpath,_,files in os.walk(unsorted_data_dir):\n",
    "                for run, scan in enumerate(sorted(files)):\n",
    "                    if scan.endswith(\".nii.gz\"):\n",
    "                        data.append((run, os.path.join(dirpath, scan)))\n",
    "    return data\n",
    "\n",
    "def sort_by_subject(data, add_run=False):\n",
    "    output = {sub: [] for sub in os.listdir(unsorted_data_dir)}\n",
    "    for run,file in data:\n",
    "        if add_run:\n",
    "            output[file[len(unsorted_data_dir):len(unsorted_data_dir)+9]].append((run,file))\n",
    "        else:\n",
    "            output[file[len(unsorted_data_dir):len(unsorted_data_dir)+9]].append(file)\n",
    "    return {k:v for k,v in output.items() if len(v)>0}\n",
    "\n",
    "def sort_by_language(data):\n",
    "    output = {\"EN\":[], \"CN\":[], \"FR\":[]}\n",
    "    for run,file in data:\n",
    "        output[file[len(unsorted_data_dir)+4:len(unsorted_data_dir)+6]].append((run,file))\n",
    "    return output\n",
    "\n",
    "data = get_all_data(unsorted_data_dir)"
   ]
  },
  {
   "cell_type": "code",
   "execution_count": 87,
   "metadata": {},
   "outputs": [
    {
     "name": "stdout",
     "output_type": "stream",
     "text": [
      "1\n"
     ]
    }
   ],
   "source": [
    "print(len(data))"
   ]
  },
  {
   "cell_type": "code",
   "execution_count": 88,
   "metadata": {},
   "outputs": [
    {
     "name": "stdout",
     "output_type": "stream",
     "text": [
      "{'SUB-CN001': [(0, 'raw_data/derivatives/SUB-CN001/func/derivatives-sub-CN001-func-sub-CN001_task-lppCN_run-04_space-MNIColin27_desc-preproc_bold.nii.gz')]}\n",
      "SUB-CN001\n"
     ]
    }
   ],
   "source": [
    "#config 1: same language, different subjects\n",
    "#obs: need to make sure that the same subject is not in train/val/test\n",
    "language = \"CN\"\n",
    "relevant_files = sort_by_subject(sort_by_language(data)[language], add_run=True)\n",
    "random.shuffle(relevant_files)\n",
    "split_ = (int(len(relevant_files)*split[0]), int(len(relevant_files)*split[0])+int(len(relevant_files)*split[1])) \n",
    "train = [f for f in list(relevant_files.keys())[:split_[0]]]\n",
    "val = [f for f in list(relevant_files.keys())[split_[0]:split_[1]]]\n",
    "test = [f for f in list(relevant_files.keys())[split_[1]:]]\n",
    "folders = {\"Train\":train, \"Val\":val, \"Test\":test}\n",
    "for k, subs in folders.items():\n",
    "    for sub in subs:\n",
    "        for run, file in relevant_files[sub]:\n",
    "            if not os.path.exists(f\"data/{k}/{run}/{language}/\"):\n",
    "                os.makedirs(f\"data/{k}/{run}/{language}/\")\n",
    "            shutil.copy(file, f\"data/{k}/{run}/{language}/\")\n",
    "    "
   ]
  },
  {
   "cell_type": "code",
   "execution_count": 89,
   "metadata": {},
   "outputs": [
    {
     "ename": "IndexError",
     "evalue": "list index out of range",
     "output_type": "error",
     "traceback": [
      "\u001b[0;31m---------------------------------------------------------------------------\u001b[0m",
      "\u001b[0;31mIndexError\u001b[0m                                Traceback (most recent call last)",
      "Cell \u001b[0;32mIn [89], line 10\u001b[0m\n\u001b[1;32m      8\u001b[0m random\u001b[38;5;241m.\u001b[39mshuffle(subject) \n\u001b[1;32m      9\u001b[0m train \u001b[38;5;241m=\u001b[39m subject[:\u001b[38;5;28mlen\u001b[39m(subject)\u001b[38;5;241m-\u001b[39m\u001b[38;5;241m1\u001b[39m]\n\u001b[0;32m---> 10\u001b[0m val \u001b[38;5;241m=\u001b[39m \u001b[43msubject\u001b[49m\u001b[43m[\u001b[49m\u001b[38;5;241;43m-\u001b[39;49m\u001b[38;5;241;43m2\u001b[39;49m\u001b[43m]\u001b[49m\n\u001b[1;32m     11\u001b[0m test \u001b[38;5;241m=\u001b[39m subject[\u001b[38;5;241m-\u001b[39m\u001b[38;5;241m1\u001b[39m]\n\u001b[1;32m     12\u001b[0m folders \u001b[38;5;241m=\u001b[39m {\u001b[38;5;124m\"\u001b[39m\u001b[38;5;124mTrain\u001b[39m\u001b[38;5;124m\"\u001b[39m:train, \u001b[38;5;124m\"\u001b[39m\u001b[38;5;124mVal\u001b[39m\u001b[38;5;124m\"\u001b[39m:val, \u001b[38;5;124m\"\u001b[39m\u001b[38;5;124mTest\u001b[39m\u001b[38;5;124m\"\u001b[39m:test}\n",
      "\u001b[0;31mIndexError\u001b[0m: list index out of range"
     ]
    }
   ],
   "source": [
    "#config 2: same language, same subject\n",
    "#use only one subject to train/val/test\n",
    "#obs: need to make sure the labels exists in train/val/test\n",
    "\n",
    "language = \"CN\"\n",
    "relevant_files = sort_by_subject(sort_by_language(data)[language])\n",
    "subject = random.choice(list(relevant_files.values())) #choose a random subject for training\n",
    "random.shuffle(subject) \n",
    "train = subject[:len(subject)-1]\n",
    "val = subject[-2]\n",
    "test = subject[-1]\n",
    "folders = {\"Train\":train, \"Val\":val, \"Test\":test}\n",
    "for k, v in folders.items():\n",
    "    for file in v:\n",
    "        if not os.path.exists(f\"data/{k}/{subject}\"):\n",
    "            os.makedirs(f\"data/{k}/{subject}\")\n",
    "        shutil.copy(file, f\"data/{k}/{subject}/\")\n",
    "    "
   ]
  },
  {
   "cell_type": "code",
   "execution_count": null,
   "metadata": {},
   "outputs": [],
   "source": [
    "#config 3: different language\n",
    "train_language = \"CN\"\n",
    "test_language = \"EN\"\n",
    "train_files = sort_by_language(data)[train_language]\n",
    "test_files = sort_by_language(data)[test_language]\n",
    "\n",
    "for run, file in train_files:\n",
    "    if not os.path.exists(f\"data/Train/{run}/{language}/\"):\n",
    "            os.makedirs(f\"data/Train/{run}/{language}/\")\n",
    "    shutil.copy(file, f\"data/Train/{run}/{language}/\")\n",
    "\n",
    "val = test_files.items()[:len(test_files)/2]\n",
    "test = test_files.items()[len(test_files)/2:]\n",
    "folders = {\"Val\":val, \"Test\":test}\n",
    "for k, subs in folders.items():\n",
    "    for run, file in relevant_files[sub]:\n",
    "        if not os.path.exists(f\"data/{k}/{run}/{language}/\"):\n",
    "            os.makedirs(f\"data/{k}/{run}/{language}/\")\n",
    "        shutil.copy(file, f\"data/{k}/{run}/{language}/\")\n",
    "    "
   ]
  }
 ],
 "metadata": {
  "kernelspec": {
   "display_name": "Python 3.10.7 64-bit",
   "language": "python",
   "name": "python3"
  },
  "language_info": {
   "codemirror_mode": {
    "name": "ipython",
    "version": 3
   },
   "file_extension": ".py",
   "mimetype": "text/x-python",
   "name": "python",
   "nbconvert_exporter": "python",
   "pygments_lexer": "ipython3",
   "version": "3.10.7"
  },
  "orig_nbformat": 4,
  "vscode": {
   "interpreter": {
    "hash": "aee8b7b246df8f9039afb4144a1f6fd8d2ca17a180786b69acc140d282b71a49"
   }
  }
 },
 "nbformat": 4,
 "nbformat_minor": 2
}
