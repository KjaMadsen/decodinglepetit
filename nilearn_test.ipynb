{
 "cells": [
  {
   "cell_type": "code",
   "execution_count": 145,
   "metadata": {},
   "outputs": [],
   "source": [
    "#Train, val, Test splitter\n",
    "import os\n",
    "from sklearn.model_selection import train_test_split\n",
    "import shutil\n",
    "import random"
   ]
  },
  {
   "cell_type": "code",
   "execution_count": 139,
   "metadata": {},
   "outputs": [],
   "source": [
    "unsorted_data_dir = \"raw_data/derivatives/\"\n",
    "split = (0.8,0.1,0.1)\n",
    "random.seed(1234)\n",
    "#__init__\n",
    "for dirpath,_,files in os.walk(\"data/\"):\n",
    "    for run, scan in enumerate(sorted(files)):\n",
    "        if scan.endswith(\".nii.gz\"): #maybe include labels?\n",
    "            os.remove(os.path.join(dirpath, scan))"
   ]
  },
  {
   "cell_type": "code",
   "execution_count": 140,
   "metadata": {},
   "outputs": [],
   "source": [
    "\n",
    "\n",
    "def get_all_data(unsorted_data_dir):\n",
    "    data = []\n",
    "    for dirpath,_,files in os.walk(unsorted_data_dir):\n",
    "                for run, scan in enumerate(sorted(files)):\n",
    "                    if scan.endswith(\".nii.gz\"):\n",
    "                        data.append((run, os.path.join(dirpath, scan)))\n",
    "    return data\n",
    "\n",
    "def sort_by_subject(data):\n",
    "    output = {sub: [] for sub in os.listdir(unsorted_data_dir)}\n",
    "    for i in data:\n",
    "        run,file = i\n",
    "        output[file[len(unsorted_data_dir):len(unsorted_data_dir)+9]].append((run,file))\n",
    "    return output\n",
    "\n",
    "def sort_by_language(data):\n",
    "    output = {\"EN\":[], \"CN\":[], \"FR\":[]}\n",
    "    for i in data:\n",
    "        run,file = i\n",
    "        output[file[len(unsorted_data_dir)+4:len(unsorted_data_dir)+6]].append((run,file))\n",
    "    return output\n",
    "\n",
    "data = get_all_data(unsorted_data_dir)"
   ]
  },
  {
   "cell_type": "code",
   "execution_count": 144,
   "metadata": {},
   "outputs": [
    {
     "name": "stdout",
     "output_type": "stream",
     "text": [
      "999\n"
     ]
    }
   ],
   "source": [
    "print(len(data))"
   ]
  },
  {
   "cell_type": "code",
   "execution_count": 149,
   "metadata": {},
   "outputs": [],
   "source": [
    "#config 1: same language, mixed subjects\n",
    "language = \"EN\"\n",
    "relevant_files = [i for _,i in sort_by_language(data)[language]]\n",
    "random.shuffle(relevant_files)\n",
    "split_ = (int(len(relevant_files)*split[0]), int(len(relevant_files)*split[0])+int(len(relevant_files)*split[1])) \n",
    "train = [f for f in relevant_files[:split_[0]]]\n",
    "val = [f for f in relevant_files[split_[0]:split_[1]]]\n",
    "test = [f for f in relevant_files[split_[1]:]]\n",
    "folders = {\"Train\":train, \"Val\":val, \"Test\":test}\n",
    "for k, v in folders.items():\n",
    "    for file in v:\n",
    "        shutil.copy(file, f\"data/{k}/{language}\")\n",
    "    "
   ]
  },
  {
   "cell_type": "code",
   "execution_count": null,
   "metadata": {},
   "outputs": [],
   "source": [
    "#config 2: same language, same subject"
   ]
  },
  {
   "cell_type": "code",
   "execution_count": null,
   "metadata": {},
   "outputs": [],
   "source": [
    "#config 3: different language"
   ]
  },
  {
   "cell_type": "code",
   "execution_count": null,
   "metadata": {},
   "outputs": [],
   "source": []
  }
 ],
 "metadata": {
  "kernelspec": {
   "display_name": "Python 3.9.1 64-bit",
   "language": "python",
   "name": "python3"
  },
  "language_info": {
   "codemirror_mode": {
    "name": "ipython",
    "version": 3
   },
   "file_extension": ".py",
   "mimetype": "text/x-python",
   "name": "python",
   "nbconvert_exporter": "python",
   "pygments_lexer": "ipython3",
   "version": "3.9.1"
  },
  "orig_nbformat": 4,
  "vscode": {
   "interpreter": {
    "hash": "d1342e48b91422693146d497b2a8030f014fedc60a9bc30ab582333e6e4c2682"
   }
  }
 },
 "nbformat": 4,
 "nbformat_minor": 2
}
